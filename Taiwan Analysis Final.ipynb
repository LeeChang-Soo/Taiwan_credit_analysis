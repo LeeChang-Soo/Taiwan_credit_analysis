{
 "cells": [
  {
   "cell_type": "markdown",
   "metadata": {},
   "source": [
    "# Credit Card Default Analysis\n",
    "This notebook will be dedicated to analyzing credit card records from payments in Taiwan. The goal is to create a model to predict the probability of defaulting on a payment. \n",
    "\n",
    "The dataset I am using in this project is aimed at the case of customer default payments in Taiwan (Yeh and Lien, 2006) and compares the predictive accuracy of probability of default among data mining methods, with explanations of each step required to go from the imported data to data that can be used to classify defaults. For classification, I start by applying simple classification algorithms to the problem and assessing their accuracy using various performance metrics, including accuracy, precision, recall, and a ROC curves, when needed. This will conclude the first portion of this project, as this will tell how accurate traditional methods of classification are when trying to predict credit card defaults within this dataset.\n",
    "\n",
    "From the perspective of risk management, the result of predictive accuracy of the estimated probability of default will be more valuable than the binary result of classification - credible or not credible clients. While initial results from training l1 and l2 logistic regression models on the imbalanced dataset were not satisfactory, which I am attributing to the imbalance of outcomes within the dataset, I address this problem by optimizing for recall within Sci-kit learn's 'GridsearchCV' module, and using under and over-sampling techniques from the python package \"imblearn\". I assess and compare the performance metrics among the original, under, and over-sampled models, with results indicating that both over and under-sampling improve the recall rates for predicting credit card defaults by an equivalent amount.\n",
    "\n",
    "**While I was able to maximize the recall rates by using under and over-sampling techniques, the precision rates dropped significantly. For the purpose of this project and the context of this notebook, I will conclude with a statement about optimality of precision and how to proceed.**\n",
    "\n",
    "## Table of Contents\n",
    "1. Data Wrangling and Explanations of Dataset Attributes\n",
    "2. Data Story\n",
    "3. Inferential Statistics\n",
    "4. Basic Logistic Regression and Evaluation\n",
    "5. GridsearchCV to Optimize l1 and l2 Logistic Regression, and Evaluation\n",
    "6. Oversampling and Undersampling Methods on Logistic Regression, and Evaluation\n",
    "7. Stratification of Sampling\n",
    "8. Comparison to New Models\n",
    "\n",
    "# 1. Data Wrangling and Explanations of Dataset Attributes\n",
    "The data contain the following attributes:\n",
    "\n",
    "## Attribute Information:\n",
    "\n",
    "The research employed a binary variable, default payment (Yes = 1, No = 0), as the response variable. The study used the following 23 variables as explanatory variables: \n",
    "- X1: Amount of the given credit (NT dollar): it includes both the individual consumer credit and his/her family (supplementary) credit. \n",
    "- X2: Gender (1 = male; 2 = female). \n",
    "- X3: Education (1 = graduate school; 2 = university; 3 = high school; 4 = other). \n",
    "- X4: Marital status (1 = married; 2 = single; 3 = other). \n",
    "- X5: Age (year). \n",
    "- X6 - X11: History of past payment. They tracked the past monthly payment records (from April to September, 2005) as follows: X6 = the repayment status in September, 2005; X7 = the repayment status in August, 2005; . . .;X11 = the repayment status in April, 2005. The measurement scale for the repayment status is: -1 = duly paid; 1 = payment delay for one month; 2 = payment delay for two months; . . .; 8 = payment delay for eight months; 9 = payment delay for nine months and above. \n",
    "- X12-X17: Amount of bill statement (NT dollar). X12 = amount of bill statement in September, 2005; X13 = amount of bill statement in August, 2005; . . .; X17 = amount of bill statement in April, 2005. \n",
    "- X18-X23: Amount of previous payment (NT dollar). X18 = amount paid in September, 2005; X19 = amount paid in August, 2005; . . .;X23 = amount paid in April, 2005. \n",
    "\n",
    "I'll now load the appropriate packages for later use and load the dataset to begin cleaning and wrangling."
   ]
  },
  {
   "cell_type": "code",
   "execution_count": 1,
   "metadata": {
    "collapsed": true
   },
   "outputs": [],
   "source": [
    "%matplotlib inline\n",
    "\n",
    "import matplotlib\n",
    "import numpy as np\n",
    "import matplotlib.pyplot as plt\n",
    "import pandas as pd\n",
    "import json\n",
    "from pandas.io.json import json_normalize\n",
    "import seaborn as sns\n",
    "from sklearn.metrics import roc_curve, auc, average_precision_score, precision_recall_curve\n",
    "import scipy.stats as stats"
   ]
  },
  {
   "cell_type": "code",
   "execution_count": 2,
   "metadata": {},
   "outputs": [
    {
     "name": "stdout",
     "output_type": "stream",
     "text": [
      "(29986, 24)\n"
     ]
    },
    {
     "data": {
      "text/html": [
       "<div>\n",
       "<style>\n",
       "    .dataframe thead tr:only-child th {\n",
       "        text-align: right;\n",
       "    }\n",
       "\n",
       "    .dataframe thead th {\n",
       "        text-align: left;\n",
       "    }\n",
       "\n",
       "    .dataframe tbody tr th {\n",
       "        vertical-align: top;\n",
       "    }\n",
       "</style>\n",
       "<table border=\"1\" class=\"dataframe\">\n",
       "  <thead>\n",
       "    <tr style=\"text-align: right;\">\n",
       "      <th></th>\n",
       "      <th>LIMIT_BAL</th>\n",
       "      <th>SEX</th>\n",
       "      <th>EDUCATION</th>\n",
       "      <th>MARRIAGE</th>\n",
       "      <th>AGE</th>\n",
       "      <th>PAY_0</th>\n",
       "      <th>PAY_2</th>\n",
       "      <th>PAY_3</th>\n",
       "      <th>PAY_4</th>\n",
       "      <th>PAY_5</th>\n",
       "      <th>...</th>\n",
       "      <th>BILL_AMT4</th>\n",
       "      <th>BILL_AMT5</th>\n",
       "      <th>BILL_AMT6</th>\n",
       "      <th>PAY_AMT1</th>\n",
       "      <th>PAY_AMT2</th>\n",
       "      <th>PAY_AMT3</th>\n",
       "      <th>PAY_AMT4</th>\n",
       "      <th>PAY_AMT5</th>\n",
       "      <th>PAY_AMT6</th>\n",
       "      <th>Y</th>\n",
       "    </tr>\n",
       "  </thead>\n",
       "  <tbody>\n",
       "    <tr>\n",
       "      <th>1</th>\n",
       "      <td>20000</td>\n",
       "      <td>2</td>\n",
       "      <td>2</td>\n",
       "      <td>1</td>\n",
       "      <td>24</td>\n",
       "      <td>2</td>\n",
       "      <td>2</td>\n",
       "      <td>-1</td>\n",
       "      <td>-1</td>\n",
       "      <td>-2</td>\n",
       "      <td>...</td>\n",
       "      <td>0</td>\n",
       "      <td>0</td>\n",
       "      <td>0</td>\n",
       "      <td>0</td>\n",
       "      <td>689</td>\n",
       "      <td>0</td>\n",
       "      <td>0</td>\n",
       "      <td>0</td>\n",
       "      <td>0</td>\n",
       "      <td>1</td>\n",
       "    </tr>\n",
       "    <tr>\n",
       "      <th>2</th>\n",
       "      <td>120000</td>\n",
       "      <td>2</td>\n",
       "      <td>2</td>\n",
       "      <td>2</td>\n",
       "      <td>26</td>\n",
       "      <td>-1</td>\n",
       "      <td>2</td>\n",
       "      <td>0</td>\n",
       "      <td>0</td>\n",
       "      <td>0</td>\n",
       "      <td>...</td>\n",
       "      <td>3272</td>\n",
       "      <td>3455</td>\n",
       "      <td>3261</td>\n",
       "      <td>0</td>\n",
       "      <td>1000</td>\n",
       "      <td>1000</td>\n",
       "      <td>1000</td>\n",
       "      <td>0</td>\n",
       "      <td>2000</td>\n",
       "      <td>1</td>\n",
       "    </tr>\n",
       "    <tr>\n",
       "      <th>3</th>\n",
       "      <td>90000</td>\n",
       "      <td>2</td>\n",
       "      <td>2</td>\n",
       "      <td>2</td>\n",
       "      <td>34</td>\n",
       "      <td>0</td>\n",
       "      <td>0</td>\n",
       "      <td>0</td>\n",
       "      <td>0</td>\n",
       "      <td>0</td>\n",
       "      <td>...</td>\n",
       "      <td>14331</td>\n",
       "      <td>14948</td>\n",
       "      <td>15549</td>\n",
       "      <td>1518</td>\n",
       "      <td>1500</td>\n",
       "      <td>1000</td>\n",
       "      <td>1000</td>\n",
       "      <td>1000</td>\n",
       "      <td>5000</td>\n",
       "      <td>0</td>\n",
       "    </tr>\n",
       "    <tr>\n",
       "      <th>4</th>\n",
       "      <td>50000</td>\n",
       "      <td>2</td>\n",
       "      <td>2</td>\n",
       "      <td>1</td>\n",
       "      <td>37</td>\n",
       "      <td>0</td>\n",
       "      <td>0</td>\n",
       "      <td>0</td>\n",
       "      <td>0</td>\n",
       "      <td>0</td>\n",
       "      <td>...</td>\n",
       "      <td>28314</td>\n",
       "      <td>28959</td>\n",
       "      <td>29547</td>\n",
       "      <td>2000</td>\n",
       "      <td>2019</td>\n",
       "      <td>1200</td>\n",
       "      <td>1100</td>\n",
       "      <td>1069</td>\n",
       "      <td>1000</td>\n",
       "      <td>0</td>\n",
       "    </tr>\n",
       "    <tr>\n",
       "      <th>5</th>\n",
       "      <td>50000</td>\n",
       "      <td>1</td>\n",
       "      <td>2</td>\n",
       "      <td>1</td>\n",
       "      <td>57</td>\n",
       "      <td>-1</td>\n",
       "      <td>0</td>\n",
       "      <td>-1</td>\n",
       "      <td>0</td>\n",
       "      <td>0</td>\n",
       "      <td>...</td>\n",
       "      <td>20940</td>\n",
       "      <td>19146</td>\n",
       "      <td>19131</td>\n",
       "      <td>2000</td>\n",
       "      <td>36681</td>\n",
       "      <td>10000</td>\n",
       "      <td>9000</td>\n",
       "      <td>689</td>\n",
       "      <td>679</td>\n",
       "      <td>0</td>\n",
       "    </tr>\n",
       "  </tbody>\n",
       "</table>\n",
       "<p>5 rows × 24 columns</p>\n",
       "</div>"
      ],
      "text/plain": [
       "   LIMIT_BAL  SEX  EDUCATION  MARRIAGE  AGE  PAY_0  PAY_2  PAY_3  PAY_4  \\\n",
       "1      20000    2          2         1   24      2      2     -1     -1   \n",
       "2     120000    2          2         2   26     -1      2      0      0   \n",
       "3      90000    2          2         2   34      0      0      0      0   \n",
       "4      50000    2          2         1   37      0      0      0      0   \n",
       "5      50000    1          2         1   57     -1      0     -1      0   \n",
       "\n",
       "   PAY_5 ...  BILL_AMT4  BILL_AMT5  BILL_AMT6  PAY_AMT1  PAY_AMT2  PAY_AMT3  \\\n",
       "1     -2 ...          0          0          0         0       689         0   \n",
       "2      0 ...       3272       3455       3261         0      1000      1000   \n",
       "3      0 ...      14331      14948      15549      1518      1500      1000   \n",
       "4      0 ...      28314      28959      29547      2000      2019      1200   \n",
       "5      0 ...      20940      19146      19131      2000     36681     10000   \n",
       "\n",
       "   PAY_AMT4  PAY_AMT5  PAY_AMT6  Y  \n",
       "1         0         0         0  1  \n",
       "2      1000         0      2000  1  \n",
       "3      1000      1000      5000  0  \n",
       "4      1100      1069      1000  0  \n",
       "5      9000       689       679  0  \n",
       "\n",
       "[5 rows x 24 columns]"
      ]
     },
     "execution_count": 2,
     "metadata": {},
     "output_type": "execute_result"
    }
   ],
   "source": [
    "defaults_df = pd.DataFrame.from_csv('default_of_credit_card_clients.csv')\n",
    "defaults_df.shape\n",
    "\n",
    "# Getting rid of first line mistake\n",
    "new_header = defaults_df.iloc[0]\n",
    "defaults_df = defaults_df[1:]\n",
    "defaults_df.rename(columns = new_header)\n",
    "\n",
    "#Renaming columns\n",
    "new_header = list(new_header)\n",
    "new_header[-1] = 'Y'\n",
    "defaults_df.columns = new_header\n",
    "\n",
    "# Changing to numeric\n",
    "defaults_df = defaults_df.apply(pd.to_numeric)\n",
    "\n",
    "# Removing false education values\n",
    "defaults_df = defaults_df[defaults_df.EDUCATION != 0]\n",
    "\n",
    "print(defaults_df.shape)\n",
    "defaults_df.head()"
   ]
  },
  {
   "cell_type": "code",
   "execution_count": 4,
   "metadata": {},
   "outputs": [
    {
     "data": {
      "text/plain": [
       "0"
      ]
     },
     "execution_count": 4,
     "metadata": {},
     "output_type": "execute_result"
    }
   ],
   "source": [
    "# Checking if any rows are blank.\n",
    "defaults_df.shape[0] - defaults_df.dropna().shape[0]"
   ]
  },
  {
   "cell_type": "code",
   "execution_count": 5,
   "metadata": {
    "scrolled": true
   },
   "outputs": [
    {
     "data": {
      "text/plain": [
       "LIMIT_BAL    0\n",
       "SEX          0\n",
       "EDUCATION    0\n",
       "MARRIAGE     0\n",
       "AGE          0\n",
       "PAY_0        0\n",
       "PAY_2        0\n",
       "PAY_3        0\n",
       "PAY_4        0\n",
       "PAY_5        0\n",
       "PAY_6        0\n",
       "BILL_AMT1    0\n",
       "BILL_AMT2    0\n",
       "BILL_AMT3    0\n",
       "BILL_AMT4    0\n",
       "BILL_AMT5    0\n",
       "BILL_AMT6    0\n",
       "PAY_AMT1     0\n",
       "PAY_AMT2     0\n",
       "PAY_AMT3     0\n",
       "PAY_AMT4     0\n",
       "PAY_AMT5     0\n",
       "PAY_AMT6     0\n",
       "Y            0\n",
       "dtype: int64"
      ]
     },
     "execution_count": 5,
     "metadata": {},
     "output_type": "execute_result"
    }
   ],
   "source": [
    "# Missing/Null values?\n",
    "defaults_df.isnull().sum()"
   ]
  },
  {
   "cell_type": "markdown",
   "metadata": {},
   "source": [
    "After running some code to determine how much of the imported dataset was null or not, I found out that none of the columns had missing values. That doesn't mean there are no null values, it just means there are no values that I need to concern myself with, with regards to coverting from NULL or NaN to some logical value (average, median, regressed, etc.). \n",
    "\n",
    "## One-hot encoding\n",
    "One-hot encoding is useful in python to help train any type of model that contains categorical features. One-hot encoding works by encoding variables that take categorical values, as combinations of binary variables representing the occurence of each possible unique categorical value for that variable. In this case, there are 9 different features that contain categorical values. Within those columns, there are varying options for distinction, such as sex having 2 options and history of past payment having 10 different values. One-hot encoding will split each of these columns into columns that have one category in the column, and whether or not that value is present in the row. Going back to the 'sex' category, this will split it into two columns called: \"SEX_male\" and \"SEX_female\", each of which will only contain binary variables.\n",
    "\n",
    "To do this, I will use pandas to mutate the dataframe into something that is ready to use for ML algorithms."
   ]
  },
  {
   "cell_type": "code",
   "execution_count": 6,
   "metadata": {},
   "outputs": [
    {
     "data": {
      "text/plain": [
       "(29986, 91)"
      ]
     },
     "execution_count": 6,
     "metadata": {},
     "output_type": "execute_result"
    }
   ],
   "source": [
    "clf_df = pd.get_dummies(defaults_df, columns=[\"SEX\", \"EDUCATION\", \"MARRIAGE\", \"PAY_0\", \"PAY_2\", \"PAY_3\", \"PAY_4\", \"PAY_5\", \"PAY_6\"],\n",
    "               prefix=[\"SEX\", \"EDU\", \"MARRY\", \"PAY_0\", \"PAY_2\", \"PAY_3\", \"PAY_4\", \"PAY_5\", \"PAY_6\"])\n",
    "clf_df.shape"
   ]
  },
  {
   "cell_type": "markdown",
   "metadata": {},
   "source": [
    "Creted about 80 new columns that are one-hot encodings, which can be thought of as permutations of all the unique values in the categorical columns."
   ]
  },
  {
   "cell_type": "markdown",
   "metadata": {},
   "source": [
    "# 2. Data Story\n",
    "In 2006, Taiwan faced a credit crisis that came to a head in the third quarter of 2006. This all started with banks over-issuing cash and credit to unqualified applicants and was catalyzed by many cardholders, irrespective of their repayment ability, overusing their credit cards for consumption, accruing heavy credit and cash-card debts. This crisis warranted more thorough investigation into improved techniques for assessing the probability of default by each individual consumer.\n",
    "\n",
    "The dataset that is used in this project has been collected by Yeh and Lien (see the reference at the end of this notebook), and consists of \"payment data in October, 2005, from an important bank in Taiwan. In summary, there are 23 features of the dataset that can be explored to get a better understanding of the information provided. Some features are time-series related information, such as the history of past payments, amount of bill statements in NT dollars, and the amount of previous payments. These are abstract concepts and, while they may be informative on their own for a machine learning model, they are quite hard to understand as they are right now, separated by columns for each individual. To rectify this issue, I will construct visualizations that show where the state of the Taiwan economy is from April to September of 2015, by each individual.\n",
    "\n",
    "To do this, I'll construct a parallel coordinates graph for three sets of data: History of past payment (X6-X11), amount of bill statement (X12-X17), and amount of previous payment (X18-X23). Parallel coordinate graphs are especially useful for visualizing trends in clustered or labeled data, but since this dataset is on a continuous scale, I'll start by just observing overall trends."
   ]
  },
  {
   "cell_type": "code",
   "execution_count": 9,
   "metadata": {},
   "outputs": [
    {
     "data": {
      "text/html": [
       "<script>requirejs.config({paths: { 'plotly': ['https://cdn.plot.ly/plotly-latest.min']},});if(!window.Plotly) {{require(['plotly'],function(plotly) {window.Plotly=plotly;});}}</script>"
      ],
      "text/vnd.plotly.v1+html": [
       "<script>requirejs.config({paths: { 'plotly': ['https://cdn.plot.ly/plotly-latest.min']},});if(!window.Plotly) {{require(['plotly'],function(plotly) {window.Plotly=plotly;});}}</script>"
      ]
     },
     "metadata": {},
     "output_type": "display_data"
    }
   ],
   "source": [
    "# Loading relevant packages for data story\n",
    "import plotly.plotly as py\n",
    "import plotly.graph_objs as go\n",
    "from plotly.offline import download_plotlyjs, init_notebook_mode, plot, iplot\n",
    "import plotly.tools as tls\n",
    "init_notebook_mode(connected=True)"
   ]
  },
  {
   "cell_type": "markdown",
   "metadata": {},
   "source": [
    "You'll notice that I am using Plot.ly's graphing package for this job. While matplotlib, seaborn, d3.js, and other graphing packages are great, they have various limitations, including the ability to graph parallel coordinate plots, easily. While plotly can make some really stellar graphics, I've noticed that, when trying to share rendered images, that some variables can be mixed up between graphs (annoying) or that it doesn't render at all (also annoying). However, when it works, it looks great! Since you need to setup a plot.ly username and API key, I suggest trying to save your image to your plot.ly account and paste it whenever you need it.\n",
    "\n",
    "Back to the data story. I'll start by creating 3 different dataframes for each time series variable: previous payment amount, previous bill amounts, and previous payment status. I'll start by plotting previous payment status, which is a categorical variable from -2 to 9, move to previous bill amounts, which is continuous, and end with previous payment amount, also continuous. Each of them will be plotted in sequential order, with the earliest date to the far left."
   ]
  },
  {
   "cell_type": "code",
   "execution_count": 10,
   "metadata": {},
   "outputs": [
    {
     "name": "stdout",
     "output_type": "stream",
     "text": [
      "['PAY_0', 'PAY_2', 'PAY_3', 'PAY_4', 'PAY_5', 'PAY_6']\n",
      "['BILL_AMT1', 'BILL_AMT2', 'BILL_AMT3', 'BILL_AMT4', 'BILL_AMT5', 'BILL_AMT6']\n",
      "['PAY_AMT1', 'PAY_AMT2', 'PAY_AMT3', 'PAY_AMT4', 'PAY_AMT5', 'PAY_AMT6']\n"
     ]
    }
   ],
   "source": [
    "# Breaking the df into 3 separate dfs, because doing 23 dimensions would be nuts\n",
    "df_pay_hist = defaults_df.loc[:,'PAY_0':'PAY_6'].copy()\n",
    "print(list(df_pay_hist))\n",
    "df_bill_amt = defaults_df.loc[:,'BILL_AMT1':'BILL_AMT6'].copy()\n",
    "print(list(df_bill_amt))\n",
    "df_prev_pay = defaults_df.loc[:,'PAY_AMT1':'PAY_AMT6'].copy()\n",
    "print(list(df_prev_pay))\n",
    "\n",
    "# Make an ID column. Just have color-coded from ID1-ID30000\n",
    "df_pay_hist['index_col'] = df_pay_hist.index\n",
    "df_bill_amt['index_col'] = df_bill_amt.index\n",
    "df_prev_pay['index_col'] = df_prev_pay.index"
   ]
  },
  {
   "cell_type": "markdown",
   "metadata": {},
   "source": [
    "## Previous Payment Status\n",
    "First, I am going to try to visualize the payment history of Taiwanese credit card users on a coordinate plot to try and see trends over time. Each x-axis tick has a date associated withi it, so there is no confusion about the time for each x-axis tick. As a reminder, here is a list of what the attributes mean:\n",
    "\n",
    "- X6 = the repayment status in September, 2005; X7 = the repayment status in August, 2005; . . .;X11 = the repayment status in April, 2005. The measurement scale for the repayment status is: -1 = duly paid; 1 = payment delay for one month; 2 = payment delay for two months; . . .; 8 = payment delay for eight months; 9 = payment delay for nine months and above."
   ]
  },
  {
   "cell_type": "code",
   "execution_count": 11,
   "metadata": {},
   "outputs": [
    {
     "data": {
      "text/html": [
       "<iframe id=\"igraph\" scrolling=\"no\" style=\"border:none;\" seamless=\"seamless\" src=\"https://plot.ly/~vdz1192/8.embed\" height=\"525px\" width=\"100%\"></iframe>"
      ],
      "text/plain": [
       "<plotly.tools.PlotlyDisplay object>"
      ]
     },
     "execution_count": 11,
     "metadata": {},
     "output_type": "execute_result"
    }
   ],
   "source": [
    "# Experimenting with df_pay_hist\n",
    "\n",
    " \n",
    "#tls.set_credentials_file(\n",
    " #       username=\"vdz1192\", \n",
    "  #      api_key=\"U2mDsdBvPpOtMj7MCqcy\")\n",
    "\n",
    "# to get your credentials\n",
    "#credentials = tls.get_credentials_file()\n",
    "data = [\n",
    "    go.Parcoords(\n",
    "        line = dict(color = df_pay_hist['index_col'],\n",
    "                   colorscale = 'Jet',\n",
    "                   showscale = True,\n",
    "                   reversescale = True,\n",
    "                   cmin = 0,\n",
    "                   cmax = 30000),\n",
    "        dimensions = list([\n",
    "            dict(range = [-2,9],\n",
    "                 tickvals = [-2,-1,0,1,2,3,4,5,6,7,8,9],\n",
    "                 label = 'PAY_6: April, 2005', values = df_pay_hist['PAY_6']),\n",
    "            dict(range = [-2,9],\n",
    "                 tickvals = [-2,-1,0,1,2,3,4,5,6,7,8,9],\n",
    "                 visible = True,\n",
    "                 label = 'PAY_5: May, 2005', values = df_pay_hist['PAY_5']),\n",
    "            dict(range = [-2,9],\n",
    "                 tickvals = [-2,-1,0,1,2,3,4,5,6,7,8,9],\n",
    "                 label = 'PAY_4: June, 2005', values = df_pay_hist['PAY_4']),\n",
    "            dict(range = [-2,9],\n",
    "                 tickvals = [-2,-1,0,1,2,3,4,5,6,7,8,9],\n",
    "                 label = 'PAY_3: July, 2005', values = df_pay_hist['PAY_3']),\n",
    "            dict(range = [-2,9],\n",
    "                 ticktext = ['-2','-1','0','1','2','3','4','5','6','7','8','9'],\n",
    "                 tickvals = [-2,-1,0,1,2,3,4,5,6,7,8,9],\n",
    "                 label = 'PAY_2: August, 2005', values = df_pay_hist['PAY_2']),\n",
    "            dict(range = [-2,9],\n",
    "                 label = 'PAY_0: September, 2005', values = df_pay_hist['PAY_0'])\n",
    "        ])\n",
    "    )\n",
    "]\n",
    "\n",
    "py.iplot(data, filename = 'parcoords-Pay')"
   ]
  },
  {
   "cell_type": "markdown",
   "metadata": {},
   "source": [
    "Assessing the coordinate plot, we can see that the lines associated with each month and ID are too noisy to draw any serious inferences from the data. \n",
    "\n",
    "## Plotting Monthly Bill Amount\n",
    "Next, I'll create a coordinate plot to examine the monthly bill rate for each customer in the dataset. This will be a messy representation, but I'm just looking for general trends. Here are what the variables mean.\n",
    "- X12-X17: Amount of bill statement (NT dollar)"
   ]
  },
  {
   "cell_type": "code",
   "execution_count": 12,
   "metadata": {},
   "outputs": [
    {
     "data": {
      "text/html": [
       "<iframe id=\"igraph\" scrolling=\"no\" style=\"border:none;\" seamless=\"seamless\" src=\"https://plot.ly/~vdz1192/2.embed\" height=\"525px\" width=\"100%\"></iframe>"
      ],
      "text/plain": [
       "<plotly.tools.PlotlyDisplay object>"
      ]
     },
     "execution_count": 12,
     "metadata": {},
     "output_type": "execute_result"
    }
   ],
   "source": [
    "data = [\n",
    "    go.Parcoords(\n",
    "        line = dict(color = df_bill_amt['index_col'],\n",
    "                   colorscale = 'Jet',\n",
    "                   showscale = True,\n",
    "                   reversescale = True,\n",
    "                   cmin = 0,\n",
    "                   cmax = 30000),\n",
    "        dimensions = list([\n",
    "            dict(range = [-200000,1000000],\n",
    "                 label = 'BILL_AMT6: April, 2005', values = df_bill_amt['BILL_AMT6']),\n",
    "            dict(range = [-200000,1000000],\n",
    "                 label = 'BILL_AMT5: May, 2005', values = df_bill_amt['BILL_AMT5']),\n",
    "            dict(range = [-200000,1000000],\n",
    "                 label = 'BILL_AMT4: June, 2005', values = df_bill_amt['BILL_AMT4']),\n",
    "            dict(range = [-200000,1000000],\n",
    "                 label = 'BILL_AMT3: July, 2005', values = df_bill_amt['BILL_AMT3']),\n",
    "            dict(range = [-200000,1000000],\n",
    "                 label = 'BILL_AMT2: August, 2005', values = df_bill_amt['BILL_AMT2']),\n",
    "            dict(range = [-200000,1000000],\n",
    "                 label = 'BILL_AMT1: September, 2005', values = df_bill_amt['BILL_AMT1'])\n",
    "            \n",
    "        ])\n",
    "    )\n",
    "]\n",
    "\n",
    "py.iplot(data, filename = 'bill-amt')"
   ]
  },
  {
   "cell_type": "markdown",
   "metadata": {},
   "source": [
    "This is interesting. We can see that the general trend of debt accrual is increasing over time. In addition, the variance is increasing. The red line is an intersting customer that likes to accrue debt, but overall there are no distinguishing trends within this dataset other than increasing mean and variance of debt. However, not much can be said about this plot, as there is too much noise within the data.\n",
    "\n",
    "## Plotting Monthly Payments\n",
    "We've seen the amount of debt for all of the customers, now let's look at how much they pay each month. This is in the same scale range as the bill amount.\n",
    "- X18-X23: Amount of previous payment (NT dollar)"
   ]
  },
  {
   "cell_type": "code",
   "execution_count": 13,
   "metadata": {},
   "outputs": [
    {
     "data": {
      "text/html": [
       "<iframe id=\"igraph\" scrolling=\"no\" style=\"border:none;\" seamless=\"seamless\" src=\"https://plot.ly/~vdz1192/10.embed\" height=\"525px\" width=\"100%\"></iframe>"
      ],
      "text/plain": [
       "<plotly.tools.PlotlyDisplay object>"
      ]
     },
     "execution_count": 13,
     "metadata": {},
     "output_type": "execute_result"
    }
   ],
   "source": [
    "data = [\n",
    "    go.Parcoords(\n",
    "        line = dict(color = df_prev_pay['index_col'],\n",
    "                   colorscale = 'Jet',\n",
    "                   showscale = True,\n",
    "                   reversescale = True,\n",
    "                   cmin = 0,\n",
    "                   cmax = 30000),\n",
    "        dimensions = list([\n",
    "            dict(range = [-200000,1000000],\n",
    "                 label = 'PAY_AMT6: April, 2005', values = df_prev_pay['PAY_AMT6']),\n",
    "            dict(range = [-200000,1000000],\n",
    "                 label = 'PAY_AMT5: May, 2005', values = df_prev_pay['PAY_AMT5']),\n",
    "            dict(range = [-200000,1000000],\n",
    "                 label = 'PAY_AMT4: June, 2005', values = df_prev_pay['PAY_AMT4']),\n",
    "            dict(range = [-200000,1000000],\n",
    "                 label = 'PAY_AMT3: July, 2005', values = df_prev_pay['PAY_AMT3']),\n",
    "            dict(range = [-200000,1000000],\n",
    "                 label = 'PAY_AMT2: August, 2005', values = df_prev_pay['PAY_AMT2']),\n",
    "            dict(range = [-200000,1000000],\n",
    "                 label = 'PAY_AMT1: September, 2005', values = df_prev_pay['PAY_AMT1'])\n",
    "            \n",
    "        ])\n",
    "    )\n",
    "]\n",
    "\n",
    "py.iplot(data, filename = 'prev-Pay')"
   ]
  },
  {
   "cell_type": "markdown",
   "metadata": {},
   "source": [
    "There is a clear trend of triangles here. Triangles in a coordinate plot just represent a cylclical process over time. We can see that the vast majority make small payments less than 200k NT Dollars. Sometimes people make large payments, but then they return to a low steady-state of payments. I wonder what this means in terms of economic behavior of the customers? Why pay a large sum one month, wait, then pay another large sum?\n",
    "\n",
    "## Plotting Sub-Ranges of Bill Amounts\n",
    "From the previous analysis, we saw the distribution of debt from various perspectives. However, what does the bill distribution look like over time for people who had between 0-100k NT Dollars in April, 2005? What about the group with 100k-200k in debt in April of that year? The next two plots will assess these questions."
   ]
  },
  {
   "cell_type": "code",
   "execution_count": 14,
   "metadata": {},
   "outputs": [
    {
     "data": {
      "text/html": [
       "<iframe id=\"igraph\" scrolling=\"no\" style=\"border:none;\" seamless=\"seamless\" src=\"https://plot.ly/~vdz1192/2.embed\" height=\"525px\" width=\"100%\"></iframe>"
      ],
      "text/plain": [
       "<plotly.tools.PlotlyDisplay object>"
      ]
     },
     "execution_count": 14,
     "metadata": {},
     "output_type": "execute_result"
    }
   ],
   "source": [
    "# Plotting the credit card holders who had 0-100,000 in debt.\n",
    "data = [\n",
    "    go.Parcoords(\n",
    "        line = dict(color = df_bill_amt['index_col'],\n",
    "                   colorscale = 'Jet',\n",
    "                   showscale = True,\n",
    "                   reversescale = True,\n",
    "                   cmin = 0,\n",
    "                   cmax = 30000),\n",
    "        dimensions = list([\n",
    "            dict(range = [-200000,1000000],\n",
    "                 constraintrange = [0,100000],\n",
    "                 label = 'BILL_AMT6: April, 2005', values = df_bill_amt['BILL_AMT6']),\n",
    "            dict(range = [-200000,1000000],\n",
    "                 label = 'BILL_AMT5: May, 2005', values = df_bill_amt['BILL_AMT5']),\n",
    "            dict(range = [-200000,1000000],\n",
    "                 label = 'BILL_AMT4: June, 2005', values = df_bill_amt['BILL_AMT4']),\n",
    "            dict(range = [-200000,1000000],\n",
    "                 label = 'BILL_AMT3: July, 2005', values = df_bill_amt['BILL_AMT3']),\n",
    "            dict(range = [-200000,1000000],\n",
    "                 label = 'BILL_AMT2: August, 2005', values = df_bill_amt['BILL_AMT2']),\n",
    "            dict(range = [-200000,1000000],\n",
    "                 label = 'BILL_AMT1: September, 2005', values = df_bill_amt['BILL_AMT1'])\n",
    "            \n",
    "        ])\n",
    "    )\n",
    "]\n",
    "\n",
    "py.iplot(data, filename = 'bill-amt')"
   ]
  },
  {
   "cell_type": "code",
   "execution_count": 15,
   "metadata": {},
   "outputs": [
    {
     "data": {
      "text/html": [
       "<iframe id=\"igraph\" scrolling=\"no\" style=\"border:none;\" seamless=\"seamless\" src=\"https://plot.ly/~vdz1192/2.embed\" height=\"525px\" width=\"100%\"></iframe>"
      ],
      "text/plain": [
       "<plotly.tools.PlotlyDisplay object>"
      ]
     },
     "execution_count": 15,
     "metadata": {},
     "output_type": "execute_result"
    }
   ],
   "source": [
    "# Plotting the credit card holders who had 100,000-200,000 in debt.\n",
    "data = [\n",
    "    go.Parcoords(\n",
    "        line = dict(color = df_bill_amt['index_col'],\n",
    "                   colorscale = 'Jet',\n",
    "                   showscale = True,\n",
    "                   reversescale = True,\n",
    "                   cmin = 0,\n",
    "                   cmax = 30000),\n",
    "        dimensions = list([\n",
    "            dict(range = [-200000,1000000],\n",
    "                 constraintrange = [100000, 200000],\n",
    "                 label = 'BILL_AMT6: April, 2005', values = df_bill_amt['BILL_AMT6']),\n",
    "            dict(range = [-200000,1000000],\n",
    "                 label = 'BILL_AMT5: May, 2005', values = df_bill_amt['BILL_AMT5']),\n",
    "            dict(range = [-200000,1000000],\n",
    "                 label = 'BILL_AMT4: June, 2005', values = df_bill_amt['BILL_AMT4']),\n",
    "            dict(range = [-200000,1000000],\n",
    "                 label = 'BILL_AMT3: July, 2005', values = df_bill_amt['BILL_AMT3']),\n",
    "            dict(range = [-200000,1000000],\n",
    "                 label = 'BILL_AMT2: August, 2005', values = df_bill_amt['BILL_AMT2']),\n",
    "            dict(range = [-200000,1000000],\n",
    "                 label = 'BILL_AMT1: September, 2005', values = df_bill_amt['BILL_AMT1'])\n",
    "            \n",
    "        ])\n",
    "    )\n",
    "]\n",
    "\n",
    "py.iplot(data, filename = 'bill-amt')"
   ]
  },
  {
   "cell_type": "markdown",
   "metadata": {},
   "source": [
    "The plots of the subset of the population are similar in that they show an increase in variance in the bill amount over time and a gradual increase in the mean bill amount. However, these visualizations are not capable of quantifying how much the mean increased for each subset over time. This is something that I will leave for future work.\n",
    "\n",
    "## Parallel Coordinate Summary\n",
    "- The bill amount seems fairly steady over time, with a slight increase in average debt and increase in the variance of debt. \n",
    "- The payments fluctuate each month, with the average being below the average payments. Also, note how cyclical the payments are. It's almost as if the consumer saves more one month, then pays off the bill, then saves, then pays, and so on. \n",
    "- The last two plots are the parallel coordinate plots for customers who started with 0-100k and 100k-200k NT Dollars of debt. These graphs show a gradual creep upwards and away from the starting average debt, something that was more significant with the 0-100k range of values. Each coordinate plot showed an increase in the variance in the amount of debt.\n",
    "\n",
    "Usually, parallel coordinate plots work better whenever there are groups and you want to see how those groups interact. For example, using Fisher's iris flower dataset to observe the changes between variables. Here, I arbitrarly grouped some users who I thought would be more responsible with payments, people with debt between 0-100k NT Dollars, and found that even here, they accumulated debt.  I then graphed 100k-200k NT Dollars and saw a similar trend. Had I chosen a monther earlier or later, it could have been a totally different group of people. While the decision of where to graph the subsets of the population was arbitrary, the graphs were still noteworthy as the mean and variance increased over time for each subset of the population.\n",
    "\n",
    "## Scatter Plots: Among Independent and Dependent Variables\n",
    "Since we have seen the time series portion of this dataset, let's now focus on assessing correlation between independent and dependent variables. To do this, I'll create a correlation matrix among the non-time series related variables and the dependent outcome."
   ]
  },
  {
   "cell_type": "code",
   "execution_count": 16,
   "metadata": {},
   "outputs": [
    {
     "name": "stdout",
     "output_type": "stream",
     "text": [
      "   LIMIT_BAL  SEX  EDUCATION  MARRIAGE  AGE  Y\n",
      "1      20000    2          2         1   24  1\n",
      "2     120000    2          2         2   26  1\n",
      "3      90000    2          2         2   34  0\n",
      "4      50000    2          2         1   37  0\n",
      "5      50000    1          2         1   57  0\n"
     ]
    },
    {
     "data": {
      "text/plain": [
       "array([[<matplotlib.axes._subplots.AxesSubplot object at 0x10f1c4550>,\n",
       "        <matplotlib.axes._subplots.AxesSubplot object at 0x114343128>,\n",
       "        <matplotlib.axes._subplots.AxesSubplot object at 0x11467de80>,\n",
       "        <matplotlib.axes._subplots.AxesSubplot object at 0x1143213c8>,\n",
       "        <matplotlib.axes._subplots.AxesSubplot object at 0x11459eb00>,\n",
       "        <matplotlib.axes._subplots.AxesSubplot object at 0x1144b8ba8>],\n",
       "       [<matplotlib.axes._subplots.AxesSubplot object at 0x1142cdb70>,\n",
       "        <matplotlib.axes._subplots.AxesSubplot object at 0x1142faf28>,\n",
       "        <matplotlib.axes._subplots.AxesSubplot object at 0x1145e04e0>,\n",
       "        <matplotlib.axes._subplots.AxesSubplot object at 0x1145ee4e0>,\n",
       "        <matplotlib.axes._subplots.AxesSubplot object at 0x11533c080>,\n",
       "        <matplotlib.axes._subplots.AxesSubplot object at 0x1153449b0>],\n",
       "       [<matplotlib.axes._subplots.AxesSubplot object at 0x115bb9128>,\n",
       "        <matplotlib.axes._subplots.AxesSubplot object at 0x115bfbac8>,\n",
       "        <matplotlib.axes._subplots.AxesSubplot object at 0x115c4deb8>,\n",
       "        <matplotlib.axes._subplots.AxesSubplot object at 0x115c9a748>,\n",
       "        <matplotlib.axes._subplots.AxesSubplot object at 0x115cf87f0>,\n",
       "        <matplotlib.axes._subplots.AxesSubplot object at 0x115f95668>],\n",
       "       [<matplotlib.axes._subplots.AxesSubplot object at 0x1160278d0>,\n",
       "        <matplotlib.axes._subplots.AxesSubplot object at 0x116092be0>,\n",
       "        <matplotlib.axes._subplots.AxesSubplot object at 0x1160a34e0>,\n",
       "        <matplotlib.axes._subplots.AxesSubplot object at 0x1161309b0>,\n",
       "        <matplotlib.axes._subplots.AxesSubplot object at 0x1161b94e0>,\n",
       "        <matplotlib.axes._subplots.AxesSubplot object at 0x11620d780>],\n",
       "       [<matplotlib.axes._subplots.AxesSubplot object at 0x116740160>,\n",
       "        <matplotlib.axes._subplots.AxesSubplot object at 0x11679c208>,\n",
       "        <matplotlib.axes._subplots.AxesSubplot object at 0x117822f28>,\n",
       "        <matplotlib.axes._subplots.AxesSubplot object at 0x1178501d0>,\n",
       "        <matplotlib.axes._subplots.AxesSubplot object at 0x1178bd668>,\n",
       "        <matplotlib.axes._subplots.AxesSubplot object at 0x1178c77f0>],\n",
       "       [<matplotlib.axes._subplots.AxesSubplot object at 0x11b105b70>,\n",
       "        <matplotlib.axes._subplots.AxesSubplot object at 0x115c72358>,\n",
       "        <matplotlib.axes._subplots.AxesSubplot object at 0x11b1a0b00>,\n",
       "        <matplotlib.axes._subplots.AxesSubplot object at 0x11b1e84a8>,\n",
       "        <matplotlib.axes._subplots.AxesSubplot object at 0x11b23c8d0>,\n",
       "        <matplotlib.axes._subplots.AxesSubplot object at 0x11b28a128>]], dtype=object)"
      ]
     },
     "execution_count": 16,
     "metadata": {},
     "output_type": "execute_result"
    },
    {
     "data": {
      "image/png": "[encoded data removed]",
      "text/plain": [
       "<matplotlib.figure.Figure at 0x113bc3c88>"
      ]
     },
     "metadata": {},
     "output_type": "display_data"
    }
   ],
   "source": [
    "from pandas.plotting import scatter_matrix\n",
    "# Create new matrix of isolated variables to plot\n",
    "scatter_df = defaults_df[['LIMIT_BAL','SEX','EDUCATION','MARRIAGE','AGE','Y']]\n",
    "scatter_df = scatter_df.apply(pd.to_numeric)\n",
    "# define colors list, to be used to plot survived either red (=1) or green (=0)\n",
    "colors=['green','red']\n",
    "print(scatter_df.head())\n",
    "scatter_matrix(scatter_df, alpha=0.2, figsize=(15,15), c=scatter_df.Y.apply(lambda x:colors[x]))"
   ]
  },
  {
   "cell_type": "markdown",
   "metadata": {},
   "source": [
    "These scatter plots are rather noisy and not really formatted to display information that well. I have looked for a 'jitter' option within pandas plotting to allow for the density of the points to be displayed, rather than just a single point. For example, we cannot infer anything about the relation between education and defaulting with the current information, as each dot is superimposed over another, distorting any information that might be relayed easily here. As well, it would be nice for the categories to have space around the edges so that readers don't confuse categories and their distributions. I know how to do this in ggplot for R, but am still relatively new to plotting in Python, so I'll experiment with packages to achieve these goals later.\n",
    "\n",
    "For now, I'll plot a correlation matrix to see if we might have any confounding independent variables."
   ]
  },
  {
   "cell_type": "code",
   "execution_count": 17,
   "metadata": {},
   "outputs": [
    {
     "data": {
      "text/plain": [
       "<matplotlib.axes._subplots.AxesSubplot at 0x11b51ee80>"
      ]
     },
     "execution_count": 17,
     "metadata": {},
     "output_type": "execute_result"
    },
    {
     "data": {
      "image/png": "[encoded data removed]",
      "text/plain": [
       "<matplotlib.figure.Figure at 0x11db3bef0>"
      ]
     },
     "metadata": {},
     "output_type": "display_data"
    }
   ],
   "source": [
    "# calculate the correlation matrix\n",
    "corr = scatter_df.corr()\n",
    "\n",
    "fig, ax = plt.subplots()\n",
    "# the size of A4 paper\n",
    "fig.set_size_inches(11.7, 8.27)\n",
    "# plot the heatmap\n",
    "sns.heatmap(corr, ax=ax)"
   ]
  },
  {
   "cell_type": "markdown",
   "metadata": {},
   "source": [
    "None of the variables are very strongly correlated, but this dataset also contains a plethora of categorical variables. Usually, tables or other discrete metrics are better at observing correlated categorical data, but I will forego this step in favor of plotting education against the dependent variable.\n",
    "\n",
    "## Education and Defaults\n",
    "This last part of the data story will look at how education plays a chance in defaults. I chose education as it very generally categorizes people across age, gender, and marriage status."
   ]
  },
  {
   "cell_type": "code",
   "execution_count": 18,
   "metadata": {},
   "outputs": [
    {
     "data": {
      "text/plain": [
       "<matplotlib.axes._subplots.AxesSubplot at 0x11be86ba8>"
      ]
     },
     "execution_count": 18,
     "metadata": {},
     "output_type": "execute_result"
    },
    {
     "data": {
      "image/png": "[encoded data removed]",
      "text/plain": [
       "<matplotlib.figure.Figure at 0x114805e48>"
      ]
     },
     "metadata": {},
     "output_type": "display_data"
    }
   ],
   "source": [
    "sns.barplot(x=\"EDUCATION\", y=\"Y\", data=scatter_df)"
   ]
  },
  {
   "cell_type": "markdown",
   "metadata": {},
   "source": [
    "Looks like the mean amount of defaults is higher for education level 3. This bar chart does not account for the samples size of each of these subsets of the population. While I could make more visualizations that portray the rate of default as a function of sample size, education, gender, or marital status, this doesn't provide a satisfying answer about a quantifiable difference. \n",
    "\n",
    "# Data Story Conclusion\n",
    "We've used coordinate plots extensively to see time series relationships of Taiwan credit card customers' debt and payment histories. From these graphical representations, we were able to see that the average debt was increasing while average payment was low and cyclical. \n",
    "\n",
    "If we were to use time series analysis to understand this trend and how much debt each person would have in a month, I believe there would be too much noise and variability among customers to accurately do this. Instead, I will resort to creating classification algorithms that take each variable and category into account for a model that can classify to a degree of accuracy whether a person will default in October of 2005. The next thing will be to apply inferential statistics to these findings to test hypotheses about relationships in the data, such as the whether less-educated people are more likely to default on their next payment."
   ]
  },
  {
   "cell_type": "markdown",
   "metadata": {},
   "source": [
    "# 3. Inferential Statistics of Taiwan Credit Users\n",
    "So far, we have cleaned and assessed the data within the Taiwan Credit dataset. We examined the datasets relationships among variables, as well as trends among all of the customers, discovering the data was relatively clean enough to use to create a prediction model and that there were interesting trends in credit user behavior over time. Now I'll use some summary statistics to test some hypotheses among certain groups of interests.\n",
    "\n",
    "I will focus on education level and start by using an ANOVA-type of analysis of the education level to the rate of default. To do this, I will need to use a Chi-Square test to test for significant difference between groups. I will then look to see if there is a statistical difference between certain groups. The problem at hand is to test whether education level makes a difference in the rate of defaulting on debt payments.\n",
    "\n",
    "## Chi-Square Tests\n",
    "To see whether education level makes a difference in the rate of defaults, I will test the null hypothesis that every education group has an equal rate of defaulting on their next payment. I chose to use a Chi-square test because of its ability to deal with data binned into proportions. The basic premise of the Chi-square test is to test the difference between expected and observed values, and if that difference is statistically significant."
   ]
  },
  {
   "cell_type": "code",
   "execution_count": null,
   "metadata": {},
   "outputs": [],
   "source": [
    "# Chi-square\n",
    "# Create the contingency table\n",
    "edu_default = pd.crosstab(index=scatter_df[\"EDUCATION\"], \n",
    "                           columns=scatter_df[\"Y\"])\n",
    "edu_default.index= [\"graduate\",\"university\",\"secondary\",\"other\",\"5\",\"6\"]\n",
    "chi2, p, dof, ex = stats.chi2_contingency(edu_default)\n",
    "print(chi2)\n",
    "print(p)"
   ]
  },
  {
   "cell_type": "markdown",
   "metadata": {},
   "source": [
    "With a p-value of 1.4x10^-32, we can see that there must be a difference between education groups. I included in the original analysis the outlier numbers, 5 and 6, that do not have an explanation and have very small sample sizes. I will remove them to make a more accurate assessment of the p-value between education classes provided."
   ]
  },
  {
   "cell_type": "code",
   "execution_count": null,
   "metadata": {},
   "outputs": [],
   "source": [
    "stats_df = scatter_df[(scatter_df.EDUCATION != 5) & (scatter_df.EDUCATION != 6)]\n",
    "edu_default = pd.crosstab(index=stats_df[\"EDUCATION\"], \n",
    "                           columns=stats_df[\"Y\"])\n",
    "edu_default.index= [\"graduate\",\"university\",\"secondary\",\"other\"]\n",
    "chi2, p, dof, ex = stats.chi2_contingency(edu_default)\n",
    "print(chi2)\n",
    "print(p)"
   ]
  },
  {
   "cell_type": "markdown",
   "metadata": {},
   "source": [
    "There is still significance. Good, that means we can reject the null hyptohesis that a difference in default rate among educational groups is due to random chance. From the bar chart, it looks like the first three classes of education are relatively similar in their rates of default. Let's perform a Chi-square test on those three variables to see if there is statistical difference among them."
   ]
  },
  {
   "cell_type": "code",
   "execution_count": null,
   "metadata": {},
   "outputs": [],
   "source": [
    "educated_df = scatter_df[(scatter_df.EDUCATION != 5) & (scatter_df.EDUCATION != 6) & (scatter_df.EDUCATION != 4)]\n",
    "edu2_default = pd.crosstab(index=educated_df[\"EDUCATION\"], \n",
    "                           columns=educated_df[\"Y\"])\n",
    "edu2_default.index= [\"graduate\",\"university\",\"secondary\"]\n",
    "chi2, p, dof, ex = stats.chi2_contingency(edu_default)\n",
    "print(chi2)\n",
    "print(p)"
   ]
  },
  {
   "cell_type": "markdown",
   "metadata": {},
   "source": [
    "They are still significantly different. A little obvious from the error bars on the proportions in the bar chart. Instead of comparing each education class individually, I'll simply calculate the 95% Confidence Interval (CI) for each class of educated people. Using the CI calculations, we can see if there is any overlap between the classes."
   ]
  },
  {
   "cell_type": "code",
   "execution_count": null,
   "metadata": {},
   "outputs": [],
   "source": [
    "graduate_df = scatter_df[scatter_df.EDUCATION == 1]\n",
    "college_df = scatter_df[scatter_df.EDUCATION == 2]\n",
    "secondary_df = scatter_df[scatter_df.EDUCATION == 3]\n",
    "other_df = scatter_df[scatter_df.EDUCATION == 4]\n",
    "edu_default"
   ]
  },
  {
   "cell_type": "code",
   "execution_count": null,
   "metadata": {},
   "outputs": [],
   "source": [
    "# odds of default for each education group\n",
    "grad_def_odds = 2036/8549\n",
    "univer_def_odds = 3330/107000\n",
    "second_def_odds = 1237/3680\n",
    "other_def_odds = 7/116\n",
    "\n",
    "# Odds Ratios between groups\n",
    "grad_uni_OR = grad_def_odds/univer_def_odds\n",
    "grad_second_OR = grad_def_odds/second_def_odds\n",
    "grad_other_OR = grad_def_odds/other_def_odds\n",
    "uni_second_OR = univer_def_odds/second_def_odds\n",
    "uni_other_OR = univer_def_odds/other_def_odds\n",
    "second_other_OR = second_def_odds/other_def_odds\n",
    "\n",
    "# SE for each OR\n",
    "SE_grad_uni = np.sqrt((1/edu_default.iloc[0,0]) + (1/edu_default.iloc[0,1]) + (1/edu_default.iloc[1,0]) + (1/edu_default.iloc[1,1]))\n",
    "SE_grad_second = np.sqrt((1/edu_default.iloc[0,0]) + (1/edu_default.iloc[0,1]) + (1/edu_default.iloc[2,0]) + (1/edu_default.iloc[2,1]))\n",
    "SE_grad_other = np.sqrt((1/edu_default.iloc[0,0]) + (1/edu_default.iloc[0,1]) + (1/edu_default.iloc[3,0]) + (1/edu_default.iloc[3,1]))\n",
    "SE_uni_second = np.sqrt((1/edu_default.iloc[1,0]) + (1/edu_default.iloc[1,1]) + (1/edu_default.iloc[2,0]) + (1/edu_default.iloc[2,1]))\n",
    "SE_uni_other = np.sqrt((1/edu_default.iloc[1,0]) + (1/edu_default.iloc[1,1]) + (1/edu_default.iloc[3,0]) + (1/edu_default.iloc[3,1]))\n",
    "SE_second_other = np.sqrt((1/edu_default.iloc[2,0]) + (1/edu_default.iloc[2,1]) + (1/edu_default.iloc[3,0]) + (1/edu_default.iloc[3,1]))\n",
    "\n",
    "# 95% CI for each OR\n",
    "grad_uni_CI_Lower = np.exp(np.log(grad_uni_OR) - 1.96*SE_grad_uni)\n",
    "grad_uni_CI_Upper = np.exp(np.log(grad_uni_OR) + 1.96*SE_grad_uni)\n",
    "print('Graduate and University log OR CI:', grad_uni_CI_Lower, grad_uni_CI_Upper)\n",
    "print('')\n",
    "grad_second_CI_Lower = np.exp(np.log(grad_second_OR) - 1.96*SE_grad_second)\n",
    "grad_second_CI_Upper = np.exp(np.log(grad_second_OR) + 1.96*SE_grad_second)\n",
    "print('Graduate and Secondary log OR CI:', grad_second_CI_Lower, grad_second_CI_Upper)\n",
    "print('')\n",
    "grad_other_CI_Lower = np.exp(np.log(grad_other_OR) - 1.96*SE_grad_other)\n",
    "grad_other_CI_Upper = np.exp(np.log(grad_other_OR) + 1.96*SE_grad_other)\n",
    "print('Graduate and Other log OR CI:', grad_other_CI_Lower, grad_other_CI_Upper)\n",
    "print('')\n",
    "uni_second_CI_Lower = np.exp(np.log(uni_second_OR) - 1.96*SE_uni_second)\n",
    "uni_second_CI_Upper = np.exp(np.log(uni_second_OR) + 1.96*SE_uni_second)\n",
    "print('University and Secondary log OR CI:', uni_second_CI_Lower, uni_second_CI_Upper)\n",
    "print('')\n",
    "uni_other_CI_Lower = np.exp(np.log(uni_other_OR) - 1.96*SE_uni_other)\n",
    "uni_other_CI_Upper = np.exp(np.log(uni_other_OR) + 1.96*SE_uni_other)\n",
    "print('University and Other log OR CI:', uni_other_CI_Lower, uni_other_CI_Upper)\n",
    "print('')\n",
    "second_other_CI_Lower = np.exp(np.log(second_other_OR) - 1.96*SE_second_other)\n",
    "second_other_CI_Upper = np.exp(np.log(second_other_OR) + 1.96*SE_second_other)\n",
    "print('Secondary and Other log OR CI:', second_other_CI_Lower, second_other_CI_Upper)\n",
    "print(\"\")"
   ]
  },
  {
   "cell_type": "markdown",
   "metadata": {},
   "source": [
    "## Odds Ratio Analysis\n",
    "Besides the association between university and secondary educated customers, the log odds ratio indicate that many of the compared groups have highly different rates of default. \n",
    "\n",
    "A reminder about log(OR):\n",
    "- Negative values are in preference of the denominator value (the second value here)\n",
    "- Applying the exponential function (euler's number to the number provided) gives the CI of the odds ratio\n",
    "\n",
    "The only indistiguishable groups are the university and secondary groups, each very much more likely to default than customers who finished with a graduate degree.\n",
    "\n",
    "# 4. Basic Logistic Regression and Evaluation\n",
    "I'll begin building a classification model of whether a customer will default on their next payment by building a base-line logistic regression model using default settings from sklearn. Once trained, I will test its accuracy, precision, and recall measurements. Recall will be the most important metric for this problem since the dataset is imbalanced, since most (about 70%) of the results are from the '0', non-default, class. Recall, or the true positive rate, will be the most important metric to adjust, since the damage done to credit card companies is most severe from not predicting customers who will default and the damage done by predicting a false positive is annoying to the customer, but much less severe in terms of consequences.\n",
    "\n",
    "Now, to train a logistic regression model with default parameters.\n",
    "\n",
    "d) Before you do the first fit with logistic regression, take a look at your (X_train, y_train), and (X_test, y_test) to make sure they have what they are supposed to have with respect to your X, y objects."
   ]
  },
  {
   "cell_type": "code",
   "execution_count": 72,
   "metadata": {
    "scrolled": true
   },
   "outputs": [
    {
     "name": "stdout",
     "output_type": "stream",
     "text": [
      "Ensuring the training set matrices are of equal size:  True\n",
      "Ensuring the testing set matrices are of equal size:  True\n",
      "Ensuring the train_test_split sums to origninal Length:  True\n",
      "Fraction of the amount of minority class in training set: 0.222\n",
      "Fraction of the amount of minority class in testing set: 0.217\n",
      "Fraction of the amount of minority class in original dataset: 0.221\n"
     ]
    }
   ],
   "source": [
    "from sklearn.model_selection import train_test_split\n",
    "from sklearn.linear_model import LogisticRegression\n",
    "from sklearn.metrics import accuracy_score, classification_report\n",
    "\n",
    "# Create X and Y objects for clarity\n",
    "X = clf_df.drop('Y', axis=1)\n",
    "Y = clf_df.Y\n",
    "\n",
    "# Split the data into a training and test set - 25% is testing\n",
    "Xtrain, Xtest, ytrain, ytest = train_test_split(X, Y, test_size=0.20, random_state=5)\n",
    "\n",
    "# Ensuring (X_train, y_train) and (X_test, y_test) are correct\n",
    "print(\"Ensuring the training set matrices are of equal size: \", len(Xtrain) == len(ytrain))\n",
    "print(\"Ensuring the testing set matrices are of equal size: \", len(ytest) == len(Xtest))\n",
    "print(\"Ensuring the train_test_split sums to origninal Length: \", (len(ytest) + len(ytrain)) == len(Y))\n",
    "# Check ratio of classes in the ytrain and ytest datasets\n",
    "print(\"Fraction of the amount of minority class in training set: %.3f\" % (len(ytrain[ytrain==1])/len(ytrain)))\n",
    "print(\"Fraction of the amount of minority class in testing set: %.3f\" % (len(ytest[ytest==1])/len(ytest)))\n",
    "print(\"Fraction of the amount of minority class in original dataset: %.3f\" % (len(Y[Y==1])/len(Y)))"
   ]
  },
  {
   "cell_type": "markdown",
   "metadata": {},
   "source": [
    "We have thoroughly ensured that the test_train_split returned the same fraction of the minority class as is in the parent dataset. Now, I will train a logistic regression model on the Xtrain and ytrain datasets, knowing that they are accurate."
   ]
  },
  {
   "cell_type": "code",
   "execution_count": 73,
   "metadata": {},
   "outputs": [
    {
     "name": "stdout",
     "output_type": "stream",
     "text": [
      "0.78342780927\n",
      "             precision    recall  f1-score   support\n",
      "\n",
      "          0       0.78      1.00      0.88      4699\n",
      "          1       0.00      0.00      0.00      1299\n",
      "\n",
      "avg / total       0.61      0.78      0.69      5998\n",
      "\n"
     ]
    },
    {
     "name": "stderr",
     "output_type": "stream",
     "text": [
      "/Users/vincent_zaballa/anaconda3/lib/python3.5/site-packages/sklearn/metrics/classification.py:1113: UndefinedMetricWarning:\n",
      "\n",
      "Precision and F-score are ill-defined and being set to 0.0 in labels with no predicted samples.\n",
      "\n"
     ]
    }
   ],
   "source": [
    "# Creating model\n",
    "clf = LogisticRegression()\n",
    "clf.fit(Xtrain, ytrain)\n",
    "# Print the accuracy and recall from the testing data. Table values.\n",
    "print(accuracy_score(clf.predict(Xtest), ytest))\n",
    "target_names = ['0', '1']\n",
    "print(classification_report(ytest, clf.predict(Xtest), target_names=target_names))"
   ]
  },
  {
   "cell_type": "markdown",
   "metadata": {},
   "source": [
    "We could look at the accuracy and think that 78% is not terrible, a decent start, but reviewing recall shows a large discrepancy between precition of the non-default and default classes. What the default model did was train to maximize accuracy, and by predicting all of the 0-class correctly, it did pretty well to accomplish this goal. However, this completely misses the problem of predicting customers who will default, as is indicated by a recall score of 0 for the default class.\n",
    "\n",
    "Before I move on to techniques to deal with imbalanced data, I'll try and tune the hyperparameters for both l1 and l2 logistic regression before moving on.\n",
    "\n",
    "## 5. GridsearchCV to Optimize L1 and L2 Logistic Regression And Evaluation\n",
    "Will use GridsearchCV from sklearn to find the optimal values of the regularization parameter 'C', according to 'L1' and 'L2' norms. Sklearn's GridsearchCV is able to search for the optimal hyperparameters for both L1 and L2 logistic regression. My expectation is that L2 regression will work better than L1 regularization, as L1 typically works better for data that is sparse, which is not the case from our data, as indicated from the inferential statistics section performed on the data.\n",
    "\n",
    "I will be optimizing the parameters against accuracy and recall, of which I expect each optimal value to be different."
   ]
  },
  {
   "cell_type": "code",
   "execution_count": null,
   "metadata": {},
   "outputs": [
    {
     "name": "stdout",
     "output_type": "stream",
     "text": [
      "# Tuning hyper-parameters for l1 accuracy\n",
      "\n"
     ]
    }
   ],
   "source": [
    "from sklearn.model_selection import GridSearchCV\n",
    "parameters_l1 = {'penalty':['l1'], 'C': np.logspace(-4, 2, 30)}\n",
    "parameters_l2 = {'penalty':['l2'], 'C': np.logspace(-4, 2, 30)}\n",
    "\n",
    "scores = ['accuracy', 'recall']\n",
    "\n",
    "logit_lambda = np.logspace(-4, 2, 30)  # Since lambda is a python function, don't call variable lambda\n",
    "Penalty = ['l1', 'l2']\n",
    "\n",
    "clf1 = LogisticRegression() # Do not change this.\n",
    "\n",
    "for score in scores:\n",
    "    print(\"# Tuning hyper-parameters for l1 %s\" % score)\n",
    "    print(\"\")\n",
    "    clf_opt = GridSearchCV(clf1, parameters_l1, cv=5, \n",
    "                           scoring=score)\n",
    "    clf_opt.fit(Xtrain, ytrain)\n",
    "    print(clf_opt.best_estimator_, \"\\n\",\n",
    "          clf_opt.best_params_, \"\\n\",\n",
    "          clf_opt.best_score_)\n",
    "    print(\"\")\n",
    "    print(\"# Tuning hyper-parameters for l2 %s\" % score)\n",
    "    print(\"\")\n",
    "    clf_opt = GridSearchCV(clf1, parameters_l2, cv=5, \n",
    "                           scoring=score)\n",
    "    clf_opt.fit(Xtrain, ytrain)\n",
    "    print(clf_opt.best_estimator_, \"\\n\",\n",
    "          clf_opt.best_params_, \"\\n\",\n",
    "          clf_opt.best_score_)"
   ]
  },
  {
   "cell_type": "markdown",
   "metadata": {},
   "source": [
    "We now have the optimal gridsearchCV parameters. What are their respective accuracy and recall scores?"
   ]
  },
  {
   "cell_type": "code",
   "execution_count": 22,
   "metadata": {},
   "outputs": [
    {
     "name": "stdout",
     "output_type": "stream",
     "text": [
      "Optimized L1 precision-recall scores\n",
      "\n",
      "Optimized Recall\n",
      "             precision    recall  f1-score   support\n",
      "\n",
      "          0       0.84      0.95      0.89      5859\n",
      "          1       0.68      0.36      0.47      1638\n",
      "\n",
      "avg / total       0.81      0.82      0.80      7497\n",
      "\n",
      "Optimized Accuracy\n",
      "             precision    recall  f1-score   support\n",
      "\n",
      "          0       0.84      0.95      0.89      5859\n",
      "          1       0.68      0.36      0.47      1638\n",
      "\n",
      "avg / total       0.81      0.82      0.80      7497\n",
      "\n",
      "\n",
      "Optimized L2 precision-recall scores\n",
      "\n",
      "Optimized Recall\n",
      "             precision    recall  f1-score   support\n",
      "\n",
      "          0       0.78      1.00      0.88      5859\n",
      "          1       0.00      0.00      0.00      1638\n",
      "\n",
      "avg / total       0.61      0.78      0.69      7497\n",
      "\n",
      "Optimized Accuracy\n",
      "             precision    recall  f1-score   support\n",
      "\n",
      "          0       0.78      1.00      0.88      5859\n",
      "          1       0.00      0.00      0.00      1638\n",
      "\n",
      "avg / total       0.61      0.78      0.69      7497\n",
      "\n"
     ]
    }
   ],
   "source": [
    "clf_opt_recall_L1 = LogisticRegression(penalty='l1', C=1.3738237958832638) \n",
    "clf_opt_accuracy_L1 = LogisticRegression(penalty='l1', C=2.2122162910704501) \n",
    "\n",
    "clf_opt_recall_L2 = LogisticRegression(penalty='l2', C=0.20433597178569) \n",
    "clf_opt_accuracy_L2 = LogisticRegression(penalty='l2', C=0.0001) \n",
    "\n",
    "#Fitting the models\n",
    "clf_opt_recall_L1.fit(Xtrain, ytrain)\n",
    "clf_opt_recall_L2.fit(Xtrain, ytrain)\n",
    "\n",
    "clf_opt_accuracy_L1.fit(Xtrain, ytrain)\n",
    "clf_opt_accuracy_L2.fit(Xtrain, ytrain)\n",
    "\n",
    "print('Optimized L1 precision-recall scores')\n",
    "print('')\n",
    "print('Optimized Recall')\n",
    "print(classification_report(ytest, clf_opt_recall_L1.fit(Xtrain, ytrain).predict(Xtest), target_names=target_names))\n",
    "print('Optimized Accuracy')\n",
    "print(classification_report(ytest, clf_opt_accuracy_L1.fit(Xtrain, ytrain).predict(Xtest), target_names=target_names))\n",
    "print('')\n",
    "print('Optimized L2 precision-recall scores')\n",
    "print('')\n",
    "print('Optimized Recall')\n",
    "print(classification_report(ytest, clf_opt_recall_L2.fit(Xtrain, ytrain).predict(Xtest), target_names=target_names))\n",
    "print('Optimized Accuracy')\n",
    "print(classification_report(ytest, clf_opt_accuracy_L2.fit(Xtrain, ytrain).predict(Xtest), target_names=target_names))"
   ]
  },
  {
   "cell_type": "markdown",
   "metadata": {},
   "source": [
    "We can see that, while there is a difference in the optimal values for accuracy and recall, the parameter values differ by less than a thousandth (mean recall=0.35915 for lambda=1.3738 and mean recall=0.35975 for lambda=2.212). The bigger difference here is between L1 and L2 regularization, of which, L1 performed much better than L2. Even when optimized for recall, L2 was not able to return a satisfactory result. This is not to say that L1 logistic regression returned a satisfactory result, as a recall of 0.34 for defaults can still be considered bad, but that it is much better than 0.\n",
    "\n",
    "# 6. Resampling: Oversampling and Undersampling Methods on Logistic Regression\n",
    "There is an imbalance in the dataset that cannot be solved by simply optimizing the penalty parameters of L1-logistic regression. Instead, I will need to either under-sample or over-sample the dataset to balance the two. According to the rules of thumb listed below, I can choose from under-sampling or over-sampling to balance the dataset. I can do both and compare their Accuracy and precision-recall metric in order to determine which method improves the model the most. Additionally, I will experiment with random and non-random sampling schemes for over-sampling and under-sampling. From here on I will refer to the class with more elements as the \"majority class\" and the one with less as the \"minority class\". \n",
    "\n",
    "Some Rules of Thumb:\n",
    "\n",
    "- Consider under-sampling of the majority class when there is plenty of data (tens- or hundreds of thousands of instances or more)\n",
    "\n",
    "- Consider over-sampling of the minority class when you have a paucity of data (tens of thousands of records or less)\n",
    "\n",
    "- Consider random and non-random (e.g. stratified) sampling schemes.\n",
    "\n",
    "- Consider different resampling ratios (e.g. you don’t have to target a 1:1 ratio in a binary classification problem, try other ratios)\n",
    "\n",
    "I will oversample the minority class so both classes have the same size. I will use SMOTE, implemented by the imbalanced-learn package, which works as follows:\n",
    "\n",
    "- Finding the k-nearest-neighbors for minority class observations (finding similar observations)\n",
    "\n",
    "- Randomly choosing one of the k-nearest-neighbors and using it to create a similar, but randomly tweaked, new observation.\n",
    "\n",
    "Since the SMOTE algorithm is performing some semi-complex resampling methods that involve KNN computations, I do not want that process to influence my test set, which is still a representative of the dataset as a whole. I will use the remaining training dataset to perform upsampling and preserve a validation set for which I can test the upsampled algorithms against."
   ]
  },
  {
   "cell_type": "code",
   "execution_count": 23,
   "metadata": {},
   "outputs": [
    {
     "name": "stdout",
     "output_type": "stream",
     "text": [
      "# Tuning hyper-parameters for l1 accuracy\n",
      "\n",
      "LogisticRegression(C=0.20433597178569418, class_weight=None, dual=False,\n",
      "          fit_intercept=True, intercept_scaling=1, max_iter=100,\n",
      "          multi_class='ovr', n_jobs=1, penalty='l1', random_state=None,\n",
      "          solver='liblinear', tol=0.0001, verbose=0, warm_start=False) \n",
      " {'penalty': 'l1', 'C': 0.20433597178569418} \n",
      " 0.708083233293\n",
      "\n",
      "# Tuning hyper-parameters for l2 accuracy\n",
      "\n",
      "LogisticRegression(C=5.7361525104486812, class_weight=None, dual=False,\n",
      "          fit_intercept=True, intercept_scaling=1, max_iter=100,\n",
      "          multi_class='ovr', n_jobs=1, penalty='l2', random_state=None,\n",
      "          solver='liblinear', tol=0.0001, verbose=0, warm_start=False) \n",
      " {'penalty': 'l2', 'C': 5.7361525104486812} \n",
      " 0.636954781913\n",
      "# Tuning hyper-parameters for l1 recall\n",
      "\n",
      "LogisticRegression(C=0.0017433288221999873, class_weight=None, dual=False,\n",
      "          fit_intercept=True, intercept_scaling=1, max_iter=100,\n",
      "          multi_class='ovr', n_jobs=1, penalty='l1', random_state=None,\n",
      "          solver='liblinear', tol=0.0001, verbose=0, warm_start=False) \n",
      " {'penalty': 'l1', 'C': 0.0017433288221999873} \n",
      " 0.706082432973\n",
      "\n",
      "# Tuning hyper-parameters for l2 recall\n",
      "\n",
      "LogisticRegression(C=9.2367085718738657, class_weight=None, dual=False,\n",
      "          fit_intercept=True, intercept_scaling=1, max_iter=100,\n",
      "          multi_class='ovr', n_jobs=1, penalty='l2', random_state=None,\n",
      "          solver='liblinear', tol=0.0001, verbose=0, warm_start=False) \n",
      " {'penalty': 'l2', 'C': 9.2367085718738657} \n",
      " 0.718487394958\n"
     ]
    }
   ],
   "source": [
    "from imblearn.under_sampling import RandomUnderSampler\n",
    "# Reminder: Xtrain, Xtest, ytrain, ytest\n",
    "\n",
    "# Undersampling with imblearn\n",
    "rus = RandomUnderSampler(random_state = 12, ratio=1.0)\n",
    "x_train_rus, y_train_rus = rus.fit_sample(Xtrain, ytrain)\n",
    "\n",
    "# GridsearchCV\n",
    "parameters_l1 = {'penalty':['l1'], 'C': np.logspace(-4, 2, 30)}\n",
    "parameters_l2 = {'penalty':['l2'], 'C': np.logspace(-4, 2, 30)}\n",
    "\n",
    "scores = ['accuracy', 'recall']\n",
    "\n",
    "logit_lambda = np.logspace(-4, 2, 30)  # Since lambda is a python function, don't call variable lambda\n",
    "Penalty = ['l1', 'l2']\n",
    "\n",
    "# out of the box logistic regression\n",
    "clf_smpld = LogisticRegression()\n",
    "clf_smpld.fit(x_train_rus, y_train_rus)\n",
    "\n",
    "for score in scores:\n",
    "    print(\"# Tuning hyper-parameters for l1 %s\" % score)\n",
    "    print(\"\")\n",
    "    \n",
    "    clf_opt_under_smpld = GridSearchCV(clf1, parameters_l1, cv=5, \n",
    "                           scoring=score)\n",
    "    clf_opt_under_smpld.fit(x_train_rus, y_train_rus)\n",
    "    \n",
    "    print(clf_opt_under_smpld.best_estimator_, \"\\n\",\n",
    "          clf_opt_under_smpld.best_params_, \"\\n\",\n",
    "          clf_opt_under_smpld.best_score_)\n",
    "    print(\"\")\n",
    "    print(\"# Tuning hyper-parameters for l2 %s\" % score)\n",
    "    print(\"\")\n",
    "    \n",
    "    clf_opt_under_smpld = GridSearchCV(clf1, parameters_l2, cv=5, \n",
    "                           scoring=score)\n",
    "    clf_opt_under_smpld.fit(x_train_rus, y_train_rus)\n",
    "    \n",
    "    print(clf_opt_under_smpld.best_estimator_, \"\\n\",\n",
    "          clf_opt_under_smpld.best_params_, \"\\n\",\n",
    "          clf_opt_under_smpld.best_score_)"
   ]
  },
  {
   "cell_type": "code",
   "execution_count": 24,
   "metadata": {},
   "outputs": [
    {
     "name": "stdout",
     "output_type": "stream",
     "text": [
      "\n",
      "Undersampled precision-recall metrics\n",
      "\n",
      "\n",
      "Precision-Recall Metrics of Non-Optimized Logistic Regression\n",
      "\n",
      "             precision    recall  f1-score   support\n",
      "\n",
      "          0       0.87      0.51      0.65      5859\n",
      "          1       0.29      0.72      0.42      1638\n",
      "\n",
      "avg / total       0.74      0.56      0.60      7497\n",
      "\n",
      "\n",
      "Accuracy Optimized Logistic Regression\n",
      "\n",
      "l1\n",
      "             precision    recall  f1-score   support\n",
      "\n",
      "          0       0.87      0.83      0.85      5859\n",
      "          1       0.49      0.57      0.52      1638\n",
      "\n",
      "avg / total       0.79      0.77      0.78      7497\n",
      "\n",
      "l2\n",
      "             precision    recall  f1-score   support\n",
      "\n",
      "          0       0.87      0.52      0.65      5859\n",
      "          1       0.29      0.71      0.42      1638\n",
      "\n",
      "avg / total       0.74      0.56      0.60      7497\n",
      "\n",
      "\n",
      "Recall Optimized Logistic Regression\n",
      "\n",
      "l1\n",
      "             precision    recall  f1-score   support\n",
      "\n",
      "          0       0.88      0.58      0.70      5859\n",
      "          1       0.32      0.70      0.44      1638\n",
      "\n",
      "avg / total       0.75      0.61      0.64      7497\n",
      "\n",
      "l2\n",
      "             precision    recall  f1-score   support\n",
      "\n",
      "          0       0.87      0.54      0.66      5859\n",
      "          1       0.30      0.70      0.42      1638\n",
      "\n",
      "avg / total       0.74      0.57      0.61      7497\n",
      "\n"
     ]
    }
   ],
   "source": [
    "# Creating new models\n",
    "clf_under_smpld_accur_l1 = LogisticRegression(penalty='l1', C=0.204335)\n",
    "clf_under_smpld_accur_l2 = LogisticRegression(penalty='l2', C=5.73615)\n",
    "\n",
    "clf_under_smpld_recall_l1 = LogisticRegression(penalty='l1', C=0.001743)\n",
    "clf_under_smpld_recall_l2 = LogisticRegression(penalty='l2', C=9.23670)\n",
    "\n",
    "# Fitting the models\n",
    "clf_under_smpld_accur_l1.fit(x_train_rus, y_train_rus)\n",
    "clf_under_smpld_accur_l2.fit(x_train_rus, y_train_rus)\n",
    "\n",
    "clf_under_smpld_recall_l1.fit(x_train_rus, y_train_rus)\n",
    "clf_under_smpld_recall_l2.fit(x_train_rus, y_train_rus)\n",
    "\n",
    "# Summary of precision-recall metric for all models\n",
    "print('\\nUndersampled precision-recall metrics\\n')\n",
    "print(\"\\nPrecision-Recall Metrics of Non-Optimized Logistic Regression\\n\")\n",
    "print(classification_report(ytest, clf_smpld.fit(x_train_rus, y_train_rus).predict(Xtest),\n",
    "                            target_names=target_names))\n",
    "print('')\n",
    "print(\"Accuracy Optimized Logistic Regression\\n\")\n",
    "print(\"l1\")\n",
    "print(classification_report(ytest, clf_under_smpld_accur_l1.fit(x_train_rus, y_train_rus).predict(Xtest),\n",
    "                            target_names=target_names))\n",
    "print(\"l2\")\n",
    "print(classification_report(ytest, clf_under_smpld_accur_l2.fit(x_train_rus, y_train_rus).predict(Xtest),\n",
    "                            target_names=target_names))\n",
    "print('')\n",
    "print(\"Recall Optimized Logistic Regression\\n\")\n",
    "print(\"l1\")\n",
    "print(classification_report(ytest, clf_under_smpld_recall_l1.fit(x_train_rus, y_train_rus).predict(Xtest),\n",
    "                            target_names=target_names))\n",
    "print(\"l2\")\n",
    "print(classification_report(ytest, clf_under_smpld_recall_l2.fit(x_train_rus, y_train_rus).predict(Xtest),\n",
    "                            target_names=target_names))"
   ]
  },
  {
   "cell_type": "code",
   "execution_count": 26,
   "metadata": {},
   "outputs": [
    {
     "name": "stdout",
     "output_type": "stream",
     "text": [
      "4998\n",
      "4998\n"
     ]
    }
   ],
   "source": [
    "# Verifying equal numbers of outcomes\n",
    "print((y_train_rus==1).sum())\n",
    "print((y_train_rus==0).sum())"
   ]
  },
  {
   "cell_type": "markdown",
   "metadata": {},
   "source": [
    "### Note: Accuracy and Recall Optimized GridsearchCV\n",
    "As expected, there is a change in recall score when optimized for recall as opposed to accuracy. However, it's interesting to note that the recall-optimized L1 has a lower overall recall than accuracy-optimized L1 logistic regression. The recall would be higher for the recall-optimized L1 logistic regression, but it is not. Further investigation needs to be done with a graphical interpretation of the values. I will plot these on a precision-recall curve, later.\n",
    "\n",
    "## Undersampling Result Interpretation\n",
    "As mentioned, there was not a difference between optimizing for accuracy and recall. There was a large difference in recall between L1 and L2 optimized results. The L1 logistic regression has a better score for predicting the non-default class, whereas the L2 logistic regression is better at predicting for the default (Y=1) class. The default logistic regression algorithm didn't do too bad, but that's mainly because it is using L2 regularization under the hood and the optimal lambda value of C=1. I will leave out the default parameter from here on out, as I just wanted to show that it can return a decent accuracy or recall measurement.\n",
    "\n",
    "## Oversampling\n",
    "Now that we've seen some results for undersampling the majority class, let's take a look at oversampling the minority class. This time, I am just going to optimize the parameters on the 'recall' measurement and leave out the default logistic regression value."
   ]
  },
  {
   "cell_type": "code",
   "execution_count": 27,
   "metadata": {},
   "outputs": [
    {
     "name": "stdout",
     "output_type": "stream",
     "text": [
      "# Tuning hyper-parameters for l1 accuracy\n",
      "\n",
      "LogisticRegression(C=0.32903445623126676, class_weight=None, dual=False,\n",
      "          fit_intercept=True, intercept_scaling=1, max_iter=100,\n",
      "          multi_class='ovr', n_jobs=1, penalty='l1', random_state=None,\n",
      "          solver='liblinear', tol=0.0001, verbose=0, warm_start=False) \n",
      " {'penalty': 'l1', 'C': 0.32903445623126676} \n",
      " 0.73434909382\n",
      "\n",
      "# Tuning hyper-parameters for l2 accuracy\n",
      "\n"
     ]
    },
    {
     "ename": "KeyboardInterrupt",
     "evalue": "",
     "output_type": "error",
     "traceback": [
      "\u001b[0;31m---------------------------------------------------------------------------\u001b[0m",
      "\u001b[0;31mKeyboardInterrupt\u001b[0m                         Traceback (most recent call last)",
      "\u001b[0;32m<ipython-input-27-1c5e09a853ae>\u001b[0m in \u001b[0;36m<module>\u001b[0;34m()\u001b[0m\n\u001b[1;32m     30\u001b[0m     clf_opt_over_smpld = GridSearchCV(clf1, parameters_l2, cv=5, \n\u001b[1;32m     31\u001b[0m                            scoring=score)\n\u001b[0;32m---> 32\u001b[0;31m     \u001b[0mclf_opt_over_smpld\u001b[0m\u001b[0;34m.\u001b[0m\u001b[0mfit\u001b[0m\u001b[0;34m(\u001b[0m\u001b[0mx_train_res\u001b[0m\u001b[0;34m,\u001b[0m \u001b[0my_train_res\u001b[0m\u001b[0;34m)\u001b[0m\u001b[0;34m\u001b[0m\u001b[0m\n\u001b[0m\u001b[1;32m     33\u001b[0m \u001b[0;34m\u001b[0m\u001b[0m\n\u001b[1;32m     34\u001b[0m     print(clf_opt_over_smpld.best_estimator_, \"\\n\",\n",
      "\u001b[0;32m/Users/vincent_zaballa/anaconda3/lib/python3.5/site-packages/sklearn/model_selection/_search.py\u001b[0m in \u001b[0;36mfit\u001b[0;34m(self, X, y, groups)\u001b[0m\n\u001b[1;32m    943\u001b[0m             \u001b[0mtrain\u001b[0m\u001b[0;34m/\u001b[0m\u001b[0mtest\u001b[0m \u001b[0mset\u001b[0m\u001b[0;34m.\u001b[0m\u001b[0;34m\u001b[0m\u001b[0m\n\u001b[1;32m    944\u001b[0m         \"\"\"\n\u001b[0;32m--> 945\u001b[0;31m         \u001b[0;32mreturn\u001b[0m \u001b[0mself\u001b[0m\u001b[0;34m.\u001b[0m\u001b[0m_fit\u001b[0m\u001b[0;34m(\u001b[0m\u001b[0mX\u001b[0m\u001b[0;34m,\u001b[0m \u001b[0my\u001b[0m\u001b[0;34m,\u001b[0m \u001b[0mgroups\u001b[0m\u001b[0;34m,\u001b[0m \u001b[0mParameterGrid\u001b[0m\u001b[0;34m(\u001b[0m\u001b[0mself\u001b[0m\u001b[0;34m.\u001b[0m\u001b[0mparam_grid\u001b[0m\u001b[0;34m)\u001b[0m\u001b[0;34m)\u001b[0m\u001b[0;34m\u001b[0m\u001b[0m\n\u001b[0m\u001b[1;32m    946\u001b[0m \u001b[0;34m\u001b[0m\u001b[0m\n\u001b[1;32m    947\u001b[0m \u001b[0;34m\u001b[0m\u001b[0m\n",
      "\u001b[0;32m/Users/vincent_zaballa/anaconda3/lib/python3.5/site-packages/sklearn/model_selection/_search.py\u001b[0m in \u001b[0;36m_fit\u001b[0;34m(self, X, y, groups, parameter_iterable)\u001b[0m\n\u001b[1;32m    562\u001b[0m                                   \u001b[0mreturn_times\u001b[0m\u001b[0;34m=\u001b[0m\u001b[0;32mTrue\u001b[0m\u001b[0;34m,\u001b[0m \u001b[0mreturn_parameters\u001b[0m\u001b[0;34m=\u001b[0m\u001b[0;32mTrue\u001b[0m\u001b[0;34m,\u001b[0m\u001b[0;34m\u001b[0m\u001b[0m\n\u001b[1;32m    563\u001b[0m                                   error_score=self.error_score)\n\u001b[0;32m--> 564\u001b[0;31m           \u001b[0;32mfor\u001b[0m \u001b[0mparameters\u001b[0m \u001b[0;32min\u001b[0m \u001b[0mparameter_iterable\u001b[0m\u001b[0;34m\u001b[0m\u001b[0m\n\u001b[0m\u001b[1;32m    565\u001b[0m           for train, test in cv_iter)\n\u001b[1;32m    566\u001b[0m \u001b[0;34m\u001b[0m\u001b[0m\n",
      "\u001b[0;32m/Users/vincent_zaballa/anaconda3/lib/python3.5/site-packages/sklearn/externals/joblib/parallel.py\u001b[0m in \u001b[0;36m__call__\u001b[0;34m(self, iterable)\u001b[0m\n\u001b[1;32m    756\u001b[0m             \u001b[0;31m# was dispatched. In particular this covers the edge\u001b[0m\u001b[0;34m\u001b[0m\u001b[0;34m\u001b[0m\u001b[0m\n\u001b[1;32m    757\u001b[0m             \u001b[0;31m# case of Parallel used with an exhausted iterator.\u001b[0m\u001b[0;34m\u001b[0m\u001b[0;34m\u001b[0m\u001b[0m\n\u001b[0;32m--> 758\u001b[0;31m             \u001b[0;32mwhile\u001b[0m \u001b[0mself\u001b[0m\u001b[0;34m.\u001b[0m\u001b[0mdispatch_one_batch\u001b[0m\u001b[0;34m(\u001b[0m\u001b[0miterator\u001b[0m\u001b[0;34m)\u001b[0m\u001b[0;34m:\u001b[0m\u001b[0;34m\u001b[0m\u001b[0m\n\u001b[0m\u001b[1;32m    759\u001b[0m                 \u001b[0mself\u001b[0m\u001b[0;34m.\u001b[0m\u001b[0m_iterating\u001b[0m \u001b[0;34m=\u001b[0m \u001b[0;32mTrue\u001b[0m\u001b[0;34m\u001b[0m\u001b[0m\n\u001b[1;32m    760\u001b[0m             \u001b[0;32melse\u001b[0m\u001b[0;34m:\u001b[0m\u001b[0;34m\u001b[0m\u001b[0m\n",
      "\u001b[0;32m/Users/vincent_zaballa/anaconda3/lib/python3.5/site-packages/sklearn/externals/joblib/parallel.py\u001b[0m in \u001b[0;36mdispatch_one_batch\u001b[0;34m(self, iterator)\u001b[0m\n\u001b[1;32m    606\u001b[0m                 \u001b[0;32mreturn\u001b[0m \u001b[0;32mFalse\u001b[0m\u001b[0;34m\u001b[0m\u001b[0m\n\u001b[1;32m    607\u001b[0m             \u001b[0;32melse\u001b[0m\u001b[0;34m:\u001b[0m\u001b[0;34m\u001b[0m\u001b[0m\n\u001b[0;32m--> 608\u001b[0;31m                 \u001b[0mself\u001b[0m\u001b[0;34m.\u001b[0m\u001b[0m_dispatch\u001b[0m\u001b[0;34m(\u001b[0m\u001b[0mtasks\u001b[0m\u001b[0;34m)\u001b[0m\u001b[0;34m\u001b[0m\u001b[0m\n\u001b[0m\u001b[1;32m    609\u001b[0m                 \u001b[0;32mreturn\u001b[0m \u001b[0;32mTrue\u001b[0m\u001b[0;34m\u001b[0m\u001b[0m\n\u001b[1;32m    610\u001b[0m \u001b[0;34m\u001b[0m\u001b[0m\n",
      "\u001b[0;32m/Users/vincent_zaballa/anaconda3/lib/python3.5/site-packages/sklearn/externals/joblib/parallel.py\u001b[0m in \u001b[0;36m_dispatch\u001b[0;34m(self, batch)\u001b[0m\n\u001b[1;32m    569\u001b[0m         \u001b[0mdispatch_timestamp\u001b[0m \u001b[0;34m=\u001b[0m \u001b[0mtime\u001b[0m\u001b[0;34m.\u001b[0m\u001b[0mtime\u001b[0m\u001b[0;34m(\u001b[0m\u001b[0;34m)\u001b[0m\u001b[0;34m\u001b[0m\u001b[0m\n\u001b[1;32m    570\u001b[0m         \u001b[0mcb\u001b[0m \u001b[0;34m=\u001b[0m \u001b[0mBatchCompletionCallBack\u001b[0m\u001b[0;34m(\u001b[0m\u001b[0mdispatch_timestamp\u001b[0m\u001b[0;34m,\u001b[0m \u001b[0mlen\u001b[0m\u001b[0;34m(\u001b[0m\u001b[0mbatch\u001b[0m\u001b[0;34m)\u001b[0m\u001b[0;34m,\u001b[0m \u001b[0mself\u001b[0m\u001b[0;34m)\u001b[0m\u001b[0;34m\u001b[0m\u001b[0m\n\u001b[0;32m--> 571\u001b[0;31m         \u001b[0mjob\u001b[0m \u001b[0;34m=\u001b[0m \u001b[0mself\u001b[0m\u001b[0;34m.\u001b[0m\u001b[0m_backend\u001b[0m\u001b[0;34m.\u001b[0m\u001b[0mapply_async\u001b[0m\u001b[0;34m(\u001b[0m\u001b[0mbatch\u001b[0m\u001b[0;34m,\u001b[0m \u001b[0mcallback\u001b[0m\u001b[0;34m=\u001b[0m\u001b[0mcb\u001b[0m\u001b[0;34m)\u001b[0m\u001b[0;34m\u001b[0m\u001b[0m\n\u001b[0m\u001b[1;32m    572\u001b[0m         \u001b[0mself\u001b[0m\u001b[0;34m.\u001b[0m\u001b[0m_jobs\u001b[0m\u001b[0;34m.\u001b[0m\u001b[0mappend\u001b[0m\u001b[0;34m(\u001b[0m\u001b[0mjob\u001b[0m\u001b[0;34m)\u001b[0m\u001b[0;34m\u001b[0m\u001b[0m\n\u001b[1;32m    573\u001b[0m \u001b[0;34m\u001b[0m\u001b[0m\n",
      "\u001b[0;32m/Users/vincent_zaballa/anaconda3/lib/python3.5/site-packages/sklearn/externals/joblib/_parallel_backends.py\u001b[0m in \u001b[0;36mapply_async\u001b[0;34m(self, func, callback)\u001b[0m\n\u001b[1;32m    107\u001b[0m     \u001b[0;32mdef\u001b[0m \u001b[0mapply_async\u001b[0m\u001b[0;34m(\u001b[0m\u001b[0mself\u001b[0m\u001b[0;34m,\u001b[0m \u001b[0mfunc\u001b[0m\u001b[0;34m,\u001b[0m \u001b[0mcallback\u001b[0m\u001b[0;34m=\u001b[0m\u001b[0;32mNone\u001b[0m\u001b[0;34m)\u001b[0m\u001b[0;34m:\u001b[0m\u001b[0;34m\u001b[0m\u001b[0m\n\u001b[1;32m    108\u001b[0m         \u001b[0;34m\"\"\"Schedule a func to be run\"\"\"\u001b[0m\u001b[0;34m\u001b[0m\u001b[0m\n\u001b[0;32m--> 109\u001b[0;31m         \u001b[0mresult\u001b[0m \u001b[0;34m=\u001b[0m \u001b[0mImmediateResult\u001b[0m\u001b[0;34m(\u001b[0m\u001b[0mfunc\u001b[0m\u001b[0;34m)\u001b[0m\u001b[0;34m\u001b[0m\u001b[0m\n\u001b[0m\u001b[1;32m    110\u001b[0m         \u001b[0;32mif\u001b[0m \u001b[0mcallback\u001b[0m\u001b[0;34m:\u001b[0m\u001b[0;34m\u001b[0m\u001b[0m\n\u001b[1;32m    111\u001b[0m             \u001b[0mcallback\u001b[0m\u001b[0;34m(\u001b[0m\u001b[0mresult\u001b[0m\u001b[0;34m)\u001b[0m\u001b[0;34m\u001b[0m\u001b[0m\n",
      "\u001b[0;32m/Users/vincent_zaballa/anaconda3/lib/python3.5/site-packages/sklearn/externals/joblib/_parallel_backends.py\u001b[0m in \u001b[0;36m__init__\u001b[0;34m(self, batch)\u001b[0m\n\u001b[1;32m    324\u001b[0m         \u001b[0;31m# Don't delay the application, to avoid keeping the input\u001b[0m\u001b[0;34m\u001b[0m\u001b[0;34m\u001b[0m\u001b[0m\n\u001b[1;32m    325\u001b[0m         \u001b[0;31m# arguments in memory\u001b[0m\u001b[0;34m\u001b[0m\u001b[0;34m\u001b[0m\u001b[0m\n\u001b[0;32m--> 326\u001b[0;31m         \u001b[0mself\u001b[0m\u001b[0;34m.\u001b[0m\u001b[0mresults\u001b[0m \u001b[0;34m=\u001b[0m \u001b[0mbatch\u001b[0m\u001b[0;34m(\u001b[0m\u001b[0;34m)\u001b[0m\u001b[0;34m\u001b[0m\u001b[0m\n\u001b[0m\u001b[1;32m    327\u001b[0m \u001b[0;34m\u001b[0m\u001b[0m\n\u001b[1;32m    328\u001b[0m     \u001b[0;32mdef\u001b[0m \u001b[0mget\u001b[0m\u001b[0;34m(\u001b[0m\u001b[0mself\u001b[0m\u001b[0;34m)\u001b[0m\u001b[0;34m:\u001b[0m\u001b[0;34m\u001b[0m\u001b[0m\n",
      "\u001b[0;32m/Users/vincent_zaballa/anaconda3/lib/python3.5/site-packages/sklearn/externals/joblib/parallel.py\u001b[0m in \u001b[0;36m__call__\u001b[0;34m(self)\u001b[0m\n\u001b[1;32m    129\u001b[0m \u001b[0;34m\u001b[0m\u001b[0m\n\u001b[1;32m    130\u001b[0m     \u001b[0;32mdef\u001b[0m \u001b[0m__call__\u001b[0m\u001b[0;34m(\u001b[0m\u001b[0mself\u001b[0m\u001b[0;34m)\u001b[0m\u001b[0;34m:\u001b[0m\u001b[0;34m\u001b[0m\u001b[0m\n\u001b[0;32m--> 131\u001b[0;31m         \u001b[0;32mreturn\u001b[0m \u001b[0;34m[\u001b[0m\u001b[0mfunc\u001b[0m\u001b[0;34m(\u001b[0m\u001b[0;34m*\u001b[0m\u001b[0margs\u001b[0m\u001b[0;34m,\u001b[0m \u001b[0;34m**\u001b[0m\u001b[0mkwargs\u001b[0m\u001b[0;34m)\u001b[0m \u001b[0;32mfor\u001b[0m \u001b[0mfunc\u001b[0m\u001b[0;34m,\u001b[0m \u001b[0margs\u001b[0m\u001b[0;34m,\u001b[0m \u001b[0mkwargs\u001b[0m \u001b[0;32min\u001b[0m \u001b[0mself\u001b[0m\u001b[0;34m.\u001b[0m\u001b[0mitems\u001b[0m\u001b[0;34m]\u001b[0m\u001b[0;34m\u001b[0m\u001b[0m\n\u001b[0m\u001b[1;32m    132\u001b[0m \u001b[0;34m\u001b[0m\u001b[0m\n\u001b[1;32m    133\u001b[0m     \u001b[0;32mdef\u001b[0m \u001b[0m__len__\u001b[0m\u001b[0;34m(\u001b[0m\u001b[0mself\u001b[0m\u001b[0;34m)\u001b[0m\u001b[0;34m:\u001b[0m\u001b[0;34m\u001b[0m\u001b[0m\n",
      "\u001b[0;32m/Users/vincent_zaballa/anaconda3/lib/python3.5/site-packages/sklearn/externals/joblib/parallel.py\u001b[0m in \u001b[0;36m<listcomp>\u001b[0;34m(.0)\u001b[0m\n\u001b[1;32m    129\u001b[0m \u001b[0;34m\u001b[0m\u001b[0m\n\u001b[1;32m    130\u001b[0m     \u001b[0;32mdef\u001b[0m \u001b[0m__call__\u001b[0m\u001b[0;34m(\u001b[0m\u001b[0mself\u001b[0m\u001b[0;34m)\u001b[0m\u001b[0;34m:\u001b[0m\u001b[0;34m\u001b[0m\u001b[0m\n\u001b[0;32m--> 131\u001b[0;31m         \u001b[0;32mreturn\u001b[0m \u001b[0;34m[\u001b[0m\u001b[0mfunc\u001b[0m\u001b[0;34m(\u001b[0m\u001b[0;34m*\u001b[0m\u001b[0margs\u001b[0m\u001b[0;34m,\u001b[0m \u001b[0;34m**\u001b[0m\u001b[0mkwargs\u001b[0m\u001b[0;34m)\u001b[0m \u001b[0;32mfor\u001b[0m \u001b[0mfunc\u001b[0m\u001b[0;34m,\u001b[0m \u001b[0margs\u001b[0m\u001b[0;34m,\u001b[0m \u001b[0mkwargs\u001b[0m \u001b[0;32min\u001b[0m \u001b[0mself\u001b[0m\u001b[0;34m.\u001b[0m\u001b[0mitems\u001b[0m\u001b[0;34m]\u001b[0m\u001b[0;34m\u001b[0m\u001b[0m\n\u001b[0m\u001b[1;32m    132\u001b[0m \u001b[0;34m\u001b[0m\u001b[0m\n\u001b[1;32m    133\u001b[0m     \u001b[0;32mdef\u001b[0m \u001b[0m__len__\u001b[0m\u001b[0;34m(\u001b[0m\u001b[0mself\u001b[0m\u001b[0;34m)\u001b[0m\u001b[0;34m:\u001b[0m\u001b[0;34m\u001b[0m\u001b[0m\n",
      "\u001b[0;32m/Users/vincent_zaballa/anaconda3/lib/python3.5/site-packages/sklearn/model_selection/_validation.py\u001b[0m in \u001b[0;36m_fit_and_score\u001b[0;34m(estimator, X, y, scorer, train, test, verbose, parameters, fit_params, return_train_score, return_parameters, return_n_test_samples, return_times, error_score)\u001b[0m\n\u001b[1;32m    236\u001b[0m             \u001b[0mestimator\u001b[0m\u001b[0;34m.\u001b[0m\u001b[0mfit\u001b[0m\u001b[0;34m(\u001b[0m\u001b[0mX_train\u001b[0m\u001b[0;34m,\u001b[0m \u001b[0;34m**\u001b[0m\u001b[0mfit_params\u001b[0m\u001b[0;34m)\u001b[0m\u001b[0;34m\u001b[0m\u001b[0m\n\u001b[1;32m    237\u001b[0m         \u001b[0;32melse\u001b[0m\u001b[0;34m:\u001b[0m\u001b[0;34m\u001b[0m\u001b[0m\n\u001b[0;32m--> 238\u001b[0;31m             \u001b[0mestimator\u001b[0m\u001b[0;34m.\u001b[0m\u001b[0mfit\u001b[0m\u001b[0;34m(\u001b[0m\u001b[0mX_train\u001b[0m\u001b[0;34m,\u001b[0m \u001b[0my_train\u001b[0m\u001b[0;34m,\u001b[0m \u001b[0;34m**\u001b[0m\u001b[0mfit_params\u001b[0m\u001b[0;34m)\u001b[0m\u001b[0;34m\u001b[0m\u001b[0m\n\u001b[0m\u001b[1;32m    239\u001b[0m \u001b[0;34m\u001b[0m\u001b[0m\n\u001b[1;32m    240\u001b[0m     \u001b[0;32mexcept\u001b[0m \u001b[0mException\u001b[0m \u001b[0;32mas\u001b[0m \u001b[0me\u001b[0m\u001b[0;34m:\u001b[0m\u001b[0;34m\u001b[0m\u001b[0m\n",
      "\u001b[0;32m/Users/vincent_zaballa/anaconda3/lib/python3.5/site-packages/sklearn/linear_model/logistic.py\u001b[0m in \u001b[0;36mfit\u001b[0;34m(self, X, y, sample_weight)\u001b[0m\n\u001b[1;32m   1184\u001b[0m                 \u001b[0mself\u001b[0m\u001b[0;34m.\u001b[0m\u001b[0mclass_weight\u001b[0m\u001b[0;34m,\u001b[0m \u001b[0mself\u001b[0m\u001b[0;34m.\u001b[0m\u001b[0mpenalty\u001b[0m\u001b[0;34m,\u001b[0m \u001b[0mself\u001b[0m\u001b[0;34m.\u001b[0m\u001b[0mdual\u001b[0m\u001b[0;34m,\u001b[0m \u001b[0mself\u001b[0m\u001b[0;34m.\u001b[0m\u001b[0mverbose\u001b[0m\u001b[0;34m,\u001b[0m\u001b[0;34m\u001b[0m\u001b[0m\n\u001b[1;32m   1185\u001b[0m                 \u001b[0mself\u001b[0m\u001b[0;34m.\u001b[0m\u001b[0mmax_iter\u001b[0m\u001b[0;34m,\u001b[0m \u001b[0mself\u001b[0m\u001b[0;34m.\u001b[0m\u001b[0mtol\u001b[0m\u001b[0;34m,\u001b[0m \u001b[0mself\u001b[0m\u001b[0;34m.\u001b[0m\u001b[0mrandom_state\u001b[0m\u001b[0;34m,\u001b[0m\u001b[0;34m\u001b[0m\u001b[0m\n\u001b[0;32m-> 1186\u001b[0;31m                 sample_weight=sample_weight)\n\u001b[0m\u001b[1;32m   1187\u001b[0m             \u001b[0mself\u001b[0m\u001b[0;34m.\u001b[0m\u001b[0mn_iter_\u001b[0m \u001b[0;34m=\u001b[0m \u001b[0mnp\u001b[0m\u001b[0;34m.\u001b[0m\u001b[0marray\u001b[0m\u001b[0;34m(\u001b[0m\u001b[0;34m[\u001b[0m\u001b[0mn_iter_\u001b[0m\u001b[0;34m]\u001b[0m\u001b[0;34m)\u001b[0m\u001b[0;34m\u001b[0m\u001b[0m\n\u001b[1;32m   1188\u001b[0m             \u001b[0;32mreturn\u001b[0m \u001b[0mself\u001b[0m\u001b[0;34m\u001b[0m\u001b[0m\n",
      "\u001b[0;32m/Users/vincent_zaballa/anaconda3/lib/python3.5/site-packages/sklearn/svm/base.py\u001b[0m in \u001b[0;36m_fit_liblinear\u001b[0;34m(X, y, C, fit_intercept, intercept_scaling, class_weight, penalty, dual, verbose, max_iter, tol, random_state, multi_class, loss, epsilon, sample_weight)\u001b[0m\n\u001b[1;32m    910\u001b[0m         \u001b[0mX\u001b[0m\u001b[0;34m,\u001b[0m \u001b[0my_ind\u001b[0m\u001b[0;34m,\u001b[0m \u001b[0msp\u001b[0m\u001b[0;34m.\u001b[0m\u001b[0misspmatrix\u001b[0m\u001b[0;34m(\u001b[0m\u001b[0mX\u001b[0m\u001b[0;34m)\u001b[0m\u001b[0;34m,\u001b[0m \u001b[0msolver_type\u001b[0m\u001b[0;34m,\u001b[0m \u001b[0mtol\u001b[0m\u001b[0;34m,\u001b[0m \u001b[0mbias\u001b[0m\u001b[0;34m,\u001b[0m \u001b[0mC\u001b[0m\u001b[0;34m,\u001b[0m\u001b[0;34m\u001b[0m\u001b[0m\n\u001b[1;32m    911\u001b[0m         \u001b[0mclass_weight_\u001b[0m\u001b[0;34m,\u001b[0m \u001b[0mmax_iter\u001b[0m\u001b[0;34m,\u001b[0m \u001b[0mrnd\u001b[0m\u001b[0;34m.\u001b[0m\u001b[0mrandint\u001b[0m\u001b[0;34m(\u001b[0m\u001b[0mnp\u001b[0m\u001b[0;34m.\u001b[0m\u001b[0miinfo\u001b[0m\u001b[0;34m(\u001b[0m\u001b[0;34m'i'\u001b[0m\u001b[0;34m)\u001b[0m\u001b[0;34m.\u001b[0m\u001b[0mmax\u001b[0m\u001b[0;34m)\u001b[0m\u001b[0;34m,\u001b[0m\u001b[0;34m\u001b[0m\u001b[0m\n\u001b[0;32m--> 912\u001b[0;31m         epsilon, sample_weight)\n\u001b[0m\u001b[1;32m    913\u001b[0m     \u001b[0;31m# Regarding rnd.randint(..) in the above signature:\u001b[0m\u001b[0;34m\u001b[0m\u001b[0;34m\u001b[0m\u001b[0m\n\u001b[1;32m    914\u001b[0m     \u001b[0;31m# seed for srand in range [0..INT_MAX); due to limitations in Numpy\u001b[0m\u001b[0;34m\u001b[0m\u001b[0;34m\u001b[0m\u001b[0m\n",
      "\u001b[0;31mKeyboardInterrupt\u001b[0m: "
     ]
    }
   ],
   "source": [
    "from imblearn.over_sampling import SMOTE\n",
    "# Smote oversampling\n",
    "sm = SMOTE(random_state=12, ratio = 1.0) # ratio = 1 means equal classes. This can be tweaked.\n",
    "x_train_res, y_train_res = sm.fit_sample(Xtrain, ytrain)\n",
    "\n",
    "# GridsearchCV\n",
    "parameters_l1 = {'penalty':['l1'], 'C': np.logspace(-4, 2, 30)}\n",
    "parameters_l2 = {'penalty':['l2'], 'C': np.logspace(-4, 2, 30)}\n",
    "\n",
    "scores = ['accuracy', 'recall']\n",
    "\n",
    "logit_lambda = np.logspace(-4, 2, 30)  # Since lambda is a python function, don't call variable lambda\n",
    "Penalty = ['l1', 'l2']\n",
    "\n",
    "for score in scores:\n",
    "    print(\"# Tuning hyper-parameters for l1 %s\" % score)\n",
    "    print(\"\")\n",
    "    \n",
    "    clf_opt_over_smpld = GridSearchCV(clf1, parameters_l1, cv=5, \n",
    "                           scoring=score)\n",
    "    clf_opt_over_smpld.fit(x_train_res, y_train_res)\n",
    "    \n",
    "    print(clf_opt_over_smpld.best_estimator_, \"\\n\",\n",
    "          clf_opt_over_smpld.best_params_, \"\\n\",\n",
    "          clf_opt_over_smpld.best_score_)\n",
    "    print(\"\")\n",
    "    print(\"# Tuning hyper-parameters for l2 %s\" % score)\n",
    "    print(\"\")\n",
    "    \n",
    "    clf_opt_over_smpld = GridSearchCV(clf1, parameters_l2, cv=5, \n",
    "                           scoring=score)\n",
    "    clf_opt_over_smpld.fit(x_train_res, y_train_res)\n",
    "    \n",
    "    print(clf_opt_over_smpld.best_estimator_, \"\\n\",\n",
    "          clf_opt_over_smpld.best_params_, \"\\n\",\n",
    "          clf_opt_over_smpld.best_score_)"
   ]
  },
  {
   "cell_type": "code",
   "execution_count": null,
   "metadata": {},
   "outputs": [],
   "source": [
    "# Creating new models\n",
    "clf_over_smpld_accur_l1 = LogisticRegression(penalty='l1', C=3.5622)\n",
    "clf_over_smpld_accur_l2 = LogisticRegression(penalty='l2', C=9.2367)\n",
    "\n",
    "clf_over_smpld_recall_l1 = LogisticRegression(penalty='l1', C=0.00067)\n",
    "clf_over_smpld_recall_l2 = LogisticRegression(penalty='l2', C=0.01172)\n",
    "\n",
    "#Fitting models\n",
    "clf_over_smpld_accur_l1.fit(x_train_rus, y_train_rus)\n",
    "clf_over_smpld_accur_l2.fit(x_train_rus, y_train_rus)\n",
    "\n",
    "clf_over_smpld_recall_l1.fit(x_train_rus, y_train_rus)\n",
    "clf_over_smpld_recall_l2.fit(x_train_rus, y_train_rus)\n",
    "\n",
    "# Summary of precision-recall metric for all models\n",
    "print('\\nUndersampled precision-recall metrics\\n')\n",
    "print(\"Accuracy Optimized Logistic Regression\\n\")\n",
    "print(\"l1\")\n",
    "print(classification_report(ytest, clf_under_smpld_accur_l1.fit(x_train_rus, y_train_rus).predict(Xtest),\n",
    "                            target_names=target_names))\n",
    "print(\"l2\")\n",
    "print(classification_report(ytest, clf_under_smpld_accur_l2.fit(x_train_rus, y_train_rus).predict(Xtest),\n",
    "                            target_names=target_names))\n",
    "print('')\n",
    "print(\"Recall Optimized Logistic Regression\\n\")\n",
    "print(\"l1\")\n",
    "print(classification_report(ytest, clf_under_smpld_recall_l1.fit(x_train_rus, y_train_rus).predict(Xtest),\n",
    "                            target_names=target_names))\n",
    "print(\"l2\")\n",
    "print(classification_report(ytest, clf_under_smpld_recall_l2.fit(x_train_rus, y_train_rus).predict(Xtest),\n",
    "                            target_names=target_names))"
   ]
  },
  {
   "cell_type": "markdown",
   "metadata": {},
   "source": [
    "**There is something going on with the optimization process for these parameters. What exactly does the best score mean for gridsearchCV? It doesn't make sense that accuracy-optimized gridsearch would return a better recall than a recall-optimized gridsearch. It's either something to do with the gridsearch parameters OR the classification_report function from sklearn.**\n",
    "\n",
    "As well, we can see that for some of the optimized parameters, there is a better recall score for the default class (Y=1) than for the non-default class (Y=0). This is strange, as an ideal case would be relatively equal recall scores for both the default and non-default classes.\n",
    "\n",
    "# 7. Stratification of Sampling\n",
    "It seems that something is wrong with one of the processes that I'm doing. Whether it's the original splitting of the data, or splitting and sampling of the under or over-sampled data. I will have to go back and really understand what is going on under the hood of the GridsearchCV function, as well as sampling of the imblearn class. Something is causing these results from a lack of understanding of parameters set for imbalanced data."
   ]
  },
  {
   "cell_type": "code",
   "execution_count": null,
   "metadata": {},
   "outputs": [],
   "source": [
    "# Plotting all the curves\n",
    "n_classes = len(defaults_df.Y)\n",
    "\n",
    "# Here are all of the models and their scores\n",
    "#regular\n",
    "y_score_1 = clf_opt_accuracy_L1.decision_function(Xtest) #id1_accuracy_optimized_normal_l1\n",
    "y_score_2 = clf_opt_recall_L1.decision_function(Xtest)   #id2_recall_optimized_normal_l1\n",
    "y_score_3 = clf_opt_accuracy_L1.decision_function(Xtest) #id3_accuracy_optimized_normal_l2\n",
    "y_score_4 = clf_opt_recall_L2.decision_function(Xtest)   #id4_recall_optimized_normal_l2\n",
    "#undersampled\n",
    "y_score_5 = clf_under_smpld_accur_l1.decision_function(Xtest)   #id5_under_accuracy_optimized_normal_l1\n",
    "y_score_6 = clf_under_smpld_recall_l1.decision_function(Xtest)  #id6_under_recall_optimized_normal_l1\n",
    "y_score_7 = clf_under_smpld_accur_l2.decision_function(Xtest)   #id7_under_accuracy_optimized_normal_l2\n",
    "y_score_8 = clf_under_smpld_recall_l2.decision_function(Xtest)  #id8_under_recall_optimized_normal_l2\n",
    "#oversampled\n",
    "y_score_9 = clf_over_smpld_accur_l1.decision_function(Xtest) #id9_over_accuracy_optimized_normal_l1\n",
    "y_score_10 = clf_over_smpld_recall_l1.decision_function(Xtest) #id10_over_recall_optimized_normal_l1\n",
    "y_score_11 = clf_over_smpld_accur_l2.decision_function(Xtest) #id11_over_accuracy_optimized_normal_l2\n",
    "y_score_12 = clf_over_smpld_recall_l2.decision_function(Xtest) #id12_over_recall_optimized_normal_l2\n",
    "\n",
    "# models and precision dictionaries\n",
    "#regular\n",
    "precision_1 = dict()\n",
    "precision_2 = dict()\n",
    "precision_3 = dict()\n",
    "precision_4 = dict()\n",
    "#undersampled\n",
    "precision_5 = dict()\n",
    "precision_6 = dict()\n",
    "precision_7 = dict()\n",
    "precision_8 = dict()\n",
    "#oversampled\n",
    "precision_9 = dict()\n",
    "precision_10 = dict()\n",
    "precision_11 = dict()\n",
    "precision_12 = dict()\n",
    "\n",
    "# models and recall dictionaries\n",
    "#regular\n",
    "recall_1 = dict()\n",
    "recall_2 = dict()\n",
    "recall_3 = dict()\n",
    "recall_4 = dict()\n",
    "#undersampled\n",
    "recall_5 = dict()\n",
    "recall_6 = dict()\n",
    "recall_7 = dict()\n",
    "recall_8 = dict()\n",
    "#oversampled\n",
    "recall_9 = dict()\n",
    "recall_10 = dict()\n",
    "recall_11 = dict()\n",
    "recall_12 = dict()\n",
    "\n",
    "#average precisions for all models\n",
    "#regular\n",
    "avg_precision_1 = dict()\n",
    "avg_precision_2 = dict()\n",
    "avg_precision_3 = dict()\n",
    "avg_precision_4 = dict()\n",
    "#undersampled\n",
    "avg_precision_5 = dict()\n",
    "avg_precision_6 = dict()\n",
    "avg_precision_7 = dict()\n",
    "avg_precision_8 = dict()\n",
    "#oversampled\n",
    "avg_precision_9 = dict()\n",
    "avg_precision_10 = dict()\n",
    "avg_precision_11 = dict()\n",
    "avg_precision_12 = dict()\n",
    "\n",
    "#precision recall curves calculated for all models\n",
    "#regular\n",
    "precision_1, recall_1, _ = precision_recall_curve(ytest, y_score_1)\n",
    "precision_2, recall_2, _ = precision_recall_curve(ytest, y_score_2)\n",
    "precision_3, recall_3, _ = precision_recall_curve(ytest, y_score_3)\n",
    "precision_4, recall_4, _ = precision_recall_curve(ytest, y_score_4)\n",
    "#undersampled\n",
    "precision_5, recall_5, _ = precision_recall_curve(ytest, y_score_5)\n",
    "precision_6, recall_6, _ = precision_recall_curve(ytest, y_score_6)\n",
    "precision_7, recall_7, _ = precision_recall_curve(ytest, y_score_7)\n",
    "precision_8, recall_8, _ = precision_recall_curve(ytest, y_score_8)\n",
    "#oversampled\n",
    "precision_9, recall_9, _ = precision_recall_curve(ytest, y_score_9)\n",
    "precision_10, recall_10, _ = precision_recall_curve(ytest, y_score_10)\n",
    "precision_11, recall_11, _ = precision_recall_curve(ytest, y_score_11)\n",
    "precision_12, recall_12, _ = precision_recall_curve(ytest, y_score_12)\n",
    "    \n",
    "#Plot average precision for all models\n",
    "#regular\n",
    "avg_precision_1 = average_precision_score(ytest, y_score_1)\n",
    "avg_precision_2 = average_precision_score(ytest, y_score_2)\n",
    "avg_precision_3 = average_precision_score(ytest, y_score_3)\n",
    "avg_precision_4 = average_precision_score(ytest, y_score_4)\n",
    "#undersampled\n",
    "avg_precision_5 = average_precision_score(ytest, y_score_5)\n",
    "avg_precision_6 = average_precision_score(ytest, y_score_6)\n",
    "avg_precision_7 = average_precision_score(ytest, y_score_7)\n",
    "avg_precision_8 = average_precision_score(ytest, y_score_8)\n",
    "#oversampled\n",
    "avg_precision_9 = average_precision_score(ytest, y_score_9)\n",
    "avg_precision_10 = average_precision_score(ytest, y_score_10)\n",
    "avg_precision_11 = average_precision_score(ytest, y_score_11)\n",
    "avg_precision_12 = average_precision_score(ytest, y_score_12)\n",
    "\n",
    "#score\n",
    "#precision dict\n",
    "#recall dict\n",
    "#average precision\n",
    "#calc precision recall curves\n",
    "\n",
    "# Plot Precision-Recall curve\n",
    "plt.figure(figsize=(20,10))\n",
    "\n",
    "plt.clf()\n",
    "lw=1.5\n",
    "plt.plot(recall_1, precision_1, lw=lw, color='navy', linestyle='dashdot',\n",
    "         label='Normal Acc-Opt L1 Precision-Recall: AUC={0:0.2f}'.format(avg_precision_1))\n",
    "plt.plot(recall_2, precision_2, lw=lw, color='navy', linestyle='solid',\n",
    "         label='Normal Recall-Opt L1 Precision-Recall: AUC={0:0.2f}'.format(avg_precision_2))\n",
    "plt.plot(recall_3, precision_3, lw=lw, color='navy', linestyle='dashed',\n",
    "         label='Normal Acc-Opt L2 Precision-Recall: AUC={0:0.2f}'.format(avg_precision_3))\n",
    "plt.plot(recall_4, precision_4, lw=lw, color='navy', linestyle='dotted',\n",
    "         label='Normal Recall-Opt L2 Precision-Recall: AUC={0:0.2f}'.format(avg_precision_4))\n",
    "\n",
    "plt.plot(recall_5, precision_5, lw=lw, color='darkorange', linestyle='dashdot',\n",
    "         label='UndSamp Acc-Opt L1 Precision-Recall: AUC={0:0.2f}'.format(avg_precision_5))\n",
    "plt.plot(recall_6, precision_6, lw=lw, color='darkorange', linestyle='solid',\n",
    "         label='UndSamp Recall-Opt L1 Precision-Recall: AUC={0:0.2f}'.format(avg_precision_6))\n",
    "plt.plot(recall_7, precision_7, lw=lw, color='darkorange', linestyle='dashed',\n",
    "         label='UndSamp Acc-Opt L2 Precision-Recall: AUC={0:0.2f}'.format(avg_precision_7))\n",
    "plt.plot(recall_8, precision_8, lw=lw, color='darkorange', linestyle='dotted',\n",
    "         label='UndSamp Recall-Opt L2 Precision-Recall: AUC={0:0.2f}'.format(avg_precision_8))\n",
    "\n",
    "plt.plot(recall_9, precision_9, lw=lw, color='g', linestyle='dashdot',\n",
    "         label='OvrSamp Acc-Opt L1 Precision-Recall: AUC={0:0.2f}'.format(avg_precision_9))\n",
    "plt.plot(recall_10, precision_10, lw=lw, color='g', linestyle='solid',\n",
    "         label='OvrSamp Recall-Opt L1 Precision-Recall: AUC={0:0.2f}'.format(avg_precision_10))\n",
    "plt.plot(recall_11, precision_11, lw=lw, color='g', linestyle='dashed',\n",
    "         label='OvrSamp Acc-Opt L2 Precision-Recall: AUC={0:0.2f}'.format(avg_precision_11))\n",
    "plt.plot(recall_12, precision_12, lw=lw, color='g', linestyle='dotted',\n",
    "         label='OvrSamp Recall-Opt L2 Precision-Recall: AUC={0:0.2f}'.format(avg_precision_12))\n",
    "\n",
    "\n",
    "plt.xlabel('Recall', fontsize=20)\n",
    "plt.ylabel('Precision', fontsize=20)\n",
    "plt.ylim([0.0, 1.05])\n",
    "plt.xlim([0.0, 1.0])\n",
    "plt.title('Precision-Recall Curve for l1 and l2 Classification', fontsize=20)\n",
    "plt.legend(loc=1)\n",
    "plt.show()"
   ]
  },
  {
   "cell_type": "code",
   "execution_count": null,
   "metadata": {},
   "outputs": [],
   "source": [
    "# ROC Curves\n",
    "\n",
    "# models and precision dictionaries\n",
    "#regular\n",
    "fpr_1 = dict()\n",
    "fpr_2 = dict()\n",
    "fpr_3 = dict()\n",
    "fpr_4 = dict()\n",
    "#undersampled\n",
    "fpr_5 = dict()\n",
    "fpr_6 = dict()\n",
    "fpr_7 = dict()\n",
    "fpr_8 = dict()\n",
    "#oversampled\n",
    "fpr_9 = dict()\n",
    "fpr_10 = dict()\n",
    "fpr_11 = dict()\n",
    "fpr_12 = dict()\n",
    "\n",
    "# models and recall dictionaries\n",
    "#regular\n",
    "tpr_1 = dict()\n",
    "tpr_2 = dict()\n",
    "tpr_3 = dict()\n",
    "tpr_4 = dict()\n",
    "#undersampled\n",
    "tpr_5 = dict()\n",
    "tpr_6 = dict()\n",
    "tpr_7 = dict()\n",
    "tpr_8 = dict()\n",
    "#ovesampled\n",
    "tpr_9 = dict()\n",
    "tpr_10 = dict()\n",
    "tpr_11 = dict()\n",
    "tpr_12 = dict()\n",
    "\n",
    "#average precisions for all models\n",
    "#regular\n",
    "roc_auc1 = dict()\n",
    "roc_auc2 = dict()\n",
    "roc_auc3 = dict()\n",
    "roc_auc4 = dict()\n",
    "#undersampled\n",
    "roc_auc5 = dict()\n",
    "roc_auc6 = dict()\n",
    "roc_auc7 = dict()\n",
    "roc_auc8 = dict()\n",
    "#oversampled\n",
    "roc_auc9 = dict()\n",
    "roc_auc10 = dict()\n",
    "roc_auc11 = dict()\n",
    "roc_auc12 = dict()\n",
    "\n",
    "#precision recall curves calculated for all models\n",
    "#regular\n",
    "fpr_1, tpr_1, _ = roc_curve(ytest, y_score_1, pos_label=1 )\n",
    "fpr_2, tpr_2, _ = roc_curve(ytest, y_score_2, pos_label=1 )\n",
    "fpr_3, tpr_3, _ = roc_curve(ytest, y_score_3, pos_label=1 )\n",
    "fpr_4, tpr_4, _ = roc_curve(ytest, y_score_4, pos_label=1 )\n",
    "#undersampled\n",
    "fpr_5, tpr_5, _ = roc_curve(ytest, y_score_5, pos_label=1 )\n",
    "fpr_6, tpr_6, _ = roc_curve(ytest, y_score_6, pos_label=1 )\n",
    "fpr_7, tpr_7, _ = roc_curve(ytest, y_score_7, pos_label=1 )\n",
    "fpr_8, tpr_8, _ = roc_curve(ytest, y_score_8, pos_label=1 )\n",
    "#oversampled\n",
    "fpr_9, tpr_9, _ = roc_curve(ytest, y_score_9, pos_label=1 )\n",
    "fpr_10, tpr_10, _ = roc_curve(ytest, y_score_10, pos_label=1 )\n",
    "fpr_11, tpr_11, _ = roc_curve(ytest, y_score_11, pos_label=1 )\n",
    "fpr_12, tpr_12, _ = roc_curve(ytest, y_score_12, pos_label=1 )\n",
    "    \n",
    "#Plot average precision for all models\n",
    "#regular\n",
    "roc_auc1 = auc(fpr_1, tpr_1)\n",
    "roc_auc2 = auc(fpr_2, tpr_2)\n",
    "roc_auc3 = auc(fpr_3, tpr_3)\n",
    "roc_auc4 = auc(fpr_4, tpr_4)\n",
    "#undersampled\n",
    "roc_auc5 = auc(fpr_5, tpr_5)\n",
    "roc_auc6 = auc(fpr_6, tpr_6)\n",
    "roc_auc7 = auc(fpr_7, tpr_7)\n",
    "roc_auc8 = auc(fpr_8, tpr_8)\n",
    "#oversampled\n",
    "roc_auc9 = auc(fpr_9, tpr_9)\n",
    "roc_auc10 = auc(fpr_10, tpr_10)\n",
    "roc_auc11 = auc(fpr_11, tpr_11)\n",
    "roc_auc12 = auc(fpr_12, tpr_12)\n",
    "\n",
    "#score\n",
    "#precision dict\n",
    "#recall dict\n",
    "#average precision\n",
    "#calc precision recall curves\n",
    "\n",
    "# Plot Precision-Recall curve\n",
    "plt.figure(figsize=(20,10))\n",
    "\n",
    "plt.clf()\n",
    "lw=1.5\n",
    "plt.plot(fpr_1, tpr_1, lw=lw, color='navy', linestyle='dashdot',\n",
    "         label='Normal Acc-Opt L1: AUC={0:0.2f}'.format(roc_auc1))\n",
    "plt.plot(fpr_2, tpr_2, lw=lw, color='navy', linestyle='solid',\n",
    "         label='Normal Recall-Opt L1: AUC={0:0.2f}'.format(roc_auc2))\n",
    "plt.plot(fpr_3, tpr_3, lw=lw, color='navy', linestyle='dashed',\n",
    "         label='Normal Acc-Opt L2: AUC={0:0.2f}'.format(roc_auc3))\n",
    "plt.plot(fpr_4, tpr_4, lw=lw, color='navy', linestyle='dotted',\n",
    "         label='Normal Recall-Opt L2: AUC={0:0.2f}'.format(roc_auc4))\n",
    "\n",
    "plt.plot(fpr_5, tpr_5, lw=lw, color='darkorange', linestyle='dashdot',\n",
    "         label='UndSamp Acc-Opt L1: AUC={0:0.2f}'.format(roc_auc5))\n",
    "plt.plot(fpr_6, tpr_6, lw=lw, color='darkorange', linestyle='solid',\n",
    "         label='UndSamp Recall-Opt L1: AUC={0:0.2f}'.format(roc_auc6))\n",
    "plt.plot(fpr_7, tpr_7, lw=lw, color='darkorange', linestyle='dashed',\n",
    "         label='UndSamp Acc-Opt L2: AUC={0:0.2f}'.format(roc_auc7))\n",
    "plt.plot(fpr_8, tpr_8, lw=lw, color='darkorange', linestyle='dotted',\n",
    "         label='UndSamp Recall-Opt L2: AUC={0:0.2f}'.format(roc_auc8))\n",
    "\n",
    "plt.plot(fpr_9, tpr_9, lw=lw, color='g', linestyle='dashdot',\n",
    "         label='OvrSamp Acc-Opt L1: AUC={0:0.2f}'.format(roc_auc9))\n",
    "plt.plot(fpr_10, tpr_10, lw=lw, color='g', linestyle='solid',\n",
    "         label='OvrSamp Recall-Opt L1: AUC={0:0.2f}'.format(roc_auc10))\n",
    "plt.plot(fpr_11, tpr_11, lw=lw, color='g', linestyle='dashed',\n",
    "         label='OvrSamp Acc-Opt L2: AUC={0:0.2f}'.format(roc_auc11))\n",
    "plt.plot(fpr_12, tpr_12, lw=lw, color='g', linestyle='dotted',\n",
    "         label='OvrSamp Recall-Opt L2: AUC={0:0.2f}'.format(roc_auc12))\n",
    "\n",
    "\n",
    "plt.plot([0, 1], [0, 1], color='navy', lw=lw, linestyle='--')\n",
    "plt.xlim([0.0, 1.0])\n",
    "plt.ylim([0.0, 1.05])\n",
    "plt.xlabel('False Positive Rate', fontsize=20)\n",
    "plt.ylabel('True Positive Rate', fontsize=20)\n",
    "plt.title('ROC Curve of Logistic Regression Samples', fontsize=20)\n",
    "plt.legend(loc=\"lower right\")\n",
    "plt.show()"
   ]
  },
  {
   "cell_type": "markdown",
   "metadata": {},
   "source": [
    "## A remark on re-sampling techniques\n",
    "Well, one interesting point is that I have done some hyptohesis testing to determine that education level determines if there is a higher likelihood of defaulting on the next month's payment. That said, it may make sense to use a KNN implementation, such as 'TomekLink' which groups close neighbors as the minor class. This also goes back to the original point that the probability of default at this time is arbitrary on when we chose to classify. We may have missed a unique default the month before or after. Combining close neighbors and the arbitrariness of the predictions, it may be better to use a KNN method to classify points. "
   ]
  },
  {
   "cell_type": "code",
   "execution_count": null,
   "metadata": {
    "collapsed": true
   },
   "outputs": [],
   "source": []
  },
  {
   "cell_type": "code",
   "execution_count": null,
   "metadata": {
    "collapsed": true
   },
   "outputs": [],
   "source": []
  },
  {
   "cell_type": "code",
   "execution_count": null,
   "metadata": {
    "collapsed": true
   },
   "outputs": [],
   "source": []
  },
  {
   "cell_type": "markdown",
   "metadata": {},
   "source": [
    "# References\n",
    "1. Yeh and Lien, 2006\n",
    "2. "
   ]
  }
 ],
 "metadata": {
  "kernelspec": {
   "display_name": "Python [default]",
   "language": "python",
   "name": "python3"
  },
  "language_info": {
   "codemirror_mode": {
    "name": "ipython",
    "version": 3
   },
   "file_extension": ".py",
   "mimetype": "text/x-python",
   "name": "python",
   "nbconvert_exporter": "python",
   "pygments_lexer": "ipython3",
   "version": "3.5.3"
  }
 },
 "nbformat": 4,
 "nbformat_minor": 2
}
