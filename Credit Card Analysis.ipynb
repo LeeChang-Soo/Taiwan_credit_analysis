{
 "cells": [
  {
   "cell_type": "markdown",
   "metadata": {},
   "source": [
    "# Credit Card Default Analysis\n",
    "This notebook will be dedicated to analyzing credit card records from payments in Taiwan. The goal will be to create a model that will give the predictive accuracy of the probability of defaulting on a payment. \n",
    "\n",
    "This dataset is aimed at the case of customer default payments in Taiwan and compares the predictive accuracy of probability of default among ~~six~~ data mining methods. I start by applying simple classification algorithms to the problem and assessing their accuracy using various measures, including accuracy, precision, recall, ROC curve, and Cohen's Kappa. This will conclude the first portion of this project, as this will tell how accurate traditional methods of classification are when trying to predict credit card defaults.\n",
    "\n",
    "From the perspective of risk management, the result of predictive accuracy of the estimated probability of default will be more valuable than the binary result of classification - credible or not credible clients. Because the real probability of default is unknown, this study presented the novel â€œSorting Smoothing Methodâ€ to estimate the real probability of default. With the real probability of default as the response variable (Y), and the predictive probability of default as the independent variable (X), the simple linear regression result (Y = A + BX) shows that the forecasting model produced by artificial neural network has the highest coefficient of determination; its regression intercept (A) is close to zero, and regression coefficient (B) to one. Therefore, among the six data mining techniques, artificial neural network is the only one that can accurately estimate the real probability of default."
   ]
  },
  {
   "cell_type": "code",
   "execution_count": 1,
   "metadata": {
    "collapsed": true
   },
   "outputs": [],
   "source": [
    "%matplotlib inline\n",
    "\n",
    "import matplotlib\n",
    "import numpy as np\n",
    "import matplotlib.pyplot as plt\n",
    "import pandas as pd\n",
    "import json\n",
    "from pandas.io.json import json_normalize\n",
    "import seaborn"
   ]
  },
  {
   "cell_type": "code",
   "execution_count": 48,
   "metadata": {},
   "outputs": [
    {
     "data": {
      "text/plain": [
       "(30001, 24)"
      ]
     },
     "execution_count": 48,
     "metadata": {},
     "output_type": "execute_result"
    }
   ],
   "source": [
    "defaults_df = pd.DataFrame.from_csv('default_of_credit_card_clients.csv')\n",
    "defaults_df.shape"
   ]
  },
  {
   "cell_type": "markdown",
   "metadata": {},
   "source": [
    "What is the distribution of payment among various age groups? This is a great way to 'bin' together groups and then do statistical analysis about a difference between groups, and the size.\n",
    "\n",
    "### Attribute Information:\n",
    "\n",
    "This research employed a binary variable, default payment (Yes = 1, No = 0), as the response variable. This study reviewed the literature and used the following 23 variables as explanatory variables: \n",
    "- X1: Amount of the given credit (NT dollar): it includes both the individual consumer credit and his/her family (supplementary) credit. \n",
    "- X2: Gender (1 = male; 2 = female). \n",
    "- X3: Education (1 = graduate school; 2 = university; 3 = high school; 4 = others). \n",
    "- X4: Marital status (1 = married; 2 = single; 3 = others). \n",
    "- X5: Age (year). \n",
    "- X6 - X11: History of past payment. We tracked the past monthly payment records (from April to September, 2005) as follows: X6 = the repayment status in September, 2005; X7 = the repayment status in August, 2005; . . .;X11 = the repayment status in April, 2005. The measurement scale for the repayment status is: -1 = pay duly; 1 = payment delay for one month; 2 = payment delay for two months; . . .; 8 = payment delay for eight months; 9 = payment delay for nine months and above. \n",
    "- X12-X17: Amount of bill statement (NT dollar). X12 = amount of bill statement in September, 2005; X13 = amount of bill statement in August, 2005; . . .; X17 = amount of bill statement in April, 2005. \n",
    "- X18-X23: Amount of previous payment (NT dollar). X18 = amount paid in September, 2005; X19 = amount paid in August, 2005; . . .;X23 = amount paid in April, 2005. "
   ]
  },
  {
   "cell_type": "code",
   "execution_count": 3,
   "metadata": {
    "scrolled": true
   },
   "outputs": [
    {
     "name": "stdout",
     "output_type": "stream",
     "text": [
      "(30000, 24)\n"
     ]
    },
    {
     "data": {
      "text/html": [
       "<div>\n",
       "<style>\n",
       "    .dataframe thead tr:only-child th {\n",
       "        text-align: right;\n",
       "    }\n",
       "\n",
       "    .dataframe thead th {\n",
       "        text-align: left;\n",
       "    }\n",
       "\n",
       "    .dataframe tbody tr th {\n",
       "        vertical-align: top;\n",
       "    }\n",
       "</style>\n",
       "<table border=\"1\" class=\"dataframe\">\n",
       "  <thead>\n",
       "    <tr style=\"text-align: right;\">\n",
       "      <th></th>\n",
       "      <th>LIMIT_BAL</th>\n",
       "      <th>SEX</th>\n",
       "      <th>EDUCATION</th>\n",
       "      <th>MARRIAGE</th>\n",
       "      <th>AGE</th>\n",
       "      <th>PAY_0</th>\n",
       "      <th>PAY_2</th>\n",
       "      <th>PAY_3</th>\n",
       "      <th>PAY_4</th>\n",
       "      <th>PAY_5</th>\n",
       "      <th>...</th>\n",
       "      <th>BILL_AMT4</th>\n",
       "      <th>BILL_AMT5</th>\n",
       "      <th>BILL_AMT6</th>\n",
       "      <th>PAY_AMT1</th>\n",
       "      <th>PAY_AMT2</th>\n",
       "      <th>PAY_AMT3</th>\n",
       "      <th>PAY_AMT4</th>\n",
       "      <th>PAY_AMT5</th>\n",
       "      <th>PAY_AMT6</th>\n",
       "      <th>Y</th>\n",
       "    </tr>\n",
       "  </thead>\n",
       "  <tbody>\n",
       "    <tr>\n",
       "      <th>1</th>\n",
       "      <td>20000</td>\n",
       "      <td>2</td>\n",
       "      <td>2</td>\n",
       "      <td>1</td>\n",
       "      <td>24</td>\n",
       "      <td>2</td>\n",
       "      <td>2</td>\n",
       "      <td>-1</td>\n",
       "      <td>-1</td>\n",
       "      <td>-2</td>\n",
       "      <td>...</td>\n",
       "      <td>0</td>\n",
       "      <td>0</td>\n",
       "      <td>0</td>\n",
       "      <td>0</td>\n",
       "      <td>689</td>\n",
       "      <td>0</td>\n",
       "      <td>0</td>\n",
       "      <td>0</td>\n",
       "      <td>0</td>\n",
       "      <td>1</td>\n",
       "    </tr>\n",
       "    <tr>\n",
       "      <th>2</th>\n",
       "      <td>120000</td>\n",
       "      <td>2</td>\n",
       "      <td>2</td>\n",
       "      <td>2</td>\n",
       "      <td>26</td>\n",
       "      <td>-1</td>\n",
       "      <td>2</td>\n",
       "      <td>0</td>\n",
       "      <td>0</td>\n",
       "      <td>0</td>\n",
       "      <td>...</td>\n",
       "      <td>3272</td>\n",
       "      <td>3455</td>\n",
       "      <td>3261</td>\n",
       "      <td>0</td>\n",
       "      <td>1000</td>\n",
       "      <td>1000</td>\n",
       "      <td>1000</td>\n",
       "      <td>0</td>\n",
       "      <td>2000</td>\n",
       "      <td>1</td>\n",
       "    </tr>\n",
       "    <tr>\n",
       "      <th>3</th>\n",
       "      <td>90000</td>\n",
       "      <td>2</td>\n",
       "      <td>2</td>\n",
       "      <td>2</td>\n",
       "      <td>34</td>\n",
       "      <td>0</td>\n",
       "      <td>0</td>\n",
       "      <td>0</td>\n",
       "      <td>0</td>\n",
       "      <td>0</td>\n",
       "      <td>...</td>\n",
       "      <td>14331</td>\n",
       "      <td>14948</td>\n",
       "      <td>15549</td>\n",
       "      <td>1518</td>\n",
       "      <td>1500</td>\n",
       "      <td>1000</td>\n",
       "      <td>1000</td>\n",
       "      <td>1000</td>\n",
       "      <td>5000</td>\n",
       "      <td>0</td>\n",
       "    </tr>\n",
       "    <tr>\n",
       "      <th>4</th>\n",
       "      <td>50000</td>\n",
       "      <td>2</td>\n",
       "      <td>2</td>\n",
       "      <td>1</td>\n",
       "      <td>37</td>\n",
       "      <td>0</td>\n",
       "      <td>0</td>\n",
       "      <td>0</td>\n",
       "      <td>0</td>\n",
       "      <td>0</td>\n",
       "      <td>...</td>\n",
       "      <td>28314</td>\n",
       "      <td>28959</td>\n",
       "      <td>29547</td>\n",
       "      <td>2000</td>\n",
       "      <td>2019</td>\n",
       "      <td>1200</td>\n",
       "      <td>1100</td>\n",
       "      <td>1069</td>\n",
       "      <td>1000</td>\n",
       "      <td>0</td>\n",
       "    </tr>\n",
       "    <tr>\n",
       "      <th>5</th>\n",
       "      <td>50000</td>\n",
       "      <td>1</td>\n",
       "      <td>2</td>\n",
       "      <td>1</td>\n",
       "      <td>57</td>\n",
       "      <td>-1</td>\n",
       "      <td>0</td>\n",
       "      <td>-1</td>\n",
       "      <td>0</td>\n",
       "      <td>0</td>\n",
       "      <td>...</td>\n",
       "      <td>20940</td>\n",
       "      <td>19146</td>\n",
       "      <td>19131</td>\n",
       "      <td>2000</td>\n",
       "      <td>36681</td>\n",
       "      <td>10000</td>\n",
       "      <td>9000</td>\n",
       "      <td>689</td>\n",
       "      <td>679</td>\n",
       "      <td>0</td>\n",
       "    </tr>\n",
       "  </tbody>\n",
       "</table>\n",
       "<p>5 rows × 24 columns</p>\n",
       "</div>"
      ],
      "text/plain": [
       "  LIMIT_BAL SEX EDUCATION MARRIAGE AGE PAY_0 PAY_2 PAY_3 PAY_4 PAY_5 ...  \\\n",
       "1     20000   2         2        1  24     2     2    -1    -1    -2 ...   \n",
       "2    120000   2         2        2  26    -1     2     0     0     0 ...   \n",
       "3     90000   2         2        2  34     0     0     0     0     0 ...   \n",
       "4     50000   2         2        1  37     0     0     0     0     0 ...   \n",
       "5     50000   1         2        1  57    -1     0    -1     0     0 ...   \n",
       "\n",
       "  BILL_AMT4 BILL_AMT5 BILL_AMT6 PAY_AMT1 PAY_AMT2 PAY_AMT3 PAY_AMT4 PAY_AMT5  \\\n",
       "1         0         0         0        0      689        0        0        0   \n",
       "2      3272      3455      3261        0     1000     1000     1000        0   \n",
       "3     14331     14948     15549     1518     1500     1000     1000     1000   \n",
       "4     28314     28959     29547     2000     2019     1200     1100     1069   \n",
       "5     20940     19146     19131     2000    36681    10000     9000      689   \n",
       "\n",
       "  PAY_AMT6  Y  \n",
       "1        0  1  \n",
       "2     2000  1  \n",
       "3     5000  0  \n",
       "4     1000  0  \n",
       "5      679  0  \n",
       "\n",
       "[5 rows x 24 columns]"
      ]
     },
     "execution_count": 3,
     "metadata": {},
     "output_type": "execute_result"
    }
   ],
   "source": [
    "# Getting rid of first line mistake\n",
    "new_header = defaults_df.iloc[0]\n",
    "defaults_df = defaults_df[1:]\n",
    "defaults_df.rename(columns = new_header)\n",
    "\n",
    "#Renaming columns\n",
    "new_header = list(new_header)\n",
    "new_header[-1] = 'Y'\n",
    "defaults_df.columns = new_header\n",
    "\n",
    "print(defaults_df.shape)\n",
    "defaults_df.head()"
   ]
  },
  {
   "cell_type": "code",
   "execution_count": 4,
   "metadata": {},
   "outputs": [
    {
     "data": {
      "text/plain": [
       "Y\n",
       "0    23364\n",
       "1     6636\n",
       "dtype: int64"
      ]
     },
     "execution_count": 4,
     "metadata": {},
     "output_type": "execute_result"
    }
   ],
   "source": [
    "defaults_df.groupby(['Y']).size()"
   ]
  },
  {
   "cell_type": "code",
   "execution_count": 5,
   "metadata": {},
   "outputs": [
    {
     "data": {
      "text/plain": [
       "3.5207956600361663"
      ]
     },
     "execution_count": 5,
     "metadata": {},
     "output_type": "execute_result"
    }
   ],
   "source": [
    "23364/6636"
   ]
  },
  {
   "cell_type": "code",
   "execution_count": 6,
   "metadata": {},
   "outputs": [
    {
     "data": {
      "text/plain": [
       "0.2212"
      ]
     },
     "execution_count": 6,
     "metadata": {},
     "output_type": "execute_result"
    }
   ],
   "source": [
    "6636/(23364+6636)"
   ]
  },
  {
   "cell_type": "code",
   "execution_count": 7,
   "metadata": {
    "scrolled": true
   },
   "outputs": [
    {
     "data": {
      "text/plain": [
       "SEX\n",
       "1    11888\n",
       "2    18112\n",
       "dtype: int64"
      ]
     },
     "execution_count": 7,
     "metadata": {},
     "output_type": "execute_result"
    }
   ],
   "source": [
    "defaults_df.groupby(['SEX']).size()"
   ]
  },
  {
   "cell_type": "code",
   "execution_count": 8,
   "metadata": {},
   "outputs": [
    {
     "data": {
      "text/plain": [
       "PAY_0\n",
       "-1     5686\n",
       "-2     2759\n",
       "0     14737\n",
       "1      3688\n",
       "2      2667\n",
       "3       322\n",
       "4        76\n",
       "5        26\n",
       "6        11\n",
       "7         9\n",
       "8        19\n",
       "dtype: int64"
      ]
     },
     "execution_count": 8,
     "metadata": {},
     "output_type": "execute_result"
    }
   ],
   "source": [
    "defaults_df.groupby(['PAY_0']).size()\n",
    "# -1 = pay duly; 1 = payment delay for one month; 2 = payment delay for two months; . . .; \n",
    "# 8 = payment delay for eight months; 9 = payment delay for nine months and above. \n",
    "\n",
    "# What is -2? Take note that there are some issues with the data, not in the description.\n",
    "# Try and treat as numeric. "
   ]
  },
  {
   "cell_type": "markdown",
   "metadata": {},
   "source": [
    "After running some code to determine how much of the imported dataset was null or not, I found out that none of the columns had missing values. That doesn't mean there are no null values, it just means there are no values that I need to concern myself with, with regards to coverting from NULL or NaN to some logical value (average, median, regressed, etc.). "
   ]
  },
  {
   "cell_type": "markdown",
   "metadata": {},
   "source": [
    "## One-hot encoding\n",
    "One-hot encoding is useful in python to train any type of model that contains categorical features. In this case, there are 9 different features that contain categorical values. Within those columns, there are varying options for distinction, such as sex having 2 options and history of past payment having 10 different values. One-hot encoding will split each of these columns into columns that have one category in the column, and whether or not that value is present in the row. Going back to the 'sex' category, this will split it into two columns called: \"SEX_male\" and \"SEX_female\", each of which will only contain binary variables. \n",
    "\n",
    "To do this, I will use pandas to  mutate the dataframe into something that is ready to use for ML algorithms."
   ]
  },
  {
   "cell_type": "code",
   "execution_count": 9,
   "metadata": {},
   "outputs": [
    {
     "data": {
      "text/plain": [
       "(30000, 92)"
      ]
     },
     "execution_count": 9,
     "metadata": {},
     "output_type": "execute_result"
    }
   ],
   "source": [
    "clf_df = pd.get_dummies(defaults_df, columns=[\"SEX\", \"EDUCATION\", \"MARRIAGE\", \"PAY_0\", \"PAY_2\", \"PAY_3\", \"PAY_4\", \"PAY_5\", \"PAY_6\"],\n",
    "               prefix=[\"SEX\", \"EDU\", \"MARRY\", \"PAY_0\", \"PAY_2\", \"PAY_3\", \"PAY_4\", \"PAY_5\", \"PAY_6\"])\n",
    "clf_df.shape"
   ]
  },
  {
   "cell_type": "markdown",
   "metadata": {},
   "source": [
    "The new df, 'clf_df', will be used for training classification models.\n",
    "\n",
    "## Data Analysis: Training Logistic Regression Classification Models\n",
    "(1.3) We would begin with Logistic Regression with regularization,\n",
    "trying both L1 and L2 regularization, and getting the classical\n",
    "performance metrics: accuracy, precision, recall, and ROC Curve.\n",
    "If possible, also precision-recall curves and areas under\n",
    "these curves. The ISLR book will be a good conceptual support\n",
    "for this, and of course scikit-learn."
   ]
  },
  {
   "cell_type": "code",
   "execution_count": 10,
   "metadata": {
    "collapsed": true,
    "scrolled": true
   },
   "outputs": [],
   "source": [
    "clf_df = clf_df.apply(pd.to_numeric, errors='coerce')"
   ]
  },
  {
   "cell_type": "markdown",
   "metadata": {},
   "source": [
    "## Basic Model"
   ]
  },
  {
   "cell_type": "code",
   "execution_count": 11,
   "metadata": {},
   "outputs": [
    {
     "name": "stdout",
     "output_type": "stream",
     "text": [
      "0.7788\n"
     ]
    }
   ],
   "source": [
    "from sklearn.model_selection import train_test_split\n",
    "from sklearn.linear_model import LogisticRegression\n",
    "from sklearn.metrics import accuracy_score\n",
    "\n",
    "# Split the data into a training and test set.\n",
    "Xtrain, Xtest, ytrain, ytest = train_test_split(clf_df, \n",
    "                                      (clf_df.Y == 1).values, test_size=0.25, random_state=5)\n",
    "\n",
    "clf = LogisticRegression()\n",
    "# Fit the model on the trainng data.\n",
    "clf.fit(Xtrain, ytrain)\n",
    "# Print the accuracy from the testing data. Table values.\n",
    "print(accuracy_score(clf.predict(Xtest), ytest))"
   ]
  },
  {
   "cell_type": "markdown",
   "metadata": {},
   "source": [
    "## Assessing Basic Model Accuracy - Simple Accuracy\n",
    "Only assessing the model by using accuracy as a measurement. I will start by using cross-validation accuracy scores, then move on to building a ROC curve, then a precision/recall curve (can be summarized by a F1 curve).\n",
    "- Basic accuracy\n",
    "- ROC curve\n",
    "- Precision/recall curve\n",
    "\n",
    "Questions to consider when choosing between a ROC and precision/recall curve: \"How meaningful is a positive result from my classifier given the baseline probabilities of my problem?\", use a PR curve. If your question is, \"How well can this classifier be expected to perform in general, at a variety of different baseline probabilities?\", go with a ROC curve."
   ]
  },
  {
   "cell_type": "code",
   "execution_count": 12,
   "metadata": {},
   "outputs": [
    {
     "data": {
      "text/plain": [
       "array([ 0.77849367,  0.77871584,  0.77888889,  0.77906201,  0.77883974])"
      ]
     },
     "execution_count": 12,
     "metadata": {},
     "output_type": "execute_result"
    }
   ],
   "source": [
    "from sklearn.model_selection import cross_val_score\n",
    "clf = LogisticRegression()\n",
    "scores = cross_val_score(clf, Xtrain, ytrain, cv=5)\n",
    "scores"
   ]
  },
  {
   "cell_type": "code",
   "execution_count": 13,
   "metadata": {},
   "outputs": [
    {
     "name": "stderr",
     "output_type": "stream",
     "text": [
      "/Users/vincent_zaballa/anaconda3/lib/python3.5/site-packages/sklearn/metrics/classification.py:1113: UndefinedMetricWarning: F-score is ill-defined and being set to 0.0 in labels with no predicted samples.\n",
      "  'precision', 'predicted', average, warn_for)\n",
      "/Users/vincent_zaballa/anaconda3/lib/python3.5/site-packages/sklearn/metrics/classification.py:1113: UndefinedMetricWarning: F-score is ill-defined and being set to 0.0 in labels with no predicted samples.\n",
      "  'precision', 'predicted', average, warn_for)\n",
      "/Users/vincent_zaballa/anaconda3/lib/python3.5/site-packages/sklearn/metrics/classification.py:1113: UndefinedMetricWarning: F-score is ill-defined and being set to 0.0 in labels with no predicted samples.\n",
      "  'precision', 'predicted', average, warn_for)\n"
     ]
    },
    {
     "data": {
      "text/plain": [
       "array([ 0.43772642,  0.43779665,  0.43785134,  0.43987901,  0.43783581])"
      ]
     },
     "execution_count": 13,
     "metadata": {},
     "output_type": "execute_result"
    }
   ],
   "source": [
    "from sklearn import metrics\n",
    "# Trying out the f1_macro score on this dataset. Will improve after implemented regression.\n",
    "scores = cross_val_score(clf, Xtrain, ytrain, cv=5, scoring='f1_macro')\n",
    "scores"
   ]
  },
  {
   "cell_type": "code",
   "execution_count": 14,
   "metadata": {},
   "outputs": [
    {
     "name": "stdout",
     "output_type": "stream",
     "text": [
      "0.656274744668\n"
     ]
    },
    {
     "data": {
      "image/png": "[encoded data removed]",
      "text/plain": [
       "<matplotlib.figure.Figure at 0x116adc160>"
      ]
     },
     "metadata": {},
     "output_type": "display_data"
    }
   ],
   "source": [
    "# Compute ROC curve and ROC area for each class\n",
    "from sklearn.metrics import roc_curve, auc\n",
    "\n",
    "y_score = clf.fit(Xtrain, ytrain).decision_function(Xtest)\n",
    "n_classes = len(defaults_df.Y)\n",
    "\n",
    "fpr = dict()\n",
    "tpr = dict()\n",
    "roc_auc = dict()\n",
    "\n",
    "fpr, tpr, _ = roc_curve(ytest, y_score, pos_label=1 )\n",
    "roc_auc = auc(fpr, tpr)\n",
    "print(roc_auc)\n",
    "\n",
    "# Plot Precision-Recall curve\n",
    "plt.figure()\n",
    "lw = 2\n",
    "plt.plot(fpr, tpr, color='darkorange',\n",
    "         lw=lw, label='ROC curve (area = %0.2f)' % roc_auc)\n",
    "plt.plot([0, 1], [0, 1], color='navy', lw=lw, linestyle='--')\n",
    "plt.xlim([0.0, 1.0])\n",
    "plt.ylim([0.0, 1.05])\n",
    "plt.xlabel('False Positive Rate')\n",
    "plt.ylabel('True Positive Rate')\n",
    "plt.title('Receiver operating characteristic example')\n",
    "plt.legend(loc=\"lower right\")\n",
    "plt.show()"
   ]
  },
  {
   "cell_type": "code",
   "execution_count": 15,
   "metadata": {},
   "outputs": [
    {
     "data": {
      "image/png": "[encoded data removed]",
      "text/plain": [
       "<matplotlib.figure.Figure at 0x1196a8f60>"
      ]
     },
     "metadata": {},
     "output_type": "display_data"
    }
   ],
   "source": [
    "from sklearn.metrics import precision_recall_curve\n",
    "from sklearn.metrics import average_precision_score\n",
    "\n",
    "# Compute Precision-Recall and plot curve\n",
    "precision = dict()\n",
    "recall = dict()\n",
    "average_precision = dict()\n",
    "precision, recall, _ = precision_recall_curve(ytest, y_score)\n",
    "average_precision = average_precision_score(ytest, y_score)\n",
    "\n",
    "# Plot Precision-Recall curve\n",
    "plt.clf()\n",
    "plt.plot(recall, precision, lw=lw, color='navy',\n",
    "         label='Precision-Recall curve')\n",
    "plt.xlabel('Recall')\n",
    "plt.ylabel('Precision')\n",
    "plt.ylim([0.0, 1.05])\n",
    "plt.xlim([0.0, 1.0])\n",
    "plt.title('Precision-Recall: AUC={0:0.2f}'.format(average_precision))\n",
    "plt.legend(loc=\"lower left\")\n",
    "plt.show()"
   ]
  },
  {
   "cell_type": "code",
   "execution_count": null,
   "metadata": {
    "collapsed": true
   },
   "outputs": [],
   "source": [
    "# Confusion Matrix and how to relate it to ROC and Precision-Recall"
   ]
  },
  {
   "cell_type": "markdown",
   "metadata": {},
   "source": [
    "## Summary of Basic Logistic Regression\n",
    "This model is ok. The accuracy hovers around 0.77, which is ok, but not necessarily ideal in the case of credit card defaults, where the each default could potentially be a large amount of money lost. Both the ROC curve and precision-recall curves return very average results. For the ROC curve, the area under the curve can be seen as a measure of quality of the classification model. A random classifer has an area of 0.5, as good as flipping a coin, and usually classifiers are built up from there, with a perfect classifier being equal to 1. In this case, an area of 0.66 means that a randomly selected case from the group, where the target equals 1, has a score larger than that for a randomly chosen case from the group with the target equals 0 in 66% of the time.\n",
    "\n",
    "The Precision-Recall curve uses Recall, which is 1-specificity, or tp/(tp + fn), and precision, which is the rate of tp/(tp + fp). Recall can be thought of as indicating: how many relevant items are selected? Precision: How many selected items are relevant? For this curve, we want it to be as far and towards the top-right corner as possible, and for the AUC to be close to 1. Again, a simple measurement for the precision-recall curve is the AUC. In this case the AUC is equal to 0.35. While this doesn't mean it's worse than random, like the ROC curve, it does mean there is a lot of room for improvement."
   ]
  },
  {
   "cell_type": "code",
   "execution_count": null,
   "metadata": {
    "collapsed": true
   },
   "outputs": [],
   "source": []
  },
  {
   "cell_type": "markdown",
   "metadata": {},
   "source": [
    "## Tune Hyperparameters\n",
    "Will use GridsearchCV from sklearn to find the optimal values of 'C' hyperparameter for regularized logistic regression. I'll start with L1 regularization and then move on to L2 to compare the two. My expectation is that L2 regression will work better than L1 regularization, as L1 typically works better for data that is sparse, which is not the case from our data, as I could tell from the inferential statistics performed on the data."
   ]
  },
  {
   "cell_type": "code",
   "execution_count": 16,
   "metadata": {
    "scrolled": true
   },
   "outputs": [
    {
     "name": "stderr",
     "output_type": "stream",
     "text": [
      "/Users/vincent_zaballa/anaconda3/lib/python3.5/site-packages/sklearn/model_selection/_search.py:667: DeprecationWarning: The grid_scores_ attribute was deprecated in version 0.18 in favor of the more elaborate cv_results_ attribute. The grid_scores_ attribute will not be available from 0.20\n",
      "  DeprecationWarning)\n"
     ]
    },
    {
     "data": {
      "text/plain": [
       "(LogisticRegression(C=0.078804628156699127, class_weight=None, dual=False,\n",
       "           fit_intercept=True, intercept_scaling=1, max_iter=100,\n",
       "           multi_class='ovr', n_jobs=1, penalty='l1', random_state=None,\n",
       "           solver='liblinear', tol=0.0001, verbose=0, warm_start=False),\n",
       " {'C': 0.078804628156699127, 'penalty': 'l1'},\n",
       " 1.0,\n",
       " [mean: 0.77871, std: 0.00014, params: {'C': 0.0001, 'penalty': 'l1'},\n",
       "  mean: 0.77876, std: 0.00014, params: {'C': 0.0001, 'penalty': 'l2'},\n",
       "  mean: 0.77871, std: 0.00014, params: {'C': 0.00016102620275609394, 'penalty': 'l1'},\n",
       "  mean: 0.77876, std: 0.00014, params: {'C': 0.00016102620275609394, 'penalty': 'l2'},\n",
       "  mean: 0.77876, std: 0.00014, params: {'C': 0.00025929437974046669, 'penalty': 'l1'},\n",
       "  mean: 0.77876, std: 0.00014, params: {'C': 0.00025929437974046669, 'penalty': 'l2'},\n",
       "  mean: 0.82498, std: 0.00175, params: {'C': 0.00041753189365604002, 'penalty': 'l1'},\n",
       "  mean: 0.77880, std: 0.00019, params: {'C': 0.00041753189365604002, 'penalty': 'l2'},\n",
       "  mean: 0.96409, std: 0.00403, params: {'C': 0.00067233575364993351, 'penalty': 'l1'},\n",
       "  mean: 0.77880, std: 0.00019, params: {'C': 0.00067233575364993351, 'penalty': 'l2'},\n",
       "  mean: 0.99076, std: 0.00110, params: {'C': 0.0010826367338740541, 'penalty': 'l1'},\n",
       "  mean: 0.77871, std: 0.00014, params: {'C': 0.0010826367338740541, 'penalty': 'l2'},\n",
       "  mean: 0.99613, std: 0.00091, params: {'C': 0.0017433288221999873, 'penalty': 'l1'},\n",
       "  mean: 0.77876, std: 0.00014, params: {'C': 0.0017433288221999873, 'penalty': 'l2'},\n",
       "  mean: 0.99822, std: 0.00051, params: {'C': 0.0028072162039411755, 'penalty': 'l1'},\n",
       "  mean: 0.77871, std: 0.00014, params: {'C': 0.0028072162039411755, 'penalty': 'l2'},\n",
       "  mean: 0.99876, std: 0.00052, params: {'C': 0.0045203536563602409, 'penalty': 'l1'},\n",
       "  mean: 0.77871, std: 0.00014, params: {'C': 0.0045203536563602409, 'penalty': 'l2'},\n",
       "  mean: 0.99938, std: 0.00029, params: {'C': 0.0072789538439831459, 'penalty': 'l1'},\n",
       "  mean: 0.77880, std: 0.00019, params: {'C': 0.0072789538439831459, 'penalty': 'l2'},\n",
       "  mean: 0.99964, std: 0.00023, params: {'C': 0.011721022975334805, 'penalty': 'l1'},\n",
       "  mean: 0.77880, std: 0.00019, params: {'C': 0.011721022975334805, 'penalty': 'l2'},\n",
       "  mean: 0.99982, std: 0.00017, params: {'C': 0.018873918221350976, 'penalty': 'l1'},\n",
       "  mean: 0.77867, std: 0.00022, params: {'C': 0.018873918221350976, 'penalty': 'l2'},\n",
       "  mean: 0.99987, std: 0.00018, params: {'C': 0.030391953823131979, 'penalty': 'l1'},\n",
       "  mean: 0.77871, std: 0.00023, params: {'C': 0.030391953823131979, 'penalty': 'l2'},\n",
       "  mean: 0.99996, std: 0.00009, params: {'C': 0.048939009184774937, 'penalty': 'l1'},\n",
       "  mean: 0.77876, std: 0.00014, params: {'C': 0.048939009184774937, 'penalty': 'l2'},\n",
       "  mean: 1.00000, std: 0.00000, params: {'C': 0.078804628156699127, 'penalty': 'l1'},\n",
       "  mean: 0.77876, std: 0.00027, params: {'C': 0.078804628156699127, 'penalty': 'l2'},\n",
       "  mean: 1.00000, std: 0.00000, params: {'C': 0.12689610031679222, 'penalty': 'l1'},\n",
       "  mean: 0.77880, std: 0.00019, params: {'C': 0.12689610031679222, 'penalty': 'l2'},\n",
       "  mean: 1.00000, std: 0.00000, params: {'C': 0.20433597178569418, 'penalty': 'l1'},\n",
       "  mean: 0.77880, std: 0.00019, params: {'C': 0.20433597178569418, 'penalty': 'l2'},\n",
       "  mean: 1.00000, std: 0.00000, params: {'C': 0.32903445623126676, 'penalty': 'l1'},\n",
       "  mean: 0.77876, std: 0.00027, params: {'C': 0.32903445623126676, 'penalty': 'l2'},\n",
       "  mean: 1.00000, std: 0.00000, params: {'C': 0.52983169062837077, 'penalty': 'l1'},\n",
       "  mean: 0.77871, std: 0.00014, params: {'C': 0.52983169062837077, 'penalty': 'l2'},\n",
       "  mean: 1.00000, std: 0.00000, params: {'C': 0.85316785241728055, 'penalty': 'l1'},\n",
       "  mean: 0.77871, std: 0.00014, params: {'C': 0.85316785241728055, 'penalty': 'l2'},\n",
       "  mean: 1.00000, std: 0.00000, params: {'C': 1.3738237958832638, 'penalty': 'l1'},\n",
       "  mean: 0.77880, std: 0.00019, params: {'C': 1.3738237958832638, 'penalty': 'l2'},\n",
       "  mean: 1.00000, std: 0.00000, params: {'C': 2.2122162910704501, 'penalty': 'l1'},\n",
       "  mean: 0.77880, std: 0.00019, params: {'C': 2.2122162910704501, 'penalty': 'l2'},\n",
       "  mean: 1.00000, std: 0.00000, params: {'C': 3.5622478902624439, 'penalty': 'l1'},\n",
       "  mean: 0.77880, std: 0.00019, params: {'C': 3.5622478902624439, 'penalty': 'l2'},\n",
       "  mean: 1.00000, std: 0.00000, params: {'C': 5.7361525104486812, 'penalty': 'l1'},\n",
       "  mean: 0.77880, std: 0.00019, params: {'C': 5.7361525104486812, 'penalty': 'l2'},\n",
       "  mean: 1.00000, std: 0.00000, params: {'C': 9.2367085718738657, 'penalty': 'l1'},\n",
       "  mean: 0.77876, std: 0.00014, params: {'C': 9.2367085718738657, 'penalty': 'l2'},\n",
       "  mean: 1.00000, std: 0.00000, params: {'C': 14.873521072935118, 'penalty': 'l1'},\n",
       "  mean: 0.77876, std: 0.00014, params: {'C': 14.873521072935118, 'penalty': 'l2'},\n",
       "  mean: 1.00000, std: 0.00000, params: {'C': 23.950266199874861, 'penalty': 'l1'},\n",
       "  mean: 0.77876, std: 0.00014, params: {'C': 23.950266199874861, 'penalty': 'l2'},\n",
       "  mean: 1.00000, std: 0.00000, params: {'C': 38.566204211634719, 'penalty': 'l1'},\n",
       "  mean: 0.77876, std: 0.00027, params: {'C': 38.566204211634719, 'penalty': 'l2'},\n",
       "  mean: 1.00000, std: 0.00000, params: {'C': 62.101694189156163, 'penalty': 'l1'},\n",
       "  mean: 0.77880, std: 0.00019, params: {'C': 62.101694189156163, 'penalty': 'l2'},\n",
       "  mean: 1.00000, std: 0.00000, params: {'C': 100.0, 'penalty': 'l1'},\n",
       "  mean: 0.77876, std: 0.00027, params: {'C': 100.0, 'penalty': 'l2'}])"
      ]
     },
     "execution_count": 16,
     "metadata": {},
     "output_type": "execute_result"
    }
   ],
   "source": [
    "from sklearn.model_selection import GridSearchCV\n",
    "parameters = {'penalty':['l1', 'l2'], 'C': np.logspace(-4, 2, 30)}\n",
    "C = np.logspace(-4, 2, 30)\n",
    "Penalty = ['l1', 'l2']\n",
    "clf1 = LogisticRegression()\n",
    "clf = GridSearchCV(clf1, parameters, cv=5, scoring=\"accuracy\")\n",
    "clf.fit(Xtrain, ytrain)\n",
    "clf.best_estimator_, clf.best_params_, clf.best_score_, clf.grid_scores_"
   ]
  },
  {
   "cell_type": "markdown",
   "metadata": {},
   "source": [
    "I was totally wrong! L1 'outscored' L2 regularization here, and that may be because of the one-hot encoding that was performed earlier. The one-hot coding created many more features that could be seen as sparse, thus favoring L1 regularization. However, L1 did too good to be true. The optimal parameter needs to be investigated and compared to that of L2 regularization. \n",
    "\n",
    "## Manually Input Optimal Coefficients for Best l1 and l2 Regularized Logistic Regressions\n",
    "This is the function that will be used to optimize the classification algorithm chosen. Performs gridsearch, CV, and returns all of the values to the user.\n",
    "\n",
    "Best l1 regularization parameters:\n",
    "\n",
    "Accuracy mean: 1.00000, std: 0.00000, params: {'C': 0.078804628156699127, 'penalty': 'l1'}\n",
    "\n",
    "Best l2 regularization parameters: \n",
    "\n",
    "Accuracy mean: 0.77876, std: 0.00014, params: {'C': 0.078804628156699127, 'penalty': 'l2'}\n",
    "\n",
    "## Plotting Accuracy Measures of Optimal GridsearchCV Parameters"
   ]
  },
  {
   "cell_type": "code",
   "execution_count": 17,
   "metadata": {
    "scrolled": false
   },
   "outputs": [
    {
     "data": {
      "image/png": "[encoded data removed]",
      "text/plain": [
       "<matplotlib.figure.Figure at 0x118a848d0>"
      ]
     },
     "metadata": {},
     "output_type": "display_data"
    }
   ],
   "source": [
    "clf_l1 = LogisticRegression(penalty='l1', C=0.078805)\n",
    "clf_l2 = LogisticRegression(penalty='l2', C=0.078805)\n",
    "\n",
    "y_score_l1 = clf_l1.fit(Xtrain, ytrain).decision_function(Xtest)\n",
    "y_score_l2 = clf_l2.fit(Xtrain, ytrain).decision_function(Xtest)\n",
    "\n",
    "fpr1 = dict()\n",
    "tpr1 = dict()\n",
    "roc_auc1 = dict()\n",
    "#l2\n",
    "fpr2 = dict()\n",
    "tpr2 = dict()\n",
    "roc_auc2 = dict()\n",
    "\n",
    "fpr1, tpr1, _ = roc_curve(ytest, y_score_l1, pos_label=1 )\n",
    "roc_auc1 = auc(fpr1, tpr1)\n",
    "#l2\n",
    "fpr2, tpr2, _ = roc_curve(ytest, y_score_l2, pos_label=1 )\n",
    "roc_auc2 = auc(fpr2, tpr2)\n",
    "\n",
    "# Plot Precision-Recall curve\n",
    "plt.figure()\n",
    "lw = 2\n",
    "plt.plot(fpr1, tpr1, color='darkorange', \n",
    "         lw=lw, label='l1 ROC curve (area = %0.2f)' % roc_auc1)\n",
    "plt.plot(fpr2, tpr2, color='g',\n",
    "         lw=lw, label='l2 ROC curve (area = %0.2f)' % roc_auc2)\n",
    "plt.plot([0, 1], [0, 1], color='navy', lw=lw, linestyle='--')\n",
    "plt.xlim([0.0, 1.0])\n",
    "plt.ylim([0.0, 1.05])\n",
    "plt.xlabel('False Positive Rate')\n",
    "plt.ylabel('True Positive Rate')\n",
    "plt.title('Receiver operating characteristic example')\n",
    "plt.legend(loc=\"lower right\")\n",
    "plt.show()"
   ]
  },
  {
   "cell_type": "markdown",
   "metadata": {},
   "source": [
    "There it is. Well, either we have the perfect algorithm or there is some misclassification going on in the 'optimal' l1 regularized logistic regression curve. To resolve this, we need to turn to precision-recall curves.\n",
    "\n",
    "## Precision Recall Curves"
   ]
  },
  {
   "cell_type": "code",
   "execution_count": 18,
   "metadata": {},
   "outputs": [
    {
     "data": {
      "image/png": "[encoded data removed]",
      "text/plain": [
       "<matplotlib.figure.Figure at 0x116cb8dd8>"
      ]
     },
     "metadata": {},
     "output_type": "display_data"
    }
   ],
   "source": [
    "# Compute Precision-Recall and plot curve\n",
    "\n",
    "precision_1 = dict()\n",
    "precision_2 = dict()\n",
    "recall_1 = dict()\n",
    "recall_2 = dict()\n",
    "\n",
    "average_precision_1 = dict()\n",
    "average_precision_2 = dict()\n",
    "\n",
    "precision_1, recall_1, _ = precision_recall_curve(ytest, y_score_l1)\n",
    "precision_2, recall_2, _ = precision_recall_curve(ytest, y_score_l2)\n",
    "average_precision_1 = average_precision_score(ytest, y_score_l1)\n",
    "average_precision_2 = average_precision_score(ytest, y_score_l2)\n",
    "\n",
    "# Plot Precision-Recall curve\n",
    "plt.clf()\n",
    "plt.plot(recall_1, precision_1, lw=lw, color='darkorange',\n",
    "         label='l1 Precision-Recall: AUC={0:0.2f}'.format(average_precision_1))\n",
    "plt.plot(recall_2, precision_2, lw=lw, color='g',\n",
    "         label='l2 Precision-Recall: AUC={0:0.2f}'.format(average_precision_2))\n",
    "plt.xlabel('Recall')\n",
    "plt.ylabel('Precision')\n",
    "plt.ylim([0.0, 1.05])\n",
    "plt.xlim([0.0, 1.0])\n",
    "plt.title('Precision-Recall Curve for l1 and l2 Classification')\n",
    "plt.legend(loc=\"lower left\")\n",
    "plt.show()"
   ]
  },
  {
   "cell_type": "markdown",
   "metadata": {},
   "source": [
    "So here we have a Precision-Recall curve that says that l1-logistic regression is absolutely perfect in predicting when a person will default in the next month, based on the information I provided before. Does that sound right? No, this model must be overfit to the data that we provided. Now it's time to implement some measures to avoid this overfitting behavior and create a classification algorithm that does better than the regular l2-logistic regression model."
   ]
  },
  {
   "cell_type": "code",
   "execution_count": 47,
   "metadata": {},
   "outputs": [
    {
     "data": {
      "text/plain": [
       "True"
      ]
     },
     "execution_count": 47,
     "metadata": {},
     "output_type": "execute_result"
    }
   ],
   "source": [
    "test_array = clf_l1.predict(Xtest)\n",
    "#a[numpy.where(a > 2)]\n",
    "np.array_equal(ytest, test_array)"
   ]
  },
  {
   "cell_type": "markdown",
   "metadata": {},
   "source": [
    "Wow, so this actually predicts all of the values. That doesn't seem right at all, but I really don't know how to check at this point. More research is needed."
   ]
  },
  {
   "cell_type": "code",
   "execution_count": null,
   "metadata": {
    "collapsed": true
   },
   "outputs": [],
   "source": []
  },
  {
   "cell_type": "code",
   "execution_count": null,
   "metadata": {
    "collapsed": true
   },
   "outputs": [],
   "source": []
  },
  {
   "cell_type": "code",
   "execution_count": null,
   "metadata": {
    "collapsed": true
   },
   "outputs": [],
   "source": []
  },
  {
   "cell_type": "code",
   "execution_count": null,
   "metadata": {
    "collapsed": true
   },
   "outputs": [],
   "source": []
  },
  {
   "cell_type": "code",
   "execution_count": null,
   "metadata": {
    "collapsed": true
   },
   "outputs": [],
   "source": []
  },
  {
   "cell_type": "code",
   "execution_count": null,
   "metadata": {
    "collapsed": true
   },
   "outputs": [],
   "source": []
  },
  {
   "cell_type": "markdown",
   "metadata": {},
   "source": [
    "## Bonus: Converting to Credit Score and Plotting\n",
    "Now to plot out the credit scores based on the probability of default!"
   ]
  },
  {
   "cell_type": "code",
   "execution_count": null,
   "metadata": {
    "collapsed": true
   },
   "outputs": [],
   "source": [
    "def convert_prob_to_score(p):\n",
    "    \"\"\"\n",
    "    takes a probability and converts it to a score\n",
    "    Example:\n",
    "        convert_prob_to_score(0.1)\n",
    "        466\n",
    "    \"\"\"\n",
    "    odds = (1 - p) / p\n",
    "    scores = np.log(odds)*(40/np.log(2)) + 340\n",
    "    return scores.astype(np.int)\n",
    "\n",
    "convert_prob_to_score(probs)"
   ]
  },
  {
   "cell_type": "code",
   "execution_count": null,
   "metadata": {
    "collapsed": true
   },
   "outputs": [],
   "source": []
  },
  {
   "cell_type": "code",
   "execution_count": null,
   "metadata": {
    "collapsed": true
   },
   "outputs": [],
   "source": []
  }
 ],
 "metadata": {
  "kernelspec": {
   "display_name": "Python [conda root]",
   "language": "python",
   "name": "conda-root-py"
  },
  "language_info": {
   "codemirror_mode": {
    "name": "ipython",
    "version": 3
   },
   "file_extension": ".py",
   "mimetype": "text/x-python",
   "name": "python",
   "nbconvert_exporter": "python",
   "pygments_lexer": "ipython3",
   "version": "3.5.3"
  }
 },
 "nbformat": 4,
 "nbformat_minor": 2
}
