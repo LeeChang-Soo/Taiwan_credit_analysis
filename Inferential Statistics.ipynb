{
 "cells": [
  {
   "cell_type": "markdown",
   "metadata": {},
   "source": [
    "# Inferential Statistics of Taiwan Credit Users\n",
    "So far, we have cleaned and assessed the data withing the Taiwan Credit dataset. We examined the data for fatal flaws as well as trends among all of the customers, discoverint the data was relatively clean enough to use to create a prediction model and that there were interesting trends in credit user behavior over time. Now I'll use some summary statistics to test some hyptoheses among certain groups of interest.\n",
    "\n",
    "I will focus on education level and start by using an ANOVA analysis of the average payment amount and bill amount to assess whether education makes a difference in the average level of debt and payment among each of the groups. I will then see if the highest education has a noticeably higher amount of debt than the other groups combined.\n",
    "\n",
    "## Summary Statistics Distributions\n",
    "To perform the anova analysis, I will need to compute the summary statistics of the bill amount and pay amount of each Taiwan customer over time and then use those statistics to compute the distibutions for each person. I'll create four new columns: BILL_AMT_AVG, BILL_AMT_STD, PAY_AMT_AVG, PAY_AMT_STD."
   ]
  },
  {
   "cell_type": "code",
   "execution_count": 1,
   "metadata": {},
   "outputs": [],
   "source": [
    "# Import data and modules\n",
    "%matplotlib inline\n",
    "\n",
    "import pandas as pd\n",
    "import numpy as np\n",
    "import matplotlib.pyplot as plt\n",
    "from matplotlib.ticker import NullFormatter\n",
    "\n",
    "# preliminary cleaning required\n",
    "defaults_df = pd.DataFrame.from_csv('default_of_credit_card_clients.csv')\n",
    "# Getting rid of first line mistake\n",
    "new_header = defaults_df.iloc[0]\n",
    "defaults_df = defaults_df[1:]\n",
    "defaults_df.rename(columns = new_header)\n",
    "\n",
    "#Renaming columns\n",
    "new_header = list(new_header)\n",
    "new_header[-1] = 'Y'\n",
    "defaults_df.columns = new_header\n",
    "\n",
    "defaults_df = defaults_df.apply(pd.to_numeric)"
   ]
  },
  {
   "cell_type": "code",
   "execution_count": 2,
   "metadata": {},
   "outputs": [
    {
     "data": {
      "text/html": [
       "<div>\n",
       "<style>\n",
       "    .dataframe thead tr:only-child th {\n",
       "        text-align: right;\n",
       "    }\n",
       "\n",
       "    .dataframe thead th {\n",
       "        text-align: left;\n",
       "    }\n",
       "\n",
       "    .dataframe tbody tr th {\n",
       "        vertical-align: top;\n",
       "    }\n",
       "</style>\n",
       "<table border=\"1\" class=\"dataframe\">\n",
       "  <thead>\n",
       "    <tr style=\"text-align: right;\">\n",
       "      <th></th>\n",
       "      <th>LIMIT_BAL</th>\n",
       "      <th>SEX</th>\n",
       "      <th>EDUCATION</th>\n",
       "      <th>MARRIAGE</th>\n",
       "      <th>AGE</th>\n",
       "      <th>PAY_0</th>\n",
       "      <th>PAY_2</th>\n",
       "      <th>PAY_3</th>\n",
       "      <th>PAY_4</th>\n",
       "      <th>PAY_5</th>\n",
       "      <th>...</th>\n",
       "      <th>BILL_AMT4</th>\n",
       "      <th>BILL_AMT5</th>\n",
       "      <th>BILL_AMT6</th>\n",
       "      <th>PAY_AMT1</th>\n",
       "      <th>PAY_AMT2</th>\n",
       "      <th>PAY_AMT3</th>\n",
       "      <th>PAY_AMT4</th>\n",
       "      <th>PAY_AMT5</th>\n",
       "      <th>PAY_AMT6</th>\n",
       "      <th>Y</th>\n",
       "    </tr>\n",
       "  </thead>\n",
       "  <tbody>\n",
       "    <tr>\n",
       "      <th>1</th>\n",
       "      <td>20000</td>\n",
       "      <td>2</td>\n",
       "      <td>2</td>\n",
       "      <td>1</td>\n",
       "      <td>24</td>\n",
       "      <td>2</td>\n",
       "      <td>2</td>\n",
       "      <td>-1</td>\n",
       "      <td>-1</td>\n",
       "      <td>-2</td>\n",
       "      <td>...</td>\n",
       "      <td>0</td>\n",
       "      <td>0</td>\n",
       "      <td>0</td>\n",
       "      <td>0</td>\n",
       "      <td>689</td>\n",
       "      <td>0</td>\n",
       "      <td>0</td>\n",
       "      <td>0</td>\n",
       "      <td>0</td>\n",
       "      <td>1</td>\n",
       "    </tr>\n",
       "    <tr>\n",
       "      <th>2</th>\n",
       "      <td>120000</td>\n",
       "      <td>2</td>\n",
       "      <td>2</td>\n",
       "      <td>2</td>\n",
       "      <td>26</td>\n",
       "      <td>-1</td>\n",
       "      <td>2</td>\n",
       "      <td>0</td>\n",
       "      <td>0</td>\n",
       "      <td>0</td>\n",
       "      <td>...</td>\n",
       "      <td>3272</td>\n",
       "      <td>3455</td>\n",
       "      <td>3261</td>\n",
       "      <td>0</td>\n",
       "      <td>1000</td>\n",
       "      <td>1000</td>\n",
       "      <td>1000</td>\n",
       "      <td>0</td>\n",
       "      <td>2000</td>\n",
       "      <td>1</td>\n",
       "    </tr>\n",
       "    <tr>\n",
       "      <th>3</th>\n",
       "      <td>90000</td>\n",
       "      <td>2</td>\n",
       "      <td>2</td>\n",
       "      <td>2</td>\n",
       "      <td>34</td>\n",
       "      <td>0</td>\n",
       "      <td>0</td>\n",
       "      <td>0</td>\n",
       "      <td>0</td>\n",
       "      <td>0</td>\n",
       "      <td>...</td>\n",
       "      <td>14331</td>\n",
       "      <td>14948</td>\n",
       "      <td>15549</td>\n",
       "      <td>1518</td>\n",
       "      <td>1500</td>\n",
       "      <td>1000</td>\n",
       "      <td>1000</td>\n",
       "      <td>1000</td>\n",
       "      <td>5000</td>\n",
       "      <td>0</td>\n",
       "    </tr>\n",
       "    <tr>\n",
       "      <th>4</th>\n",
       "      <td>50000</td>\n",
       "      <td>2</td>\n",
       "      <td>2</td>\n",
       "      <td>1</td>\n",
       "      <td>37</td>\n",
       "      <td>0</td>\n",
       "      <td>0</td>\n",
       "      <td>0</td>\n",
       "      <td>0</td>\n",
       "      <td>0</td>\n",
       "      <td>...</td>\n",
       "      <td>28314</td>\n",
       "      <td>28959</td>\n",
       "      <td>29547</td>\n",
       "      <td>2000</td>\n",
       "      <td>2019</td>\n",
       "      <td>1200</td>\n",
       "      <td>1100</td>\n",
       "      <td>1069</td>\n",
       "      <td>1000</td>\n",
       "      <td>0</td>\n",
       "    </tr>\n",
       "    <tr>\n",
       "      <th>5</th>\n",
       "      <td>50000</td>\n",
       "      <td>1</td>\n",
       "      <td>2</td>\n",
       "      <td>1</td>\n",
       "      <td>57</td>\n",
       "      <td>-1</td>\n",
       "      <td>0</td>\n",
       "      <td>-1</td>\n",
       "      <td>0</td>\n",
       "      <td>0</td>\n",
       "      <td>...</td>\n",
       "      <td>20940</td>\n",
       "      <td>19146</td>\n",
       "      <td>19131</td>\n",
       "      <td>2000</td>\n",
       "      <td>36681</td>\n",
       "      <td>10000</td>\n",
       "      <td>9000</td>\n",
       "      <td>689</td>\n",
       "      <td>679</td>\n",
       "      <td>0</td>\n",
       "    </tr>\n",
       "  </tbody>\n",
       "</table>\n",
       "<p>5 rows × 24 columns</p>\n",
       "</div>"
      ],
      "text/plain": [
       "   LIMIT_BAL  SEX  EDUCATION  MARRIAGE  AGE  PAY_0  PAY_2  PAY_3  PAY_4  \\\n",
       "1      20000    2          2         1   24      2      2     -1     -1   \n",
       "2     120000    2          2         2   26     -1      2      0      0   \n",
       "3      90000    2          2         2   34      0      0      0      0   \n",
       "4      50000    2          2         1   37      0      0      0      0   \n",
       "5      50000    1          2         1   57     -1      0     -1      0   \n",
       "\n",
       "   PAY_5 ...  BILL_AMT4  BILL_AMT5  BILL_AMT6  PAY_AMT1  PAY_AMT2  PAY_AMT3  \\\n",
       "1     -2 ...          0          0          0         0       689         0   \n",
       "2      0 ...       3272       3455       3261         0      1000      1000   \n",
       "3      0 ...      14331      14948      15549      1518      1500      1000   \n",
       "4      0 ...      28314      28959      29547      2000      2019      1200   \n",
       "5      0 ...      20940      19146      19131      2000     36681     10000   \n",
       "\n",
       "   PAY_AMT4  PAY_AMT5  PAY_AMT6  Y  \n",
       "1         0         0         0  1  \n",
       "2      1000         0      2000  1  \n",
       "3      1000      1000      5000  0  \n",
       "4      1100      1069      1000  0  \n",
       "5      9000       689       679  0  \n",
       "\n",
       "[5 rows x 24 columns]"
      ]
     },
     "execution_count": 2,
     "metadata": {},
     "output_type": "execute_result"
    }
   ],
   "source": [
    "defaults_df.head()"
   ]
  },
  {
   "cell_type": "code",
   "execution_count": 3,
   "metadata": {
    "collapsed": true
   },
   "outputs": [],
   "source": [
    "defaults_df['BILL_AMT_AVG'] = defaults_df.loc[:,'BILL_AMT1':'BILL_AMT6'].mean(axis=1)\n",
    "defaults_df['BILL_AMT_STD'] = defaults_df.loc[:,'BILL_AMT1':'BILL_AMT6'].std(axis=1)\n",
    "defaults_df['PAY_AMT_AVG'] = defaults_df.loc[:,'PAY_AMT1':'PAY_AMT6'].mean(axis=1)\n",
    "defaults_df['PAY_AMT_STD'] = defaults_df.loc[:,'PAY_AMT1':'PAY_AMT6'].std(axis=1)"
   ]
  },
  {
   "cell_type": "code",
   "execution_count": 13,
   "metadata": {
    "scrolled": false
   },
   "outputs": [
    {
     "data": {
      "image/png": "[encoded data removed]",
      "text/plain": [
       "<matplotlib.figure.Figure at 0x11f375550>"
      ]
     },
     "metadata": {},
     "output_type": "display_data"
    }
   ],
   "source": [
    "import pylab \n",
    "import scipy.stats as stats\n",
    " \n",
    "    \n",
    "stats.probplot(defaults_df.BILL_AMT_AVG, dist=\"norm\", plot=pylab)\n",
    "plt.title('Probability Plot of Average Bill Amount')\n",
    "pylab.show()"
   ]
  },
  {
   "cell_type": "code",
   "execution_count": 14,
   "metadata": {},
   "outputs": [
    {
     "name": "stderr",
     "output_type": "stream",
     "text": [
      "/Users/vincent_zaballa/anaconda3/lib/python3.5/site-packages/ipykernel/__main__.py:1: RuntimeWarning: divide by zero encountered in log\n",
      "  if __name__ == '__main__':\n",
      "/Users/vincent_zaballa/anaconda3/lib/python3.5/site-packages/ipykernel/__main__.py:1: RuntimeWarning: invalid value encountered in log\n",
      "  if __name__ == '__main__':\n"
     ]
    },
    {
     "data": {
      "image/png": "[encoded data removed]",
      "text/plain": [
       "<matplotlib.figure.Figure at 0x11ad79780>"
      ]
     },
     "metadata": {},
     "output_type": "display_data"
    }
   ],
   "source": [
    "stats.probplot(np.log(defaults_df.BILL_AMT_AVG), dist=\"norm\", plot=pylab)\n",
    "plt.title('Probability Plot of Log Average Bill Amount')\n",
    "pylab.show()"
   ]
  },
  {
   "cell_type": "code",
   "execution_count": 15,
   "metadata": {},
   "outputs": [
    {
     "data": {
      "image/png": "[encoded data removed]",
      "text/plain": [
       "<matplotlib.figure.Figure at 0x11f0ef5f8>"
      ]
     },
     "metadata": {},
     "output_type": "display_data"
    }
   ],
   "source": [
    "stats.probplot(defaults_df.PAY_AMT_AVG, dist=\"norm\", plot=pylab)\n",
    "plt.title('Probability Plot of Average Payment Amount')\n",
    "pylab.show()"
   ]
  },
  {
   "cell_type": "code",
   "execution_count": 16,
   "metadata": {},
   "outputs": [
    {
     "name": "stderr",
     "output_type": "stream",
     "text": [
      "/Users/vincent_zaballa/anaconda3/lib/python3.5/site-packages/ipykernel/__main__.py:1: RuntimeWarning: divide by zero encountered in log\n",
      "  if __name__ == '__main__':\n",
      "/Users/vincent_zaballa/anaconda3/lib/python3.5/site-packages/numpy/lib/function_base.py:2923: RuntimeWarning: invalid value encountered in subtract\n",
      "  X -= avg[:, None]\n"
     ]
    },
    {
     "data": {
      "image/png": "[encoded data removed]",
      "text/plain": [
       "<matplotlib.figure.Figure at 0x11fbb7080>"
      ]
     },
     "metadata": {},
     "output_type": "display_data"
    }
   ],
   "source": [
    "stats.probplot(np.log(defaults_df.PAY_AMT_AVG), dist=\"norm\", plot=pylab)\n",
    "plt.title('Probability Plot of Log Average Payment Amount')\n",
    "pylab.show()"
   ]
  },
  {
   "cell_type": "markdown",
   "metadata": {},
   "source": [
    "## Q-Q Plot Interpretation\n",
    "We can see that for both the average bill payment and the average bill amount, there is a high degree of non-linearity. When applying a logarithmic transformation to the data, there is still a discrepancy. The plots seems to be linear up until a point, and then is exponential. That said, I cannot perform any parametric hypothesis testing on this dataset. \n",
    "\n",
    "This also gives a hint about the type of modeling method I should use. For example, a linear model may struggle to predict the outcomes of whether a person will default or not in the next month, whereas a neural network or CART model may do better.\n",
    "\n",
    "## Alternative to Anova: Non-Parametric Hypothesis Testing\n",
    "Since The data is clearly skewed and not normal, and log-normalization did not help, I will use a Kruskal Wallis test to determine if there is a difference in the amount of debt accrued by each education category provided. The Kruskal Wallis tests a difference in median instead of mean, and ranks the data by value to perform the analysis. While this ranking helps the test work, it also loses some information related to the data, so as usual, take the result with skepticism unless it is very strong or weak."
   ]
  },
  {
   "cell_type": "code",
   "execution_count": 70,
   "metadata": {},
   "outputs": [
    {
     "name": "stdout",
     "output_type": "stream",
     "text": [
      "304.607620532 1.00120928242e-65\n"
     ]
    }
   ],
   "source": [
    "# Kruskal Wallis\n",
    "graduate_df = defaults_df.BILL_AMT_AVG[defaults_df.EDUCATION == 1]\n",
    "college_df = defaults_df.BILL_AMT_AVG[defaults_df.EDUCATION == 2]\n",
    "secondary_df = defaults_df.BILL_AMT_AVG[defaults_df.EDUCATION == 3]\n",
    "other_df = defaults_df.BILL_AMT_AVG[(defaults_df.EDUCATION < 1) | (defaults_df.EDUCATION > 3)]\n",
    "statistic, pvalue = stats.kruskal(graduate_df, college_df, secondary_df, other_df)\n",
    "print(statistic, pvalue)"
   ]
  },
  {
   "cell_type": "code",
   "execution_count": 71,
   "metadata": {},
   "outputs": [
    {
     "name": "stdout",
     "output_type": "stream",
     "text": [
      "10585\n",
      "14030\n",
      "4917\n",
      "468\n",
      "30000\n"
     ]
    }
   ],
   "source": [
    "print(len(graduate_df))\n",
    "print(len(college_df))\n",
    "print(len(secondary_df))\n",
    "print(len(other_df))\n",
    "print(len(defaults_df))"
   ]
  },
  {
   "cell_type": "code",
   "execution_count": 72,
   "metadata": {},
   "outputs": [
    {
     "name": "stdout",
     "output_type": "stream",
     "text": [
      "295.18214637 7.98015519675e-65\n"
     ]
    }
   ],
   "source": [
    "statistic, pvalue = stats.kruskal(graduate_df, college_df, secondary_df)\n",
    "print(statistic, pvalue)"
   ]
  },
  {
   "cell_type": "code",
   "execution_count": 73,
   "metadata": {},
   "outputs": [
    {
     "name": "stdout",
     "output_type": "stream",
     "text": [
      "288.898845181 8.63951832467e-65\n"
     ]
    }
   ],
   "source": [
    "statistic, pvalue = stats.kruskal(graduate_df, college_df)\n",
    "print(statistic, pvalue)"
   ]
  },
  {
   "cell_type": "code",
   "execution_count": 74,
   "metadata": {},
   "outputs": [
    {
     "name": "stdout",
     "output_type": "stream",
     "text": [
      "75.2585588787 4.12936423178e-18\n"
     ]
    }
   ],
   "source": [
    "statistic, pvalue = stats.kruskal(graduate_df, secondary_df)\n",
    "print(statistic, pvalue)"
   ]
  },
  {
   "cell_type": "code",
   "execution_count": 75,
   "metadata": {},
   "outputs": [
    {
     "name": "stdout",
     "output_type": "stream",
     "text": [
      "23773751.0 2.06471710177e-18\n"
     ]
    }
   ],
   "source": [
    "statistic, pvalue = stats.mannwhitneyu(graduate_df, secondary_df)\n",
    "print(statistic, pvalue)"
   ]
  },
  {
   "cell_type": "code",
   "execution_count": 76,
   "metadata": {},
   "outputs": [
    {
     "name": "stdout",
     "output_type": "stream",
     "text": [
      "64872546.0 4.31982590589e-65\n"
     ]
    }
   ],
   "source": [
    "statistic, pvalue = stats.mannwhitneyu(graduate_df, college_df)\n",
    "print(statistic, pvalue)"
   ]
  },
  {
   "cell_type": "code",
   "execution_count": 77,
   "metadata": {},
   "outputs": [
    {
     "name": "stdout",
     "output_type": "stream",
     "text": [
      "2103315.5 1.5979428481e-08\n"
     ]
    }
   ],
   "source": [
    "statistic, pvalue = stats.mannwhitneyu(graduate_df, other_df)\n",
    "print(statistic, pvalue)"
   ]
  },
  {
   "cell_type": "code",
   "execution_count": null,
   "metadata": {
    "collapsed": true
   },
   "outputs": [],
   "source": []
  },
  {
   "cell_type": "markdown",
   "metadata": {},
   "source": [
    "## Noparametric Hypothesis Testing Takeaways\n",
    "All of the groups differ dramatically from one another. I checked the number of samples for each group to see if there was a dramatic difference between the groups, which there was not. Then I performed the test between groups that I thought wouldn't be statistically different, such as graduate student and college student, and found that they are different. The only not significantly different group was between the graduate credit card holders and the 'others' category. \n",
    "\n",
    "## Estimating Effect Size\n",
    "I'll find the mean of each group and compare the effect size of each by computing Cohen's d, as well as overlap and superiority."
   ]
  },
  {
   "cell_type": "code",
   "execution_count": 78,
   "metadata": {},
   "outputs": [
    {
     "data": {
      "text/plain": [
       "43969.04339474095"
      ]
     },
     "execution_count": 78,
     "metadata": {},
     "output_type": "execute_result"
    }
   ],
   "source": [
    "np.mean(graduate_df)"
   ]
  },
  {
   "cell_type": "code",
   "execution_count": 79,
   "metadata": {},
   "outputs": [
    {
     "data": {
      "text/plain": [
       "46732.7661439772"
      ]
     },
     "execution_count": 79,
     "metadata": {},
     "output_type": "execute_result"
    }
   ],
   "source": [
    "np.mean(college_df)"
   ]
  },
  {
   "cell_type": "code",
   "execution_count": 80,
   "metadata": {},
   "outputs": [
    {
     "data": {
      "text/plain": [
       "40984.235238288806"
      ]
     },
     "execution_count": 80,
     "metadata": {},
     "output_type": "execute_result"
    }
   ],
   "source": [
    "np.mean(secondary_df)"
   ]
  },
  {
   "cell_type": "code",
   "execution_count": 81,
   "metadata": {},
   "outputs": [
    {
     "data": {
      "text/plain": [
       "57085.123931623886"
      ]
     },
     "execution_count": 81,
     "metadata": {},
     "output_type": "execute_result"
    }
   ],
   "source": [
    "np.mean(other_df)"
   ]
  },
  {
   "cell_type": "code",
   "execution_count": 82,
   "metadata": {},
   "outputs": [
    {
     "data": {
      "text/plain": [
       "-0.042759559705944264"
      ]
     },
     "execution_count": 82,
     "metadata": {},
     "output_type": "execute_result"
    }
   ],
   "source": [
    "def CohenEffectSize(group1, group2):\n",
    "    \"\"\"Compute Cohen's d.\n",
    "\n",
    "    group1: Series or NumPy array\n",
    "    group2: Series or NumPy array\n",
    "\n",
    "    returns: float\n",
    "    \"\"\"\n",
    "    diff = group1.mean() - group2.mean()\n",
    "\n",
    "    n1, n2 = len(group1), len(group2)\n",
    "    var1 = group1.var()\n",
    "    var2 = group2.var()\n",
    "\n",
    "    pooled_var = (n1 * var1 + n2 * var2) / (n1 + n2)\n",
    "    d = diff / np.sqrt(pooled_var)\n",
    "    return d\n",
    "CohenEffectSize(graduate_df, college_df)"
   ]
  },
  {
   "cell_type": "code",
   "execution_count": 83,
   "metadata": {},
   "outputs": [
    {
     "data": {
      "text/plain": [
       "(12.552, 5.9169999999999998)"
      ]
     },
     "execution_count": 83,
     "metadata": {},
     "output_type": "execute_result"
    }
   ],
   "source": [
    "# Code for calculating overlap and superiority between two groups\n",
    "import scipy.stats\n",
    "def overlap_superiority(control, treatment, n=1000):\n",
    "    \"\"\"Estimates overlap and superiority based on a sample.\n",
    "    \n",
    "    control: scipy.stats rv object\n",
    "    treatment: scipy.stats rv object\n",
    "    n: sample size\n",
    "    \"\"\"\n",
    "    control_sample = control\n",
    "    treatment_sample = treatment\n",
    "    thresh = (control.mean() + treatment.mean()) / 2\n",
    "    \n",
    "    control_above = sum(control_sample > thresh)\n",
    "    treatment_below = sum(treatment_sample < thresh)\n",
    "    overlap = (control_above + treatment_below) / n\n",
    "    \n",
    "    superiority = sum(x > y for x, y in zip(treatment_sample, control_sample)) / n\n",
    "    return overlap, superiority\n",
    "overlap_superiority(graduate_df, college_df)"
   ]
  },
  {
   "cell_type": "code",
   "execution_count": 90,
   "metadata": {},
   "outputs": [
    {
     "data": {
      "image/png": "[encoded data removed]",
      "text/plain": [
       "<matplotlib.figure.Figure at 0x11e6e5d30>"
      ]
     },
     "metadata": {},
     "output_type": "display_data"
    }
   ],
   "source": [
    "plt.hist(graduate_df, bins=300, alpha=0.5, label='Graduates')\n",
    "plt.hist(college_df, bins=300, alpha=0.5, label='College')\n",
    "plt.hist(secondary_df, bins=300, alpha=0.5, label='Secondary')\n",
    "plt.hist(other_df, bins=300, alpha=0.5, label='Other')\n",
    "plt.legend(loc='upper right')\n",
    "plt.xlim( xmin=0, xmax=150000 )\n",
    "plt.ylim( ymin=0, ymax=2000 )\n",
    "plt.title('Histogram of Graduates and College Avg Bill Amount')\n",
    "plt.show()"
   ]
  },
  {
   "cell_type": "markdown",
   "metadata": {},
   "source": [
    "# Inferential Statistics Conclusion\n",
    "After seeing a trend among the parallel coordinate plots in the data story notebook, hypothesis testing has not revealed a difference in the amount of debt between each education class. We can see a long-tail distribution among debt holders, and it's my hypothesis that the most damage is done to credit companies by defaults in the longer tail. The modeling and machine learing portion of this project will explore that hypothesis."
   ]
  },
  {
   "cell_type": "code",
   "execution_count": null,
   "metadata": {
    "collapsed": true
   },
   "outputs": [],
   "source": []
  }
 ],
 "metadata": {
  "kernelspec": {
   "display_name": "Python [conda root]",
   "language": "python",
   "name": "conda-root-py"
  },
  "language_info": {
   "codemirror_mode": {
    "name": "ipython",
    "version": 3
   },
   "file_extension": ".py",
   "mimetype": "text/x-python",
   "name": "python",
   "nbconvert_exporter": "python",
   "pygments_lexer": "ipython3",
   "version": "3.5.3"
  }
 },
 "nbformat": 4,
 "nbformat_minor": 2
}
