{
 "cells": [
  {
   "cell_type": "markdown",
   "metadata": {},
   "source": [
    "# Credit Card Default Analysis\n",
    "This notebook will be dedicated to analyzing credit card records from payments in Taiwan. The goal will be to create a model that will give the predictive accuracy of the probability of defaulting on a payment. \n",
    "\n",
    "This dataset is aimed at the case of customer default payments in Taiwan and compares the predictive accuracy of probability of default among ~~six~~ data mining methods. I start by applying simple classification algorithms to the problem and assessing their accuracy using various measures, including accuracy, precision, recall, ROC curve, and Cohen's Kappa. This will conclude the first portion of this project, as this will tell how accurate traditional methods of classification are when trying to predict credit card defaults.\n",
    "\n",
    "From the perspective of risk management, the result of predictive accuracy of the estimated probability of default will be more valuable than the binary result of classification - credible or not credible clients. With the real probability of default as the response variable (Y), and the predictive probability of default as the independent variable (X), the simple linear regression result (Y = A + BX) shows that the forecasting model produced by artificial neural network has the highest coefficient of determination; its regression intercept (A) is close to zero, and regression coefficient (B) to one. Therefore, among the six data mining techniques, artificial neural network is the only one that can accurately estimate the real probability of default.\n",
    "\n",
    "## Table of Contents\n",
    "1. Data Wrangling and Explanations of Dataset Attributes\n",
    "2. Basic Logistic Regression and Evaluation\n",
    "3. GridsearchCV to Optimize l1 and l2 Logistic Regression, and Evaluation\n",
    "4. Oversampling and Undersampling Methods on Logistic Regression, and Evaluation\n",
    "5. A note on K-folds\n",
    "6. New Models: "
   ]
  },
  {
   "cell_type": "code",
   "execution_count": 2,
   "metadata": {
    "collapsed": true
   },
   "outputs": [],
   "source": [
    "%matplotlib inline\n",
    "\n",
    "import matplotlib\n",
    "import numpy as np\n",
    "import matplotlib.pyplot as plt\n",
    "import pandas as pd\n",
    "import json\n",
    "from pandas.io.json import json_normalize\n",
    "import seaborn\n",
    "from sklearn.metrics import roc_curve, auc, average_precision_score, precision_recall_curve"
   ]
  },
  {
   "cell_type": "code",
   "execution_count": 3,
   "metadata": {},
   "outputs": [
    {
     "data": {
      "text/plain": [
       "(30001, 24)"
      ]
     },
     "execution_count": 3,
     "metadata": {},
     "output_type": "execute_result"
    }
   ],
   "source": [
    "defaults_df = pd.DataFrame.from_csv('default_of_credit_card_clients.csv')\n",
    "defaults_df.shape"
   ]
  },
  {
   "cell_type": "markdown",
   "metadata": {},
   "source": [
    "What is the distribution of payment among various age groups? This is a great way to 'bin' together groups and then do statistical analysis about a difference between groups, and the size.\n",
    "\n",
    "### Attribute Information:\n",
    "\n",
    "This research employed a binary variable, default payment (Yes = 1, No = 0), as the response variable. This study reviewed the literature and used the following 23 variables as explanatory variables: \n",
    "- X1: Amount of the given credit (NT dollar): it includes both the individual consumer credit and his/her family (supplementary) credit. \n",
    "- X2: Gender (1 = male; 2 = female). \n",
    "- X3: Education (1 = graduate school; 2 = university; 3 = high school; 4 = other). \n",
    "- X4: Marital status (1 = married; 2 = single; 3 = other). \n",
    "- X5: Age (year). \n",
    "- X6 - X11: History of past payment. They tracked the past monthly payment records (from April to September, 2005) as follows: X6 = the repayment status in September, 2005; X7 = the repayment status in August, 2005; . . .;X11 = the repayment status in April, 2005. The measurement scale for the repayment status is: -1 = duly paid; 1 = payment delay for one month; 2 = payment delay for two months; . . .; 8 = payment delay for eight months; 9 = payment delay for nine months and above. \n",
    "- X12-X17: Amount of bill statement (NT dollar). X12 = amount of bill statement in September, 2005; X13 = amount of bill statement in August, 2005; . . .; X17 = amount of bill statement in April, 2005. \n",
    "- X18-X23: Amount of previous payment (NT dollar). X18 = amount paid in September, 2005; X19 = amount paid in August, 2005; . . .;X23 = amount paid in April, 2005. "
   ]
  },
  {
   "cell_type": "code",
   "execution_count": 4,
   "metadata": {
    "scrolled": true
   },
   "outputs": [
    {
     "name": "stdout",
     "output_type": "stream",
     "text": [
      "(30000, 24)\n"
     ]
    },
    {
     "data": {
      "text/html": [
       "<div>\n",
       "<style>\n",
       "    .dataframe thead tr:only-child th {\n",
       "        text-align: right;\n",
       "    }\n",
       "\n",
       "    .dataframe thead th {\n",
       "        text-align: left;\n",
       "    }\n",
       "\n",
       "    .dataframe tbody tr th {\n",
       "        vertical-align: top;\n",
       "    }\n",
       "</style>\n",
       "<table border=\"1\" class=\"dataframe\">\n",
       "  <thead>\n",
       "    <tr style=\"text-align: right;\">\n",
       "      <th></th>\n",
       "      <th>LIMIT_BAL</th>\n",
       "      <th>SEX</th>\n",
       "      <th>EDUCATION</th>\n",
       "      <th>MARRIAGE</th>\n",
       "      <th>AGE</th>\n",
       "      <th>PAY_0</th>\n",
       "      <th>PAY_2</th>\n",
       "      <th>PAY_3</th>\n",
       "      <th>PAY_4</th>\n",
       "      <th>PAY_5</th>\n",
       "      <th>...</th>\n",
       "      <th>BILL_AMT4</th>\n",
       "      <th>BILL_AMT5</th>\n",
       "      <th>BILL_AMT6</th>\n",
       "      <th>PAY_AMT1</th>\n",
       "      <th>PAY_AMT2</th>\n",
       "      <th>PAY_AMT3</th>\n",
       "      <th>PAY_AMT4</th>\n",
       "      <th>PAY_AMT5</th>\n",
       "      <th>PAY_AMT6</th>\n",
       "      <th>Y</th>\n",
       "    </tr>\n",
       "  </thead>\n",
       "  <tbody>\n",
       "    <tr>\n",
       "      <th>1</th>\n",
       "      <td>20000</td>\n",
       "      <td>2</td>\n",
       "      <td>2</td>\n",
       "      <td>1</td>\n",
       "      <td>24</td>\n",
       "      <td>2</td>\n",
       "      <td>2</td>\n",
       "      <td>-1</td>\n",
       "      <td>-1</td>\n",
       "      <td>-2</td>\n",
       "      <td>...</td>\n",
       "      <td>0</td>\n",
       "      <td>0</td>\n",
       "      <td>0</td>\n",
       "      <td>0</td>\n",
       "      <td>689</td>\n",
       "      <td>0</td>\n",
       "      <td>0</td>\n",
       "      <td>0</td>\n",
       "      <td>0</td>\n",
       "      <td>1</td>\n",
       "    </tr>\n",
       "    <tr>\n",
       "      <th>2</th>\n",
       "      <td>120000</td>\n",
       "      <td>2</td>\n",
       "      <td>2</td>\n",
       "      <td>2</td>\n",
       "      <td>26</td>\n",
       "      <td>-1</td>\n",
       "      <td>2</td>\n",
       "      <td>0</td>\n",
       "      <td>0</td>\n",
       "      <td>0</td>\n",
       "      <td>...</td>\n",
       "      <td>3272</td>\n",
       "      <td>3455</td>\n",
       "      <td>3261</td>\n",
       "      <td>0</td>\n",
       "      <td>1000</td>\n",
       "      <td>1000</td>\n",
       "      <td>1000</td>\n",
       "      <td>0</td>\n",
       "      <td>2000</td>\n",
       "      <td>1</td>\n",
       "    </tr>\n",
       "    <tr>\n",
       "      <th>3</th>\n",
       "      <td>90000</td>\n",
       "      <td>2</td>\n",
       "      <td>2</td>\n",
       "      <td>2</td>\n",
       "      <td>34</td>\n",
       "      <td>0</td>\n",
       "      <td>0</td>\n",
       "      <td>0</td>\n",
       "      <td>0</td>\n",
       "      <td>0</td>\n",
       "      <td>...</td>\n",
       "      <td>14331</td>\n",
       "      <td>14948</td>\n",
       "      <td>15549</td>\n",
       "      <td>1518</td>\n",
       "      <td>1500</td>\n",
       "      <td>1000</td>\n",
       "      <td>1000</td>\n",
       "      <td>1000</td>\n",
       "      <td>5000</td>\n",
       "      <td>0</td>\n",
       "    </tr>\n",
       "    <tr>\n",
       "      <th>4</th>\n",
       "      <td>50000</td>\n",
       "      <td>2</td>\n",
       "      <td>2</td>\n",
       "      <td>1</td>\n",
       "      <td>37</td>\n",
       "      <td>0</td>\n",
       "      <td>0</td>\n",
       "      <td>0</td>\n",
       "      <td>0</td>\n",
       "      <td>0</td>\n",
       "      <td>...</td>\n",
       "      <td>28314</td>\n",
       "      <td>28959</td>\n",
       "      <td>29547</td>\n",
       "      <td>2000</td>\n",
       "      <td>2019</td>\n",
       "      <td>1200</td>\n",
       "      <td>1100</td>\n",
       "      <td>1069</td>\n",
       "      <td>1000</td>\n",
       "      <td>0</td>\n",
       "    </tr>\n",
       "    <tr>\n",
       "      <th>5</th>\n",
       "      <td>50000</td>\n",
       "      <td>1</td>\n",
       "      <td>2</td>\n",
       "      <td>1</td>\n",
       "      <td>57</td>\n",
       "      <td>-1</td>\n",
       "      <td>0</td>\n",
       "      <td>-1</td>\n",
       "      <td>0</td>\n",
       "      <td>0</td>\n",
       "      <td>...</td>\n",
       "      <td>20940</td>\n",
       "      <td>19146</td>\n",
       "      <td>19131</td>\n",
       "      <td>2000</td>\n",
       "      <td>36681</td>\n",
       "      <td>10000</td>\n",
       "      <td>9000</td>\n",
       "      <td>689</td>\n",
       "      <td>679</td>\n",
       "      <td>0</td>\n",
       "    </tr>\n",
       "  </tbody>\n",
       "</table>\n",
       "<p>5 rows × 24 columns</p>\n",
       "</div>"
      ],
      "text/plain": [
       "  LIMIT_BAL SEX EDUCATION MARRIAGE AGE PAY_0 PAY_2 PAY_3 PAY_4 PAY_5 ...  \\\n",
       "1     20000   2         2        1  24     2     2    -1    -1    -2 ...   \n",
       "2    120000   2         2        2  26    -1     2     0     0     0 ...   \n",
       "3     90000   2         2        2  34     0     0     0     0     0 ...   \n",
       "4     50000   2         2        1  37     0     0     0     0     0 ...   \n",
       "5     50000   1         2        1  57    -1     0    -1     0     0 ...   \n",
       "\n",
       "  BILL_AMT4 BILL_AMT5 BILL_AMT6 PAY_AMT1 PAY_AMT2 PAY_AMT3 PAY_AMT4 PAY_AMT5  \\\n",
       "1         0         0         0        0      689        0        0        0   \n",
       "2      3272      3455      3261        0     1000     1000     1000        0   \n",
       "3     14331     14948     15549     1518     1500     1000     1000     1000   \n",
       "4     28314     28959     29547     2000     2019     1200     1100     1069   \n",
       "5     20940     19146     19131     2000    36681    10000     9000      689   \n",
       "\n",
       "  PAY_AMT6  Y  \n",
       "1        0  1  \n",
       "2     2000  1  \n",
       "3     5000  0  \n",
       "4     1000  0  \n",
       "5      679  0  \n",
       "\n",
       "[5 rows x 24 columns]"
      ]
     },
     "execution_count": 4,
     "metadata": {},
     "output_type": "execute_result"
    }
   ],
   "source": [
    "# Getting rid of first line mistake\n",
    "new_header = defaults_df.iloc[0]\n",
    "defaults_df = defaults_df[1:]\n",
    "defaults_df.rename(columns = new_header)\n",
    "\n",
    "#Renaming columns\n",
    "new_header = list(new_header)\n",
    "new_header[-1] = 'Y'\n",
    "defaults_df.columns = new_header\n",
    "\n",
    "print(defaults_df.shape)\n",
    "defaults_df.head()"
   ]
  },
  {
   "cell_type": "code",
   "execution_count": 74,
   "metadata": {},
   "outputs": [
    {
     "name": "stdout",
     "output_type": "stream",
     "text": [
      "<class 'str'>\n",
      "<class 'str'>\n",
      "<class 'str'>\n"
     ]
    }
   ],
   "source": [
    "print(type(defaults_df.SEX[0]))\n",
    "print(type(defaults_df.AGE[0]))\n",
    "print(type(defaults_df.BILL_AMT4[0]))"
   ]
  },
  {
   "cell_type": "code",
   "execution_count": 69,
   "metadata": {},
   "outputs": [
    {
     "data": {
      "text/plain": [
       "0"
      ]
     },
     "execution_count": 69,
     "metadata": {},
     "output_type": "execute_result"
    }
   ],
   "source": [
    "# Checking if any values are blank.\n",
    "defaults_df.shape[0] - defaults_df.dropna().shape[0]"
   ]
  },
  {
   "cell_type": "code",
   "execution_count": null,
   "metadata": {
    "collapsed": true
   },
   "outputs": [],
   "source": [
    "# Percentage of missing values per column\n",
    "\n",
    "# Bar chart for columns with categorical data\n",
    "\n",
    "# Bar chart showing number of positive versus negative points(For rows? Columns? Defaults?)\n",
    "\n",
    "# (Data Story) Various scatter plots of indp. vs. dependent variable (age, marriage,edu, etc. vs. default)\n",
    "\n",
    "# Statistical inference of a difference in groups to default on their next payment\n",
    "\n"
   ]
  },
  {
   "cell_type": "markdown",
   "metadata": {},
   "source": [
    "After running some code to determine how much of the imported dataset was null or not, I found out that none of the columns had missing values. That doesn't mean there are no null values, it just means there are no values that I need to concern myself with, with regards to coverting from NULL or NaN to some logical value (average, median, regressed, etc.). "
   ]
  },
  {
   "cell_type": "markdown",
   "metadata": {},
   "source": [
    "## One-hot encoding\n",
    "One-hot encoding is useful in python to train any type of model that contains categorical features. In this case, there are 9 different features that contain categorical values. Within those columns, there are varying options for distinction, such as sex having 2 options and history of past payment having 10 different values. One-hot encoding will split each of these columns into columns that have one category in the column, and whether or not that value is present in the row. Going back to the 'sex' category, this will split it into two columns called: \"SEX_male\" and \"SEX_female\", each of which will only contain binary variables. \n",
    "\n",
    "To do this, I will use pandas to  mutate the dataframe into something that is ready to use for ML algorithms."
   ]
  },
  {
   "cell_type": "code",
   "execution_count": 8,
   "metadata": {},
   "outputs": [
    {
     "data": {
      "text/plain": [
       "(30000, 92)"
      ]
     },
     "execution_count": 8,
     "metadata": {},
     "output_type": "execute_result"
    }
   ],
   "source": [
    "clf_df = pd.get_dummies(defaults_df, columns=[\"SEX\", \"EDUCATION\", \"MARRIAGE\", \"PAY_0\", \"PAY_2\", \"PAY_3\", \"PAY_4\", \"PAY_5\", \"PAY_6\"],\n",
    "               prefix=[\"SEX\", \"EDU\", \"MARRY\", \"PAY_0\", \"PAY_2\", \"PAY_3\", \"PAY_4\", \"PAY_5\", \"PAY_6\"])\n",
    "clf_df.shape"
   ]
  },
  {
   "cell_type": "markdown",
   "metadata": {},
   "source": [
    "The new df, 'clf_df', will be used for training classification models.\n",
    "\n",
    "## Data Analysis: Training Logistic Regression Classification Models\n",
    "(1.3) We would begin with Logistic Regression with regularization,\n",
    "trying both L1 and L2 regularization, and getting the classical\n",
    "performance metrics: accuracy, precision, recall, and ROC Curve.\n",
    "If possible, also precision-recall curves and areas under\n",
    "these curves. The ISLR book will be a good conceptual support\n",
    "for this, and of course scikit-learn."
   ]
  },
  {
   "cell_type": "code",
   "execution_count": 9,
   "metadata": {
    "collapsed": true,
    "scrolled": true
   },
   "outputs": [],
   "source": [
    "clf_df = clf_df.apply(pd.to_numeric)"
   ]
  },
  {
   "cell_type": "markdown",
   "metadata": {},
   "source": [
    "## Basic Model"
   ]
  },
  {
   "cell_type": "code",
   "execution_count": 10,
   "metadata": {},
   "outputs": [
    {
     "name": "stdout",
     "output_type": "stream",
     "text": [
      "0.7788\n"
     ]
    }
   ],
   "source": [
    "from sklearn.model_selection import train_test_split\n",
    "from sklearn.linear_model import LogisticRegression\n",
    "from sklearn.metrics import accuracy_score\n",
    "\n",
    "# Split the data into a training and test set.\n",
    "Xtrain, Xtest, ytrain, ytest = train_test_split(clf_df.drop('Y', axis=1),\n",
    "                                                clf_df.Y, test_size=0.25, random_state=5)\n",
    "clf = LogisticRegression()\n",
    "# Fit the model on the trainng data.\n",
    "clf.fit(Xtrain, ytrain)\n",
    "# Print the accuracy from the testing data. Table values.\n",
    "print(accuracy_score(clf.predict(Xtest), ytest))"
   ]
  },
  {
   "cell_type": "markdown",
   "metadata": {},
   "source": [
    "## Assessing Basic Model Accuracy - Simple Accuracy\n",
    "Only assessing the model by using accuracy as a measurement. I will start by using cross-validation accuracy scores, then move on to building a ROC curve, then a precision/recall curve (can be summarized by a F1 curve).\n",
    "- Basic accuracy\n",
    "- ROC curve\n",
    "- Precision/recall curve\n",
    "\n",
    "Questions to consider when choosing between a ROC and precision/recall curve: \"How meaningful is a positive result from my classifier given the baseline probabilities of my problem?\", use a PR curve. If your question is, \"How well can this classifier be expected to perform in general, at a variety of different baseline probabilities?\", go with a ROC curve."
   ]
  },
  {
   "cell_type": "code",
   "execution_count": 11,
   "metadata": {},
   "outputs": [
    {
     "data": {
      "text/plain": [
       "array([ 0.77849367,  0.77871584,  0.77888889,  0.7783952 ,  0.77883974])"
      ]
     },
     "execution_count": 11,
     "metadata": {},
     "output_type": "execute_result"
    }
   ],
   "source": [
    "from sklearn.model_selection import cross_val_score\n",
    "clf = LogisticRegression()\n",
    "scores = cross_val_score(clf, Xtrain, ytrain, cv=5)\n",
    "scores"
   ]
  },
  {
   "cell_type": "code",
   "execution_count": 12,
   "metadata": {},
   "outputs": [
    {
     "name": "stderr",
     "output_type": "stream",
     "text": [
      "/Users/vincent_zaballa/anaconda3/lib/python3.5/site-packages/sklearn/metrics/classification.py:1113: UndefinedMetricWarning: F-score is ill-defined and being set to 0.0 in labels with no predicted samples.\n",
      "  'precision', 'predicted', average, warn_for)\n",
      "/Users/vincent_zaballa/anaconda3/lib/python3.5/site-packages/sklearn/metrics/classification.py:1113: UndefinedMetricWarning: F-score is ill-defined and being set to 0.0 in labels with no predicted samples.\n",
      "  'precision', 'predicted', average, warn_for)\n",
      "/Users/vincent_zaballa/anaconda3/lib/python3.5/site-packages/sklearn/metrics/classification.py:1113: UndefinedMetricWarning: F-score is ill-defined and being set to 0.0 in labels with no predicted samples.\n",
      "  'precision', 'predicted', average, warn_for)\n"
     ]
    },
    {
     "data": {
      "text/plain": [
       "array([ 0.43772642,  0.43779665,  0.43785134,  0.43868071,  0.43783581])"
      ]
     },
     "execution_count": 12,
     "metadata": {},
     "output_type": "execute_result"
    }
   ],
   "source": [
    "from sklearn import metrics\n",
    "# Trying out the f1_macro score on this dataset. Will improve after implemented regression.\n",
    "scores = cross_val_score(clf, Xtrain, ytrain, cv=5, scoring='f1_macro')\n",
    "scores"
   ]
  },
  {
   "cell_type": "code",
   "execution_count": 13,
   "metadata": {},
   "outputs": [
    {
     "data": {
      "text/plain": [
       "array([0, 0, 0, ..., 0, 0, 0])"
      ]
     },
     "execution_count": 13,
     "metadata": {},
     "output_type": "execute_result"
    }
   ],
   "source": [
    "clf.fit(Xtrain, ytrain).predict(Xtest)"
   ]
  },
  {
   "cell_type": "code",
   "execution_count": 14,
   "metadata": {},
   "outputs": [
    {
     "name": "stdout",
     "output_type": "stream",
     "text": [
      "[[5841    0]\n",
      " [1659    0]]\n",
      "5841 0 1659 0\n",
      "             precision    recall  f1-score   support\n",
      "\n",
      "          0       0.78      1.00      0.88      5841\n",
      "          1       0.00      0.00      0.00      1659\n",
      "\n",
      "avg / total       0.61      0.78      0.68      7500\n",
      "\n"
     ]
    },
    {
     "name": "stderr",
     "output_type": "stream",
     "text": [
      "/Users/vincent_zaballa/anaconda3/lib/python3.5/site-packages/sklearn/metrics/classification.py:1113: UndefinedMetricWarning: Precision and F-score are ill-defined and being set to 0.0 in labels with no predicted samples.\n",
      "  'precision', 'predicted', average, warn_for)\n"
     ]
    }
   ],
   "source": [
    "from sklearn.metrics import confusion_matrix\n",
    "from sklearn.metrics import classification_report\n",
    "print(confusion_matrix(ytest, clf.fit(Xtrain, ytrain).predict(Xtest)))\n",
    "tn, fp, fn, tp = confusion_matrix(ytest, clf.fit(Xtrain, ytrain).predict(Xtest)).ravel()\n",
    "print(tn, fp, fn, tp)\n",
    "target_names = ['0', '1']\n",
    "print(classification_report(ytest, clf.fit(Xtrain, ytrain).predict(Xtest), target_names=target_names))"
   ]
  },
  {
   "cell_type": "code",
   "execution_count": 15,
   "metadata": {},
   "outputs": [
    {
     "name": "stdout",
     "output_type": "stream",
     "text": [
      "Confusion matrix, without normalization\n",
      "[[5841    0]\n",
      " [1659    0]]\n"
     ]
    },
    {
     "data": {
      "image/png": "[encoded data removed]",
      "text/plain": [
       "<matplotlib.figure.Figure at 0x10f645e80>"
      ]
     },
     "metadata": {},
     "output_type": "display_data"
    }
   ],
   "source": [
    "import itertools\n",
    "def plot_confusion_matrix(cm, classes,\n",
    "                          normalize=False,\n",
    "                          title='Confusion matrix',\n",
    "                          cmap=plt.cm.Blues):\n",
    "    \"\"\"\n",
    "    This function prints and plots the confusion matrix.\n",
    "    Normalization can be applied by setting `normalize=True`.\n",
    "    \"\"\"\n",
    "    plt.imshow(cm, interpolation='nearest', cmap=cmap)\n",
    "    plt.title(title)\n",
    "    plt.colorbar()\n",
    "    tick_marks = np.arange(len(classes))\n",
    "    plt.xticks(tick_marks, classes, rotation=45)\n",
    "    plt.yticks(tick_marks, classes)\n",
    "\n",
    "    if normalize:\n",
    "        cm = cm.astype('float') / cm.sum(axis=1)[:, np.newaxis]\n",
    "        print(\"Normalized confusion matrix\")\n",
    "    else:\n",
    "        print('Confusion matrix, without normalization')\n",
    "\n",
    "    print(cm)\n",
    "\n",
    "    thresh = cm.max() / 2.\n",
    "    for i, j in itertools.product(range(cm.shape[0]), range(cm.shape[1])):\n",
    "        plt.text(j, i, cm[i, j],\n",
    "                 horizontalalignment=\"center\",\n",
    "                 color=\"white\" if cm[i, j] > thresh else \"black\")\n",
    "\n",
    "    plt.tight_layout()\n",
    "    plt.ylabel('True label')\n",
    "    plt.xlabel('Predicted label')\n",
    "\n",
    "# Compute confusion matrix\n",
    "cnf_matrix = confusion_matrix(ytest, clf.fit(Xtrain, ytrain).predict(Xtest))\n",
    "np.set_printoptions(precision=2)\n",
    "\n",
    "# Plot non-normalized confusion matrix\n",
    "plt.figure()\n",
    "plot_confusion_matrix(cnf_matrix, classes=target_names,\n",
    "                      title='Confusion matrix, without normalization')\n",
    "\n",
    "plt.show()"
   ]
  },
  {
   "cell_type": "code",
   "execution_count": 16,
   "metadata": {
    "collapsed": true
   },
   "outputs": [],
   "source": [
    "# Confusion Matrix and how to relate it to ROC and Precision-Recall"
   ]
  },
  {
   "cell_type": "markdown",
   "metadata": {},
   "source": [
    "## Summary of Basic Logistic Regression\n",
    "This model is ok. The accuracy hovers around 0.77, which is ok, but not necessarily ideal in the case of credit card defaults, where the each default could potentially be a large amount of money lost. Both the ROC curve and precision-recall curves return very average results. For the ROC curve, the area under the curve can be seen as a measure of quality of the classification model. A random classifer has an area of 0.5, as good as flipping a coin, and usually classifiers are built up from there, with a perfect classifier being equal to 1. In this case, an area of 0.66 means that a randomly selected case from the group, where the target equals 1, has a score larger than that for a randomly chosen case from the group with the target equals 0 in 66% of the time.\n",
    "\n",
    "The Precision-Recall curve uses Recall, which is 1-specificity, or tp/(tp + fn), and precision, which is the rate of tp/(tp + fp). Recall can be thought of as indicating: how many relevant items are selected? Precision: How many selected items are relevant? For this curve, we want it to be as far and towards the top-right corner as possible, and for the AUC to be close to 1. Again, a simple measurement for the precision-recall curve is the AUC. In this case the AUC is equal to 0.35. While this doesn't mean it's worse than random, like the ROC curve, it does mean there is a lot of room for improvement."
   ]
  },
  {
   "cell_type": "markdown",
   "metadata": {},
   "source": [
    "## Tune Hyperparameters\n",
    "Will use GridsearchCV from sklearn to find the optimal values of 'C' hyperparameter for regularized logistic regression. I'll start with L1 regularization and then move on to L2 to compare the two. My expectation is that L2 regression will work better than L1 regularization, as L1 typically works better for data that is sparse, which is not the case from our data, as I could tell from the inferential statistics performed on the data."
   ]
  },
  {
   "cell_type": "code",
   "execution_count": 17,
   "metadata": {
    "scrolled": true
   },
   "outputs": [
    {
     "name": "stderr",
     "output_type": "stream",
     "text": [
      "/Users/vincent_zaballa/anaconda3/lib/python3.5/site-packages/sklearn/model_selection/_search.py:667: DeprecationWarning: The grid_scores_ attribute was deprecated in version 0.18 in favor of the more elaborate cv_results_ attribute. The grid_scores_ attribute will not be available from 0.20\n",
      "  DeprecationWarning)\n"
     ]
    },
    {
     "data": {
      "text/plain": [
       "(LogisticRegression(C=5.7361525104486812, class_weight=None, dual=False,\n",
       "           fit_intercept=True, intercept_scaling=1, max_iter=100,\n",
       "           multi_class='ovr', n_jobs=1, penalty='l1', random_state=None,\n",
       "           solver='liblinear', tol=0.0001, verbose=0, warm_start=False),\n",
       " {'C': 5.7361525104486812, 'penalty': 'l1'},\n",
       " 0.82040000000000002,\n",
       " [mean: 0.77871, std: 0.00014, params: {'penalty': 'l1', 'C': 0.0001},\n",
       "  mean: 0.77876, std: 0.00014, params: {'penalty': 'l2', 'C': 0.0001},\n",
       "  mean: 0.77871, std: 0.00014, params: {'penalty': 'l1', 'C': 0.00016102620275609394},\n",
       "  mean: 0.77876, std: 0.00027, params: {'penalty': 'l2', 'C': 0.00016102620275609394},\n",
       "  mean: 0.77876, std: 0.00014, params: {'penalty': 'l1', 'C': 0.00025929437974046669},\n",
       "  mean: 0.77867, std: 0.00022, params: {'penalty': 'l2', 'C': 0.00025929437974046669},\n",
       "  mean: 0.77876, std: 0.00014, params: {'penalty': 'l1', 'C': 0.00041753189365604002},\n",
       "  mean: 0.77876, std: 0.00014, params: {'penalty': 'l2', 'C': 0.00041753189365604002},\n",
       "  mean: 0.77876, std: 0.00014, params: {'penalty': 'l1', 'C': 0.00067233575364993351},\n",
       "  mean: 0.77880, std: 0.00019, params: {'penalty': 'l2', 'C': 0.00067233575364993351},\n",
       "  mean: 0.77884, std: 0.00013, params: {'penalty': 'l1', 'C': 0.0010826367338740541},\n",
       "  mean: 0.77880, std: 0.00019, params: {'penalty': 'l2', 'C': 0.0010826367338740541},\n",
       "  mean: 0.77920, std: 0.00046, params: {'penalty': 'l1', 'C': 0.0017433288221999873},\n",
       "  mean: 0.77876, std: 0.00027, params: {'penalty': 'l2', 'C': 0.0017433288221999873},\n",
       "  mean: 0.79320, std: 0.00283, params: {'penalty': 'l1', 'C': 0.0028072162039411755},\n",
       "  mean: 0.77871, std: 0.00014, params: {'penalty': 'l2', 'C': 0.0028072162039411755},\n",
       "  mean: 0.80764, std: 0.00286, params: {'penalty': 'l1', 'C': 0.0045203536563602409},\n",
       "  mean: 0.77867, std: 0.00022, params: {'penalty': 'l2', 'C': 0.0045203536563602409},\n",
       "  mean: 0.81280, std: 0.00205, params: {'penalty': 'l1', 'C': 0.0072789538439831459},\n",
       "  mean: 0.77876, std: 0.00027, params: {'penalty': 'l2', 'C': 0.0072789538439831459},\n",
       "  mean: 0.81462, std: 0.00178, params: {'penalty': 'l1', 'C': 0.011721022975334805},\n",
       "  mean: 0.77880, std: 0.00019, params: {'penalty': 'l2', 'C': 0.011721022975334805},\n",
       "  mean: 0.81604, std: 0.00180, params: {'penalty': 'l1', 'C': 0.018873918221350976},\n",
       "  mean: 0.77880, std: 0.00019, params: {'penalty': 'l2', 'C': 0.018873918221350976},\n",
       "  mean: 0.81747, std: 0.00191, params: {'penalty': 'l1', 'C': 0.030391953823131979},\n",
       "  mean: 0.77871, std: 0.00014, params: {'penalty': 'l2', 'C': 0.030391953823131979},\n",
       "  mean: 0.81822, std: 0.00211, params: {'penalty': 'l1', 'C': 0.048939009184774937},\n",
       "  mean: 0.77876, std: 0.00014, params: {'penalty': 'l2', 'C': 0.048939009184774937},\n",
       "  mean: 0.81907, std: 0.00221, params: {'penalty': 'l1', 'C': 0.078804628156699127},\n",
       "  mean: 0.77871, std: 0.00014, params: {'penalty': 'l2', 'C': 0.078804628156699127},\n",
       "  mean: 0.81933, std: 0.00186, params: {'penalty': 'l1', 'C': 0.12689610031679222},\n",
       "  mean: 0.77880, std: 0.00019, params: {'penalty': 'l2', 'C': 0.12689610031679222},\n",
       "  mean: 0.81960, std: 0.00160, params: {'penalty': 'l1', 'C': 0.20433597178569418},\n",
       "  mean: 0.77871, std: 0.00014, params: {'penalty': 'l2', 'C': 0.20433597178569418},\n",
       "  mean: 0.82009, std: 0.00140, params: {'penalty': 'l1', 'C': 0.32903445623126676},\n",
       "  mean: 0.77871, std: 0.00014, params: {'penalty': 'l2', 'C': 0.32903445623126676},\n",
       "  mean: 0.82009, std: 0.00143, params: {'penalty': 'l1', 'C': 0.52983169062837077},\n",
       "  mean: 0.77871, std: 0.00023, params: {'penalty': 'l2', 'C': 0.52983169062837077},\n",
       "  mean: 0.82013, std: 0.00125, params: {'penalty': 'l1', 'C': 0.85316785241728055},\n",
       "  mean: 0.77880, std: 0.00019, params: {'penalty': 'l2', 'C': 0.85316785241728055},\n",
       "  mean: 0.82022, std: 0.00126, params: {'penalty': 'l1', 'C': 1.3738237958832638},\n",
       "  mean: 0.77871, std: 0.00023, params: {'penalty': 'l2', 'C': 1.3738237958832638},\n",
       "  mean: 0.82009, std: 0.00135, params: {'penalty': 'l1', 'C': 2.2122162910704501},\n",
       "  mean: 0.77871, std: 0.00014, params: {'penalty': 'l2', 'C': 2.2122162910704501},\n",
       "  mean: 0.82018, std: 0.00136, params: {'penalty': 'l1', 'C': 3.5622478902624439},\n",
       "  mean: 0.77876, std: 0.00014, params: {'penalty': 'l2', 'C': 3.5622478902624439},\n",
       "  mean: 0.82040, std: 0.00134, params: {'penalty': 'l1', 'C': 5.7361525104486812},\n",
       "  mean: 0.77871, std: 0.00014, params: {'penalty': 'l2', 'C': 5.7361525104486812},\n",
       "  mean: 0.82031, std: 0.00152, params: {'penalty': 'l1', 'C': 9.2367085718738657},\n",
       "  mean: 0.77880, std: 0.00019, params: {'penalty': 'l2', 'C': 9.2367085718738657},\n",
       "  mean: 0.82031, std: 0.00139, params: {'penalty': 'l1', 'C': 14.873521072935118},\n",
       "  mean: 0.77876, std: 0.00014, params: {'penalty': 'l2', 'C': 14.873521072935118},\n",
       "  mean: 0.82031, std: 0.00154, params: {'penalty': 'l1', 'C': 23.950266199874861},\n",
       "  mean: 0.77880, std: 0.00019, params: {'penalty': 'l2', 'C': 23.950266199874861},\n",
       "  mean: 0.82027, std: 0.00151, params: {'penalty': 'l1', 'C': 38.566204211634719},\n",
       "  mean: 0.77871, std: 0.00023, params: {'penalty': 'l2', 'C': 38.566204211634719},\n",
       "  mean: 0.82027, std: 0.00157, params: {'penalty': 'l1', 'C': 62.101694189156163},\n",
       "  mean: 0.77876, std: 0.00027, params: {'penalty': 'l2', 'C': 62.101694189156163},\n",
       "  mean: 0.82036, std: 0.00158, params: {'penalty': 'l1', 'C': 100.0},\n",
       "  mean: 0.77880, std: 0.00019, params: {'penalty': 'l2', 'C': 100.0}])"
      ]
     },
     "execution_count": 17,
     "metadata": {},
     "output_type": "execute_result"
    }
   ],
   "source": [
    "from sklearn.model_selection import GridSearchCV\n",
    "parameters = {'penalty':['l1', 'l2'], 'C': np.logspace(-4, 2, 30)}\n",
    "C = np.logspace(-4, 2, 30)\n",
    "Penalty = ['l1', 'l2']\n",
    "clf1 = LogisticRegression() # Do not change this.\n",
    "clf_opt = GridSearchCV(clf1, parameters, cv=5, scoring=\"accuracy\")\n",
    "clf_opt.fit(Xtrain, ytrain)\n",
    "clf_opt.best_estimator_, clf_opt.best_params_, clf_opt.best_score_, clf_opt.grid_scores_"
   ]
  },
  {
   "cell_type": "markdown",
   "metadata": {},
   "source": [
    "I was totally wrong! L1 'outscored' L2 regularization here, and that may be because of the one-hot encoding that was performed earlier. The one-hot coding created many more features that could be seen as sparse, thus favoring L1 regularization. However, L1 did too good to be true. The optimal parameter needs to be investigated and compared to that of L2 regularization. \n",
    "\n",
    "## Manually Input Optimal Coefficients for Best l1 and l2 Regularized Logistic Regressions\n",
    "This is the function that will be used to optimize the classification algorithm chosen. Performs gridsearch, CV, and returns all of the values to the user.\n",
    "\n",
    "Best l1 regularization parameters:\n",
    "\n",
    "Accuracy mean: 1.00000, std: 0.00000, params: {'C': 0.078804628156699127, 'penalty': 'l1'}\n",
    "\n",
    "Best l2 regularization parameters: \n",
    "\n",
    "Accuracy mean: 0.77876, std: 0.00014, params: {'C': 0.078804628156699127, 'penalty': 'l2'}\n",
    "\n",
    "## Plotting Accuracy Measures of Optimal GridsearchCV Parameters"
   ]
  },
  {
   "cell_type": "code",
   "execution_count": 18,
   "metadata": {
    "scrolled": false
   },
   "outputs": [
    {
     "data": {
      "image/png": "[encoded data removed]",
      "text/plain": [
       "<matplotlib.figure.Figure at 0x10da52978>"
      ]
     },
     "metadata": {},
     "output_type": "display_data"
    }
   ],
   "source": [
    "clf_l1 = LogisticRegression(penalty='l1', C=0.078805)\n",
    "clf_l2 = LogisticRegression(penalty='l2', C=0.078805)\n",
    "\n",
    "n_classes = len(defaults_df.Y)\n",
    "\n",
    "y_score = clf.fit(Xtrain, ytrain).decision_function(Xtest)\n",
    "y_score_l1 = clf_l1.fit(Xtrain, ytrain).decision_function(Xtest)\n",
    "y_score_l2 = clf_l2.fit(Xtrain, ytrain).decision_function(Xtest)\n",
    "\n",
    "# Out of box\n",
    "fpr = dict()\n",
    "tpr = dict()\n",
    "roc_auc = dict()\n",
    "#l1\n",
    "fpr1 = dict()\n",
    "tpr1 = dict()\n",
    "roc_auc1 = dict()\n",
    "#l2\n",
    "fpr2 = dict()\n",
    "tpr2 = dict()\n",
    "roc_auc2 = dict()\n",
    "\n",
    "# Out-of-the-box\n",
    "fpr, tpr, _ = roc_curve(ytest, y_score, pos_label=1 )\n",
    "roc_auc = auc(fpr, tpr)\n",
    "#l1\n",
    "fpr1, tpr1, _ = roc_curve(ytest, y_score_l1, pos_label=1 )\n",
    "roc_auc1 = auc(fpr1, tpr1)\n",
    "#l2\n",
    "fpr2, tpr2, _ = roc_curve(ytest, y_score_l2, pos_label=1 )\n",
    "roc_auc2 = auc(fpr2, tpr2)\n",
    "\n",
    "# Plot Precision-Recall curve\n",
    "plt.figure()\n",
    "lw = 2\n",
    "plt.plot(fpr, tpr, color='navy',\n",
    "         lw=lw, label='Out-of-the-box ROC curve (AUC = %0.2f)' % roc_auc)\n",
    "plt.plot(fpr1, tpr1, color='darkorange', \n",
    "         lw=lw, label='l1 ROC curve (AUC = %0.2f)' % roc_auc1)\n",
    "plt.plot(fpr2, tpr2, color='g',\n",
    "         lw=lw, label='l2 ROC curve (AUC = %0.2f)' % roc_auc2)\n",
    "plt.plot([0, 1], [0, 1], color='navy', lw=lw, linestyle='--')\n",
    "plt.xlim([0.0, 1.0])\n",
    "plt.ylim([0.0, 1.05])\n",
    "plt.xlabel('False Positive Rate')\n",
    "plt.ylabel('True Positive Rate')\n",
    "plt.title('Receiver operating characteristic example')\n",
    "plt.legend(loc=\"lower right\")\n",
    "plt.show()"
   ]
  },
  {
   "cell_type": "markdown",
   "metadata": {},
   "source": [
    "There it is. Well, either we have the perfect algorithm or there is some misclassification going on in the 'optimal' l1 regularized logistic regression curve. To resolve this, we need to turn to precision-recall curves.\n",
    "\n",
    "## Precision Recall Curves"
   ]
  },
  {
   "cell_type": "code",
   "execution_count": 19,
   "metadata": {},
   "outputs": [
    {
     "data": {
      "image/png": "[encoded data removed]",
      "text/plain": [
       "<matplotlib.figure.Figure at 0x11159e898>"
      ]
     },
     "metadata": {},
     "output_type": "display_data"
    }
   ],
   "source": [
    "# Compute Precision-Recall and plot curve\n",
    "precision = dict()\n",
    "precision_1 = dict()\n",
    "precision_2 = dict()\n",
    "recall = dict()\n",
    "recall_1 = dict()\n",
    "recall_2 = dict()\n",
    "\n",
    "average_precision = dict()\n",
    "average_precision_1 = dict()\n",
    "average_precision_2 = dict()\n",
    "\n",
    "precision, recall, _ = precision_recall_curve(ytest, y_score)\n",
    "precision_1, recall_1, _ = precision_recall_curve(ytest, y_score_l1)\n",
    "precision_2, recall_2, _ = precision_recall_curve(ytest, y_score_l2)\n",
    "average_precision = average_precision_score(ytest, y_score)\n",
    "average_precision_1 = average_precision_score(ytest, y_score_l1)\n",
    "average_precision_2 = average_precision_score(ytest, y_score_l2)\n",
    "\n",
    "# Plot Precision-Recall curve\n",
    "plt.clf()\n",
    "plt.plot(recall, precision, lw=lw, color='navy',\n",
    "         label='Out-of-the-box Precision-Recall: AUC={0:0.2f}'.format(average_precision))\n",
    "plt.plot(recall_1, precision_1, lw=lw, color='darkorange',\n",
    "         label='l1 Precision-Recall: AUC={0:0.2f}'.format(average_precision_1))\n",
    "plt.plot(recall_2, precision_2, lw=lw, color='g',\n",
    "         label='l2 Precision-Recall: AUC={0:0.2f}'.format(average_precision_2))\n",
    "plt.xlabel('Recall')\n",
    "plt.ylabel('Precision')\n",
    "plt.ylim([0.0, 1.05])\n",
    "plt.xlim([0.0, 1.0])\n",
    "plt.title('Precision-Recall Curve for l1 and l2 Classification')\n",
    "plt.legend(loc=\"lower left\")\n",
    "plt.show()"
   ]
  },
  {
   "cell_type": "markdown",
   "metadata": {},
   "source": [
    "So here we have a Precision-Recall curve that says that l1-logistic regression is absolutely perfect in predicting when a person will default in the next month, based on the information I provided before. Does that sound right? No, this model must be overfit to the data that we provided. Now it's time to implement some measures to avoid this overfitting behavior and create a classification algorithm that does better than the regular l2-logistic regression model."
   ]
  },
  {
   "cell_type": "code",
   "execution_count": 20,
   "metadata": {},
   "outputs": [
    {
     "data": {
      "text/plain": [
       "False"
      ]
     },
     "execution_count": 20,
     "metadata": {},
     "output_type": "execute_result"
    }
   ],
   "source": [
    "test_array = clf_l1.predict(Xtest)\n",
    "#a[numpy.where(a > 2)]\n",
    "np.array_equal(ytest, test_array)"
   ]
  },
  {
   "cell_type": "markdown",
   "metadata": {},
   "source": [
    "Wow, so this actually predicts all of the values. That doesn't seem right at all, but I really don't know how to check at this point. More research is needed.\n",
    "\n",
    "## Classification Matrix of l1 and l2 Regularization"
   ]
  },
  {
   "cell_type": "code",
   "execution_count": 43,
   "metadata": {},
   "outputs": [
    {
     "name": "stdout",
     "output_type": "stream",
     "text": [
      "[[5841    0]\n",
      " [1659    0]]\n",
      "5573 268 1078 581\n",
      "             precision    recall  f1-score   support\n",
      "\n",
      "          0       0.84      0.95      0.89      5841\n",
      "          1       0.68      0.35      0.46      1659\n",
      "\n",
      "avg / total       0.80      0.82      0.80      7500\n",
      "\n"
     ]
    }
   ],
   "source": [
    "# l1 regularization\n",
    "print(confusion_matrix(ytest, clf.fit(Xtrain, ytrain).predict(Xtest)))\n",
    "tn, fp, fn, tp = confusion_matrix(ytest, clf_l1.fit(Xtrain, ytrain).predict(Xtest)).ravel()\n",
    "print(tn, fp, fn, tp)\n",
    "target_names = ['0', '1']\n",
    "print(classification_report(ytest, clf_l1.fit(Xtrain, ytrain).predict(Xtest), target_names=target_names))\n",
    "\n",
    "# Compute confusion matrix\n",
    "cnf_matrix = confusion_matrix(ytest, clf_l1.fit(Xtrain, ytrain).predict(Xtest))\n"
   ]
  },
  {
   "cell_type": "code",
   "execution_count": 42,
   "metadata": {},
   "outputs": [
    {
     "name": "stdout",
     "output_type": "stream",
     "text": [
      "[[5841    0]\n",
      " [1659    0]]\n",
      "5841 0 1659 0\n"
     ]
    },
    {
     "name": "stderr",
     "output_type": "stream",
     "text": [
      "/Users/vincent_zaballa/anaconda3/lib/python3.5/site-packages/sklearn/metrics/classification.py:1113: UndefinedMetricWarning: Precision and F-score are ill-defined and being set to 0.0 in labels with no predicted samples.\n",
      "  'precision', 'predicted', average, warn_for)\n"
     ]
    },
    {
     "name": "stdout",
     "output_type": "stream",
     "text": [
      "             precision    recall  f1-score   support\n",
      "\n",
      "          0       0.78      1.00      0.88      5841\n",
      "          1       0.00      0.00      0.00      1659\n",
      "\n",
      "avg / total       0.61      0.78      0.68      7500\n",
      "\n"
     ]
    }
   ],
   "source": [
    "# l2 regularization\n",
    "print(confusion_matrix(ytest, clf.fit(Xtrain, ytrain).predict(Xtest)))\n",
    "tn, fp, fn, tp = confusion_matrix(ytest, clf_l2.fit(Xtrain, ytrain).predict(Xtest)).ravel()\n",
    "print(tn, fp, fn, tp)\n",
    "target_names = ['0', '1']\n",
    "print(classification_report(ytest, clf_l2.fit(Xtrain, ytrain).predict(Xtest), target_names=target_names))\n",
    "\n",
    "# Compute confusion matrix\n",
    "cnf_matrix = confusion_matrix(ytest, clf_l2.fit(Xtrain, ytrain).predict(Xtest))\n"
   ]
  },
  {
   "cell_type": "markdown",
   "metadata": {
    "collapsed": true
   },
   "source": [
    "## Resampling\n",
    "There is an imbalance in the dataset that cannot be solved by simply optimizing the penalty parameters of l1-logistic regression. Instead, I will need to either under-sample or over-sample the dataset to balance the two. According to the rules of thumb listed below, I can choose from under-sampling or over-sampling to balance the dataset. I can do both and compare their Accuracy, F-Score, ROC curves, and precision-recall curves in order to determine which method improves the model the most.\n",
    "\n",
    "Some Rules of Thumb:\n",
    "\n",
    "- Consider testing under-sampling when you have an a lot data (tens- or hundreds of thousands of instances or more)\n",
    "- Consider testing over-sampling when you don’t have a lot of data (tens of thousands of records or less)\n",
    "- Consider testing random and non-random (e.g. stratified) sampling schemes.\n",
    "- Consider testing different resampled ratios (e.g. you don’t have to target a 1:1 ratio in a binary classification problem, try other ratios)\n",
    "\n",
    "I will oversample the undersampled dataset until there are equal amounts of data for the positive and negative case of credit card default. To oversample I will use the imblearn SMOTE algorithm that oversamples by the following procedure:\n",
    "\n",
    "- Finding the k-nearest-neighbors for minority class observations (finding similar observations)\n",
    "- Randomly choosing one of the k-nearest-neighbors and using it to create a similar, but randomly tweaked, new observation.\n",
    "\n",
    "Since the SMOTE algorithm is performing some semi-complex resampling methods that involve KNN computations, I do not want that process to influence my test set, which is still a representative of the dataset as a whole. I will use the remaining training dataset to perform upsampling and preserve a validation set for which I can test the upsampled algorithms against."
   ]
  },
  {
   "cell_type": "markdown",
   "metadata": {},
   "source": [
    "Time to compare to test set of upsampled data.\n",
    "\n",
    "# Big To-Do\n",
    "Tomorrow, I need to: \n",
    "- verify that I'm oversampling correctly. \n",
    "- Try out undersampling\n",
    "- Try out random forests or cart\n",
    "- Read paper and see what they did, then replicate (smoothing-sampling-something)"
   ]
  },
  {
   "cell_type": "code",
   "execution_count": 23,
   "metadata": {},
   "outputs": [],
   "source": [
    "from imblearn.over_sampling import SMOTE\n",
    "Xtrain, Xtest, ytrain, ytest = train_test_split(clf_df.drop('Y', axis=1),\n",
    "                                                clf_df.Y, test_size=0.25, random_state=5)\n",
    "\n",
    "# Smote oversampling\n",
    "sm = SMOTE(random_state=12, ratio = 1.0) # ratio = 1 means equal classes. This can be tweaked.\n",
    "x_train_res, y_train_res = sm.fit_sample(Xtrain, ytrain) "
   ]
  },
  {
   "cell_type": "code",
   "execution_count": 24,
   "metadata": {},
   "outputs": [
    {
     "name": "stdout",
     "output_type": "stream",
     "text": [
      "22500\n",
      "35046\n"
     ]
    }
   ],
   "source": [
    "# Verifying the oversampling worked.\n",
    "print(len(Xtrain))\n",
    "print(len(x_train_res))"
   ]
  },
  {
   "cell_type": "code",
   "execution_count": 25,
   "metadata": {
    "scrolled": true
   },
   "outputs": [
    {
     "name": "stderr",
     "output_type": "stream",
     "text": [
      "/Users/vincent_zaballa/anaconda3/lib/python3.5/site-packages/sklearn/model_selection/_search.py:667: DeprecationWarning: The grid_scores_ attribute was deprecated in version 0.18 in favor of the more elaborate cv_results_ attribute. The grid_scores_ attribute will not be available from 0.20\n",
      "  DeprecationWarning)\n"
     ]
    },
    {
     "data": {
      "text/plain": [
       "(LogisticRegression(C=0.32903445623126676, class_weight=None, dual=False,\n",
       "           fit_intercept=True, intercept_scaling=1, max_iter=100,\n",
       "           multi_class='ovr', n_jobs=1, penalty='l1', random_state=None,\n",
       "           solver='liblinear', tol=0.0001, verbose=0, warm_start=False),\n",
       " {'C': 0.32903445623126676, 'penalty': 'l1'},\n",
       " 0.73043999315185759,\n",
       " [mean: 0.62472, std: 0.00432, params: {'penalty': 'l1', 'C': 0.0001},\n",
       "  mean: 0.62592, std: 0.00451, params: {'penalty': 'l2', 'C': 0.0001},\n",
       "  mean: 0.62481, std: 0.00474, params: {'penalty': 'l1', 'C': 0.00016102620275609394},\n",
       "  mean: 0.62621, std: 0.00491, params: {'penalty': 'l2', 'C': 0.00016102620275609394},\n",
       "  mean: 0.62321, std: 0.00546, params: {'penalty': 'l1', 'C': 0.00025929437974046669},\n",
       "  mean: 0.62486, std: 0.00577, params: {'penalty': 'l2', 'C': 0.00025929437974046669},\n",
       "  mean: 0.62275, std: 0.00514, params: {'penalty': 'l1', 'C': 0.00041753189365604002},\n",
       "  mean: 0.62612, std: 0.00532, params: {'penalty': 'l2', 'C': 0.00041753189365604002},\n",
       "  mean: 0.65679, std: 0.00808, params: {'penalty': 'l1', 'C': 0.00067233575364993351},\n",
       "  mean: 0.62392, std: 0.00438, params: {'penalty': 'l2', 'C': 0.00067233575364993351},\n",
       "  mean: 0.69366, std: 0.01261, params: {'penalty': 'l1', 'C': 0.0010826367338740541},\n",
       "  mean: 0.62455, std: 0.00534, params: {'penalty': 'l2', 'C': 0.0010826367338740541},\n",
       "  mean: 0.71041, std: 0.01320, params: {'penalty': 'l1', 'C': 0.0017433288221999873},\n",
       "  mean: 0.62367, std: 0.00594, params: {'penalty': 'l2', 'C': 0.0017433288221999873},\n",
       "  mean: 0.71794, std: 0.01432, params: {'penalty': 'l1', 'C': 0.0028072162039411755},\n",
       "  mean: 0.62558, std: 0.00583, params: {'penalty': 'l2', 'C': 0.0028072162039411755},\n",
       "  mean: 0.71940, std: 0.01218, params: {'penalty': 'l1', 'C': 0.0045203536563602409},\n",
       "  mean: 0.63497, std: 0.01422, params: {'penalty': 'l2', 'C': 0.0045203536563602409},\n",
       "  mean: 0.72225, std: 0.01172, params: {'penalty': 'l1', 'C': 0.0072789538439831459},\n",
       "  mean: 0.62555, std: 0.00476, params: {'penalty': 'l2', 'C': 0.0072789538439831459},\n",
       "  mean: 0.72690, std: 0.01099, params: {'penalty': 'l1', 'C': 0.011721022975334805},\n",
       "  mean: 0.62367, std: 0.00449, params: {'penalty': 'l2', 'C': 0.011721022975334805},\n",
       "  mean: 0.72898, std: 0.01042, params: {'penalty': 'l1', 'C': 0.018873918221350976},\n",
       "  mean: 0.62364, std: 0.00554, params: {'penalty': 'l2', 'C': 0.018873918221350976},\n",
       "  mean: 0.72936, std: 0.01089, params: {'penalty': 'l1', 'C': 0.030391953823131979},\n",
       "  mean: 0.64136, std: 0.03356, params: {'penalty': 'l2', 'C': 0.030391953823131979},\n",
       "  mean: 0.72970, std: 0.01109, params: {'penalty': 'l1', 'C': 0.048939009184774937},\n",
       "  mean: 0.62250, std: 0.00491, params: {'penalty': 'l2', 'C': 0.048939009184774937},\n",
       "  mean: 0.73013, std: 0.01137, params: {'penalty': 'l1', 'C': 0.078804628156699127},\n",
       "  mean: 0.62544, std: 0.00484, params: {'penalty': 'l2', 'C': 0.078804628156699127},\n",
       "  mean: 0.73018, std: 0.01151, params: {'penalty': 'l1', 'C': 0.12689610031679222},\n",
       "  mean: 0.62415, std: 0.00493, params: {'penalty': 'l2', 'C': 0.12689610031679222},\n",
       "  mean: 0.73035, std: 0.01155, params: {'penalty': 'l1', 'C': 0.20433597178569418},\n",
       "  mean: 0.62555, std: 0.00508, params: {'penalty': 'l2', 'C': 0.20433597178569418},\n",
       "  mean: 0.73044, std: 0.01173, params: {'penalty': 'l1', 'C': 0.32903445623126676},\n",
       "  mean: 0.64030, std: 0.03582, params: {'penalty': 'l2', 'C': 0.32903445623126676},\n",
       "  mean: 0.73033, std: 0.01201, params: {'penalty': 'l1', 'C': 0.52983169062837077},\n",
       "  mean: 0.63947, std: 0.03080, params: {'penalty': 'l2', 'C': 0.52983169062837077},\n",
       "  mean: 0.73024, std: 0.01225, params: {'penalty': 'l1', 'C': 0.85316785241728055},\n",
       "  mean: 0.62312, std: 0.00440, params: {'penalty': 'l2', 'C': 0.85316785241728055},\n",
       "  mean: 0.73015, std: 0.01232, params: {'penalty': 'l1', 'C': 1.3738237958832638},\n",
       "  mean: 0.63665, std: 0.02465, params: {'penalty': 'l2', 'C': 1.3738237958832638},\n",
       "  mean: 0.73015, std: 0.01240, params: {'penalty': 'l1', 'C': 2.2122162910704501},\n",
       "  mean: 0.63770, std: 0.02311, params: {'penalty': 'l2', 'C': 2.2122162910704501},\n",
       "  mean: 0.72995, std: 0.01222, params: {'penalty': 'l1', 'C': 3.5622478902624439},\n",
       "  mean: 0.62469, std: 0.00586, params: {'penalty': 'l2', 'C': 3.5622478902624439},\n",
       "  mean: 0.72993, std: 0.01226, params: {'penalty': 'l1', 'C': 5.7361525104486812},\n",
       "  mean: 0.63422, std: 0.01384, params: {'penalty': 'l2', 'C': 5.7361525104486812},\n",
       "  mean: 0.72981, std: 0.01224, params: {'penalty': 'l1', 'C': 9.2367085718738657},\n",
       "  mean: 0.62444, std: 0.00658, params: {'penalty': 'l2', 'C': 9.2367085718738657},\n",
       "  mean: 0.72976, std: 0.01232, params: {'penalty': 'l1', 'C': 14.873521072935118},\n",
       "  mean: 0.62692, std: 0.00517, params: {'penalty': 'l2', 'C': 14.873521072935118},\n",
       "  mean: 0.72981, std: 0.01237, params: {'penalty': 'l1', 'C': 23.950266199874861},\n",
       "  mean: 0.62934, std: 0.01085, params: {'penalty': 'l2', 'C': 23.950266199874861},\n",
       "  mean: 0.72984, std: 0.01234, params: {'penalty': 'l1', 'C': 38.566204211634719},\n",
       "  mean: 0.63536, std: 0.01330, params: {'penalty': 'l2', 'C': 38.566204211634719},\n",
       "  mean: 0.72981, std: 0.01231, params: {'penalty': 'l1', 'C': 62.101694189156163},\n",
       "  mean: 0.62566, std: 0.00721, params: {'penalty': 'l2', 'C': 62.101694189156163},\n",
       "  mean: 0.72984, std: 0.01235, params: {'penalty': 'l1', 'C': 100.0},\n",
       "  mean: 0.63265, std: 0.01762, params: {'penalty': 'l2', 'C': 100.0}])"
      ]
     },
     "execution_count": 25,
     "metadata": {},
     "output_type": "execute_result"
    }
   ],
   "source": [
    "# GridsearchCV\n",
    "parameters = {'penalty':['l1', 'l2'], 'C': np.logspace(-4, 2, 30)}\n",
    "C = np.logspace(-4, 2, 30)\n",
    "Penalty = ['l1', 'l2']\n",
    "# out of the box logistic regression\n",
    "clf_smpld = LogisticRegression()\n",
    "clf_smpld.fit(x_train_res, y_train_res)\n",
    "# GridsearchCV\n",
    "clf_opt_smpld = GridSearchCV(clf1, parameters, cv=5, scoring=\"accuracy\")\n",
    "clf_opt_smpld.fit(x_train_res, y_train_res)\n",
    "clf_opt_smpld.best_estimator_, clf_opt_smpld.best_params_, clf_opt_smpld.best_score_, clf_opt_smpld.grid_scores_"
   ]
  },
  {
   "cell_type": "markdown",
   "metadata": {},
   "source": [
    "# Plotting ROC Curves\n",
    "I JUST REALIZED THAT I OPTIMIZED THE L1 AND L2 REGRESSIONS ON ACCURACY INSTEAD OF RECALL/F1 SCORE!!! This could potentially be huge, but let's continue with accuracy optimized and look at the graphs."
   ]
  },
  {
   "cell_type": "code",
   "execution_count": 29,
   "metadata": {},
   "outputs": [
    {
     "name": "stdout",
     "output_type": "stream",
     "text": [
      "Original precision-recall scores\n",
      "\n",
      "\n",
      "Precision-Recall Metrics of Non-Optimized Logistic Regression\n",
      "\n",
      "             precision    recall  f1-score   support\n",
      "\n",
      "          0       0.87      0.53      0.66      5841\n",
      "          1       0.30      0.71      0.42      1659\n",
      "\n",
      "avg / total       0.74      0.57      0.61      7500\n",
      "\n",
      "Precision-Recall Metrics of L1 Logistic Regression\n",
      "\n",
      "             precision    recall  f1-score   support\n",
      "\n",
      "          0       0.87      0.83      0.85      5841\n",
      "          1       0.50      0.58      0.54      1659\n",
      "\n",
      "avg / total       0.79      0.78      0.78      7500\n",
      "\n",
      "Precision-Recall Metrics of L2 Logistic Regression\n",
      "\n",
      "             precision    recall  f1-score   support\n",
      "\n",
      "          0       0.87      0.52      0.65      5841\n",
      "          1       0.30      0.72      0.42      1659\n",
      "\n",
      "avg / total       0.74      0.57      0.60      7500\n",
      "\n"
     ]
    }
   ],
   "source": [
    "# Really need to make a function for this plotting...\n",
    "clf_smpld_l1 = LogisticRegression(penalty='l1', C=0.329034)\n",
    "clf_smpld_l2 = LogisticRegression(penalty='l2', C=0.00452)\n",
    "\n",
    "# Summary of precision-recall metric for all ORIGINAL models\n",
    "print('Original precision-recall scores')\n",
    "print('')\n",
    "print(\"\\nPrecision-Recall Metrics of Non-Optimized Logistic Regression\\n\")\n",
    "print(classification_report(ytest, \n",
    "                            clf.fit(x_train_res, y_train_res).predict(Xtest), \n",
    "                            target_names=target_names))\n",
    "\n",
    "print(\"Precision-Recall Metrics of L1 Logistic Regression\\n\")\n",
    "print(classification_report(ytest, \n",
    "                            clf_l1.fit(x_train_res, y_train_res).predict(Xtest), \n",
    "                            target_names=target_names))\n",
    "\n",
    "print(\"Precision-Recall Metrics of L2 Logistic Regression\\n\")\n",
    "print(classification_report(ytest, \n",
    "                            clf_l2.fit(x_train_res, y_train_res).predict(Xtest), \n",
    "                            target_names=target_names))"
   ]
  },
  {
   "cell_type": "code",
   "execution_count": 31,
   "metadata": {},
   "outputs": [
    {
     "name": "stdout",
     "output_type": "stream",
     "text": [
      "\n",
      "Oversampled precision-recall metrics\n",
      "\n",
      "\n",
      "Precision-Recall Metrics of Non-Optimized Logistic Regression\n",
      "\n",
      "             precision    recall  f1-score   support\n",
      "\n",
      "          0       0.87      0.53      0.66      5841\n",
      "          1       0.30      0.71      0.42      1659\n",
      "\n",
      "avg / total       0.74      0.57      0.61      7500\n",
      "\n",
      "Precision-Recall Metrics of L1 Logistic Regression\n",
      "\n",
      "             precision    recall  f1-score   support\n",
      "\n",
      "          0       0.88      0.83      0.85      5841\n",
      "          1       0.50      0.58      0.54      1659\n",
      "\n",
      "avg / total       0.79      0.78      0.78      7500\n",
      "\n",
      "Precision-Recall Metrics of L2 Logistic Regression\n",
      "\n",
      "             precision    recall  f1-score   support\n",
      "\n",
      "          0       0.87      0.53      0.66      5841\n",
      "          1       0.30      0.72      0.42      1659\n",
      "\n",
      "avg / total       0.74      0.57      0.61      7500\n",
      "\n"
     ]
    }
   ],
   "source": [
    "# Summary of precision-recall metric for all OVERSAMPLED models\n",
    "print('\\nOversampled precision-recall metrics\\n')\n",
    "\n",
    "print(\"\\nPrecision-Recall Metrics of Non-Optimized Logistic Regression\\n\")\n",
    "print(classification_report(ytest, \n",
    "                            clf_smpld.fit(x_train_res, y_train_res).predict(Xtest), \n",
    "                            target_names=target_names))\n",
    "\n",
    "print(\"Precision-Recall Metrics of L1 Logistic Regression\\n\")\n",
    "print(classification_report(ytest, \n",
    "                            clf_smpld_l1.fit(x_train_res, y_train_res).predict(Xtest), \n",
    "                            target_names=target_names))\n",
    "\n",
    "print(\"Precision-Recall Metrics of L2 Logistic Regression\\n\")\n",
    "print(classification_report(ytest, \n",
    "                            clf_smpld_l2.fit(x_train_res, y_train_res).predict(Xtest), \n",
    "                            target_names=target_names))"
   ]
  },
  {
   "cell_type": "markdown",
   "metadata": {},
   "source": [
    "Looks like the test set from the upsampled test_train_split performs slightly better, as expected. However, the oversampled method did not result in a measured increase in accuracy or recall. Compared to the previous result, there is only a 0.01 increase in the recall for GridsearchCV optimized l1-logistic regression.\n",
    "\n",
    "Since this improvement is negligible, I'll now experiment with undersamping the class with too many samples (Y=0, or no credit default).\n",
    "\n",
    "## Undersampling"
   ]
  },
  {
   "cell_type": "code",
   "execution_count": 36,
   "metadata": {
    "scrolled": true
   },
   "outputs": [
    {
     "name": "stderr",
     "output_type": "stream",
     "text": [
      "/Users/vincent_zaballa/anaconda3/lib/python3.5/site-packages/sklearn/model_selection/_search.py:667: DeprecationWarning: The grid_scores_ attribute was deprecated in version 0.18 in favor of the more elaborate cv_results_ attribute. The grid_scores_ attribute will not be available from 0.20\n",
      "  DeprecationWarning)\n"
     ]
    },
    {
     "data": {
      "text/plain": [
       "(LogisticRegression(C=0.12689610031679222, class_weight=None, dual=False,\n",
       "           fit_intercept=True, intercept_scaling=1, max_iter=100,\n",
       "           multi_class='ovr', n_jobs=1, penalty='l1', random_state=None,\n",
       "           solver='liblinear', tol=0.0001, verbose=0, warm_start=False),\n",
       " {'C': 0.12689610031679222, 'penalty': 'l1'},\n",
       " 0.70092425155716298,\n",
       " [mean: 0.60629, std: 0.00820, params: {'penalty': 'l1', 'C': 0.0001},\n",
       "  mean: 0.61091, std: 0.00517, params: {'penalty': 'l2', 'C': 0.0001},\n",
       "  mean: 0.60860, std: 0.00691, params: {'penalty': 'l1', 'C': 0.00016102620275609394},\n",
       "  mean: 0.61563, std: 0.01527, params: {'penalty': 'l2', 'C': 0.00016102620275609394},\n",
       "  mean: 0.61111, std: 0.00578, params: {'penalty': 'l1', 'C': 0.00025929437974046669},\n",
       "  mean: 0.60950, std: 0.00364, params: {'penalty': 'l2', 'C': 0.00025929437974046669},\n",
       "  mean: 0.61061, std: 0.00647, params: {'penalty': 'l1', 'C': 0.00041753189365604002},\n",
       "  mean: 0.61202, std: 0.00556, params: {'penalty': 'l2', 'C': 0.00041753189365604002},\n",
       "  mean: 0.60981, std: 0.00486, params: {'penalty': 'l1', 'C': 0.00067233575364993351},\n",
       "  mean: 0.61081, std: 0.00917, params: {'penalty': 'l2', 'C': 0.00067233575364993351},\n",
       "  mean: 0.60840, std: 0.00482, params: {'penalty': 'l1', 'C': 0.0010826367338740541},\n",
       "  mean: 0.62206, std: 0.01988, params: {'penalty': 'l2', 'C': 0.0010826367338740541},\n",
       "  mean: 0.60820, std: 0.00390, params: {'penalty': 'l1', 'C': 0.0017433288221999873},\n",
       "  mean: 0.62116, std: 0.02382, params: {'penalty': 'l2', 'C': 0.0017433288221999873},\n",
       "  mean: 0.64909, std: 0.00930, params: {'penalty': 'l1', 'C': 0.0028072162039411755},\n",
       "  mean: 0.61473, std: 0.00812, params: {'penalty': 'l2', 'C': 0.0028072162039411755},\n",
       "  mean: 0.67079, std: 0.01154, params: {'penalty': 'l1', 'C': 0.0045203536563602409},\n",
       "  mean: 0.61593, std: 0.01493, params: {'penalty': 'l2', 'C': 0.0045203536563602409},\n",
       "  mean: 0.68465, std: 0.00779, params: {'penalty': 'l1', 'C': 0.0072789538439831459},\n",
       "  mean: 0.61523, std: 0.01225, params: {'penalty': 'l2', 'C': 0.0072789538439831459},\n",
       "  mean: 0.69148, std: 0.00471, params: {'penalty': 'l1', 'C': 0.011721022975334805},\n",
       "  mean: 0.61051, std: 0.00404, params: {'penalty': 'l2', 'C': 0.011721022975334805},\n",
       "  mean: 0.69520, std: 0.00407, params: {'penalty': 'l1', 'C': 0.018873918221350976},\n",
       "  mean: 0.61844, std: 0.00993, params: {'penalty': 'l2', 'C': 0.018873918221350976},\n",
       "  mean: 0.69821, std: 0.00291, params: {'penalty': 'l1', 'C': 0.030391953823131979},\n",
       "  mean: 0.61151, std: 0.01013, params: {'penalty': 'l2', 'C': 0.030391953823131979},\n",
       "  mean: 0.69952, std: 0.00233, params: {'penalty': 'l1', 'C': 0.048939009184774937},\n",
       "  mean: 0.61081, std: 0.00746, params: {'penalty': 'l2', 'C': 0.048939009184774937},\n",
       "  mean: 0.70042, std: 0.00460, params: {'penalty': 'l1', 'C': 0.078804628156699127},\n",
       "  mean: 0.61001, std: 0.00549, params: {'penalty': 'l2', 'C': 0.078804628156699127},\n",
       "  mean: 0.70092, std: 0.00369, params: {'penalty': 'l1', 'C': 0.12689610031679222},\n",
       "  mean: 0.61222, std: 0.00610, params: {'penalty': 'l2', 'C': 0.12689610031679222},\n",
       "  mean: 0.70062, std: 0.00474, params: {'penalty': 'l1', 'C': 0.20433597178569418},\n",
       "  mean: 0.61141, std: 0.00840, params: {'penalty': 'l2', 'C': 0.20433597178569418},\n",
       "  mean: 0.69932, std: 0.00411, params: {'penalty': 'l1', 'C': 0.32903445623126676},\n",
       "  mean: 0.61302, std: 0.00873, params: {'penalty': 'l2', 'C': 0.32903445623126676},\n",
       "  mean: 0.69972, std: 0.00375, params: {'penalty': 'l1', 'C': 0.52983169062837077},\n",
       "  mean: 0.61352, std: 0.00951, params: {'penalty': 'l2', 'C': 0.52983169062837077},\n",
       "  mean: 0.69952, std: 0.00365, params: {'penalty': 'l1', 'C': 0.85316785241728055},\n",
       "  mean: 0.61945, std: 0.00973, params: {'penalty': 'l2', 'C': 0.85316785241728055},\n",
       "  mean: 0.69892, std: 0.00349, params: {'penalty': 'l1', 'C': 1.3738237958832638},\n",
       "  mean: 0.61563, std: 0.01001, params: {'penalty': 'l2', 'C': 1.3738237958832638},\n",
       "  mean: 0.69841, std: 0.00292, params: {'penalty': 'l1', 'C': 2.2122162910704501},\n",
       "  mean: 0.60860, std: 0.00427, params: {'penalty': 'l2', 'C': 2.2122162910704501},\n",
       "  mean: 0.69881, std: 0.00280, params: {'penalty': 'l1', 'C': 3.5622478902624439},\n",
       "  mean: 0.61111, std: 0.00455, params: {'penalty': 'l2', 'C': 3.5622478902624439},\n",
       "  mean: 0.69881, std: 0.00302, params: {'penalty': 'l1', 'C': 5.7361525104486812},\n",
       "  mean: 0.61071, std: 0.00331, params: {'penalty': 'l2', 'C': 5.7361525104486812},\n",
       "  mean: 0.69861, std: 0.00319, params: {'penalty': 'l1', 'C': 9.2367085718738657},\n",
       "  mean: 0.61714, std: 0.01830, params: {'penalty': 'l2', 'C': 9.2367085718738657},\n",
       "  mean: 0.69851, std: 0.00309, params: {'penalty': 'l1', 'C': 14.873521072935118},\n",
       "  mean: 0.61352, std: 0.00520, params: {'penalty': 'l2', 'C': 14.873521072935118},\n",
       "  mean: 0.69861, std: 0.00310, params: {'penalty': 'l1', 'C': 23.950266199874861},\n",
       "  mean: 0.61262, std: 0.00536, params: {'penalty': 'l2', 'C': 23.950266199874861},\n",
       "  mean: 0.69851, std: 0.00297, params: {'penalty': 'l1', 'C': 38.566204211634719},\n",
       "  mean: 0.61262, std: 0.00587, params: {'penalty': 'l2', 'C': 38.566204211634719},\n",
       "  mean: 0.69861, std: 0.00287, params: {'penalty': 'l1', 'C': 62.101694189156163},\n",
       "  mean: 0.61222, std: 0.00999, params: {'penalty': 'l2', 'C': 62.101694189156163},\n",
       "  mean: 0.69861, std: 0.00287, params: {'penalty': 'l1', 'C': 100.0},\n",
       "  mean: 0.61181, std: 0.00607, params: {'penalty': 'l2', 'C': 100.0}])"
      ]
     },
     "execution_count": 36,
     "metadata": {},
     "output_type": "execute_result"
    }
   ],
   "source": [
    "from imblearn.under_sampling import RandomUnderSampler\n",
    "Xtrain, Xtest, ytrain, ytest = train_test_split(clf_df.drop('Y', axis=1),\n",
    "                                                clf_df.Y, test_size=0.25, random_state=5)\n",
    "\n",
    "# Undersampling\n",
    "# Apply the random under-sampling\n",
    "rus = RandomUnderSampler(random_state = 12, ratio=1.0)\n",
    "x_train_rus, y_train_rus = rus.fit_sample(Xtrain, ytrain)\n",
    "\n",
    "# GridsearchCV parameters\n",
    "parameters = {'penalty':['l1', 'l2'], 'C': np.logspace(-4, 2, 30)}\n",
    "C = np.logspace(-4, 2, 30)\n",
    "Penalty = ['l1', 'l2']\n",
    "# out of the box logistic regression\n",
    "clf_smpld = LogisticRegression()\n",
    "clf_smpld.fit(Xtrain_smpld, ytrain_smpld)\n",
    "# GridsearchCV\n",
    "clf_opt_smpld = GridSearchCV(clf1, parameters, cv=5, scoring=\"accuracy\")\n",
    "clf_opt_smpld.fit(x_train_rus, y_train_rus)\n",
    "#clf_opt_smpld.best_estimator_, clf_opt_smpld.best_params_, clf_opt_smpld.best_score_, clf_opt_smpld.grid_scores_"
   ]
  },
  {
   "cell_type": "code",
   "execution_count": 41,
   "metadata": {},
   "outputs": [
    {
     "name": "stdout",
     "output_type": "stream",
     "text": [
      "\n",
      "Undersampled precision-recall metrics\n",
      "\n",
      "\n",
      "Precision-Recall Metrics of Non-Optimized Logistic Regression\n",
      "\n",
      "             precision    recall  f1-score   support\n",
      "\n",
      "          0       0.86      0.51      0.64      5841\n",
      "          1       0.29      0.72      0.42      1659\n",
      "\n",
      "avg / total       0.74      0.56      0.59      7500\n",
      "\n",
      "Precision-Recall Metrics of L1 Logistic Regression\n",
      "\n",
      "             precision    recall  f1-score   support\n",
      "\n",
      "          0       0.87      0.83      0.85      5841\n",
      "          1       0.49      0.58      0.53      1659\n",
      "\n",
      "avg / total       0.79      0.77      0.78      7500\n",
      "\n",
      "Precision-Recall Metrics of L2 Logistic Regression\n",
      "\n",
      "             precision    recall  f1-score   support\n",
      "\n",
      "          0       0.86      0.53      0.65      5841\n",
      "          1       0.30      0.70      0.42      1659\n",
      "\n",
      "avg / total       0.74      0.57      0.60      7500\n",
      "\n"
     ]
    }
   ],
   "source": [
    "# Creating new models\n",
    "clf_smpld_l1 = LogisticRegression(penalty='l1', C=0.126896)\n",
    "clf_smpld_l2 = LogisticRegression(penalty='l2', C=0.0010826)\n",
    "\n",
    "# Summary of precision-recall metric for all models\n",
    "print('\\nUndersampled precision-recall metrics\\n')\n",
    "\n",
    "print(\"\\nPrecision-Recall Metrics of Non-Optimized Logistic Regression\\n\")\n",
    "print(classification_report(ytest, clf_smpld.fit(x_train_rus, y_train_rus).predict(Xtest), target_names=target_names))\n",
    "print(\"Precision-Recall Metrics of L1 Logistic Regression\\n\")\n",
    "print(classification_report(ytest, clf_smpld_l1.fit(x_train_rus, y_train_rus).predict(Xtest), target_names=target_names))\n",
    "print(\"Precision-Recall Metrics of L2 Logistic Regression\\n\")\n",
    "print(classification_report(ytest, clf_smpld_l2.fit(x_train_rus, y_train_rus).predict(Xtest), target_names=target_names))"
   ]
  },
  {
   "cell_type": "markdown",
   "metadata": {},
   "source": [
    "## Undersampling and Oversampling Conclusions\n",
    "After performing undersampling and oversampling, comparing against multiple optimized logistic regression and the original dataset, it appears that oversampling performed the same compared to undersampling in precision-recall metrics, but better with accuracy measurements. **However, oversampling performed the same as the regular dataset for precision-recall metrics and worse in terms of accuracy.**\n",
    "\n",
    "For this dataset, oversampling and undersampling are not the way to go for improving performance as they do worse than using the regular dataset. From here, I can either try penalizing my logistic regression model even more for returning a '0' class, meaning no default, or I can move on to using other algorithms. Since I am not restrained to staying with a logistic regression model, I will move on to using other algorithms to classify this dataset. \n",
    "\n",
    "# A Note on K-Fold CV\n",
    "\n",
    "\n",
    "# Trying Different Algorithms\n",
    "From here, I will start with random forests, due to their ability to work with non-linear and imbalanced datasets, and then move on to either neural network model or a naive bayes classifier.\n",
    "\n",
    "I'll start with a neural network made from scratch."
   ]
  },
  {
   "cell_type": "code",
   "execution_count": null,
   "metadata": {
    "collapsed": true
   },
   "outputs": [],
   "source": []
  },
  {
   "cell_type": "code",
   "execution_count": null,
   "metadata": {
    "collapsed": true
   },
   "outputs": [],
   "source": []
  },
  {
   "cell_type": "code",
   "execution_count": null,
   "metadata": {
    "collapsed": true
   },
   "outputs": [],
   "source": []
  },
  {
   "cell_type": "code",
   "execution_count": null,
   "metadata": {
    "collapsed": true
   },
   "outputs": [],
   "source": []
  },
  {
   "cell_type": "code",
   "execution_count": null,
   "metadata": {
    "collapsed": true
   },
   "outputs": [],
   "source": []
  },
  {
   "cell_type": "code",
   "execution_count": null,
   "metadata": {
    "collapsed": true
   },
   "outputs": [],
   "source": []
  },
  {
   "cell_type": "code",
   "execution_count": null,
   "metadata": {
    "collapsed": true
   },
   "outputs": [],
   "source": []
  },
  {
   "cell_type": "code",
   "execution_count": null,
   "metadata": {
    "collapsed": true
   },
   "outputs": [],
   "source": []
  },
  {
   "cell_type": "code",
   "execution_count": null,
   "metadata": {
    "collapsed": true
   },
   "outputs": [],
   "source": []
  },
  {
   "cell_type": "code",
   "execution_count": null,
   "metadata": {
    "collapsed": true
   },
   "outputs": [],
   "source": []
  },
  {
   "cell_type": "code",
   "execution_count": null,
   "metadata": {
    "collapsed": true
   },
   "outputs": [],
   "source": []
  },
  {
   "cell_type": "code",
   "execution_count": null,
   "metadata": {
    "collapsed": true
   },
   "outputs": [],
   "source": []
  },
  {
   "cell_type": "code",
   "execution_count": 67,
   "metadata": {},
   "outputs": [
    {
     "ename": "TypeError",
     "evalue": "object of type 'NeuralNetwork' has no len()",
     "output_type": "error",
     "traceback": [
      "\u001b[0;31m---------------------------------------------------------------------------\u001b[0m",
      "\u001b[0;31mTypeError\u001b[0m                                 Traceback (most recent call last)",
      "\u001b[0;32m<ipython-input-67-7fefaa8b8cb9>\u001b[0m in \u001b[0;36m<module>\u001b[0;34m()\u001b[0m\n\u001b[1;32m     39\u001b[0m \u001b[0;34m\u001b[0m\u001b[0m\n\u001b[1;32m     40\u001b[0m \u001b[0;31m# Initialize a single neuron neural network\u001b[0m\u001b[0;34m\u001b[0m\u001b[0;34m\u001b[0m\u001b[0m\n\u001b[0;32m---> 41\u001b[0;31m \u001b[0mneural_network\u001b[0m \u001b[0;34m=\u001b[0m \u001b[0mNeuralNetwork\u001b[0m\u001b[0;34m(\u001b[0m\u001b[0;34m)\u001b[0m\u001b[0;34m\u001b[0m\u001b[0m\n\u001b[0m\u001b[1;32m     42\u001b[0m \u001b[0mprint\u001b[0m\u001b[0;34m(\u001b[0m\u001b[0;34m'Random starting synaptic weights:'\u001b[0m\u001b[0;34m)\u001b[0m\u001b[0;34m\u001b[0m\u001b[0m\n\u001b[1;32m     43\u001b[0m \u001b[0mprint\u001b[0m\u001b[0;34m(\u001b[0m\u001b[0mneural_network\u001b[0m\u001b[0;34m.\u001b[0m\u001b[0msynaptic_weights\u001b[0m\u001b[0;34m)\u001b[0m\u001b[0;34m\u001b[0m\u001b[0m\n",
      "\u001b[0;32m<ipython-input-67-7fefaa8b8cb9>\u001b[0m in \u001b[0;36m__init__\u001b[0;34m(self)\u001b[0m\n\u001b[1;32m      8\u001b[0m         \u001b[0;31m# Assign random weights to a 3 x 1 matrix, with values in the range -1 to 1\u001b[0m\u001b[0;34m\u001b[0m\u001b[0;34m\u001b[0m\u001b[0m\n\u001b[1;32m      9\u001b[0m         \u001b[0;31m# and mean 0. Change for\u001b[0m\u001b[0;34m\u001b[0m\u001b[0;34m\u001b[0m\u001b[0m\n\u001b[0;32m---> 10\u001b[0;31m         \u001b[0mself\u001b[0m\u001b[0;34m.\u001b[0m\u001b[0msynaptic_weights\u001b[0m \u001b[0;34m=\u001b[0m \u001b[0;36m2\u001b[0m\u001b[0;34m*\u001b[0m\u001b[0mnp\u001b[0m\u001b[0;34m.\u001b[0m\u001b[0mrandom\u001b[0m\u001b[0;34m.\u001b[0m\u001b[0mrandom\u001b[0m\u001b[0;34m(\u001b[0m\u001b[0;34m(\u001b[0m\u001b[0mlen\u001b[0m\u001b[0;34m(\u001b[0m\u001b[0mself\u001b[0m\u001b[0;34m)\u001b[0m\u001b[0;34m,\u001b[0m\u001b[0;36m1\u001b[0m\u001b[0;34m)\u001b[0m\u001b[0;34m)\u001b[0m \u001b[0;34m-\u001b[0m \u001b[0;36m1\u001b[0m\u001b[0;34m\u001b[0m\u001b[0m\n\u001b[0m\u001b[1;32m     11\u001b[0m \u001b[0;34m\u001b[0m\u001b[0m\n\u001b[1;32m     12\u001b[0m     \u001b[0;31m# The sigmoid functiong for classification tasks.\u001b[0m\u001b[0;34m\u001b[0m\u001b[0;34m\u001b[0m\u001b[0m\n",
      "\u001b[0;31mTypeError\u001b[0m: object of type 'NeuralNetwork' has no len()"
     ]
    }
   ],
   "source": [
    "# Creating NN Class!\n",
    "class NeuralNetwork():\n",
    "    def __init__(self):\n",
    "        # Seed the random number generator (if needed)\n",
    "#        np.random.seed(1)\n",
    "        self.rows = rows\n",
    "        # Model a single neuron, with 3 input connections and 1 output connection\n",
    "        # Assign random weights to a 3 x 1 matrix, with values in the range -1 to 1\n",
    "        # and mean 0. Change for \n",
    "        self.synaptic_weights = 2*np.random.random((len(self),1)) - 1\n",
    "    \n",
    "    # The sigmoid functiong for classification tasks.\n",
    "    # Pass weighted sum of inputs through this function\n",
    "    # to normalize between 0 and 1\n",
    "    def __sigmoid(self, x):\n",
    "        return 1/(1 + np.exp(-x))\n",
    "    \n",
    "    # Gradient of the sigmoid curve\n",
    "    def __sigmoid_derivative(self, x):\n",
    "        return x * (1-x)\n",
    "    \n",
    "    def train(self, training_set_inputs, training_set_outputs, number_of_training_iterations):\n",
    "        for iteration in range(number_of_training_iterations):\n",
    "            # pass the training set through our neural net\n",
    "            output = self.predict(training_set_inputs)\n",
    "            \n",
    "            # Calculate the error\n",
    "            error = training_set_outputs - output\n",
    "            \n",
    "            # multiply the error by the input ad again by the gradient of the sigmoid curve\n",
    "            adjustment = np.dot(training_set_inputs.T, error * self.__sigmoid_derivative(output))\n",
    "            \n",
    "            # Adjust the weights (backpropagation)\n",
    "            self.synaptic_weights += adjustment \n",
    "    \n",
    "    def predict(self, inputs):\n",
    "        #pass inputs through our neural network\n",
    "        return self.__sigmoid(np.dot(inputs, self.synaptic_weights))\n",
    "\n",
    "# Initialize a single neuron neural network\n",
    "neural_network = NeuralNetwork()\n",
    "print('Random starting synaptic weights:')\n",
    "print(neural_network.synaptic_weights)\n",
    "\n",
    "# Training set. 4 examples. each consisting of 3 input values and 1 output.\n",
    "training_set_inputs = np.array([[0,0,1],[1,1,1],[1,0,1],[0,1,1]])\n",
    "training_set_outputs = np.array([[0,1,1,0]]).T\n",
    "\n",
    "# Train NN using a training set\n",
    "# Do it 10k times and make small adjustments each time\n",
    "neural_network.train(training_set_inputs, training_set_outputs, 10000)\n",
    "\n",
    "print('New synaptic weights after training:')\n",
    "print(neural_network.synaptic_weights)\n",
    "\n",
    "# Test the NN\n",
    "print('predicting')\n",
    "print(neural_network.predict(np.array([1,0,0])))"
   ]
  },
  {
   "cell_type": "code",
   "execution_count": null,
   "metadata": {
    "collapsed": true
   },
   "outputs": [],
   "source": []
  }
 ],
 "metadata": {
  "kernelspec": {
   "display_name": "Python [conda root]",
   "language": "python",
   "name": "conda-root-py"
  }
 },
 "nbformat": 4,
 "nbformat_minor": 2
}
